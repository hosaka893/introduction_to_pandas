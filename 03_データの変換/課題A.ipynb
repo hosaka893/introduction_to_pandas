{
 "cells": [
  {
   "cell_type": "markdown",
   "metadata": {
    "tags": []
   },
   "source": [
    "### 0. 事前準備\n",
    "\n",
    "以下のデータを取得して、このノートブックと同じディレクトリにある`data`ディレクトリに配置します。\n",
    "\n",
    "__気象庁 震度データベース検索__  \n",
    "  URL:  \n",
    "　・https://www.data.jma.go.jp/svd/eqdb/data/shindo/index.html  \n",
    "  DATA:   \n",
    "　・地震リスト.csv  \n",
    "  データ抽出方法:  \n",
    "  　以下の条件で絞りこんでCSVダウンロードします。\n",
    "\n",
    "  ・検索順「発生日時の古い順」  \n",
    "  ・地震の発生日時・最大震度  \n",
    "　  - 地震の発生日時「全期間」  \n",
    "　  - 「最大震度１以上」  \n",
    "  ・観測された震度  \n",
    "　  - 都道府県：東京都  \n",
    "　  - 市町村：無条件  \n",
    "　  - 観測点：無条件  \n",
    "　  - 上記で「震度４以上」を観測  \n",
    "  ダウンロード方法:  \n",
    "  　ページ右上にある三本線のアイコンをクリックしてデータの一覧を表示し、一覧の末尾の「CSVダウンロード」を押します。"
   ]
  },
  {
   "cell_type": "code",
   "execution_count": null,
   "metadata": {},
   "outputs": [],
   "source": [
    "%matplotlib inline\n",
    "\n",
    "import branca.colormap as cm\n",
    "from decimal import Decimal, ROUND_HALF_UP\n",
    "import folium\n",
    "from geopy.distance import geodesic\n",
    "import matplotlib as mpl\n",
    "import matplotlib.pyplot as plt\n",
    "import math\n",
    "import numpy as np\n",
    "import pandas as pd\n",
    "import seaborn as sns"
   ]
  },
  {
   "cell_type": "code",
   "execution_count": null,
   "metadata": {},
   "outputs": [],
   "source": []
  },
  {
   "cell_type": "markdown",
   "metadata": {},
   "source": [
    "### 1. データ型の変換"
   ]
  },
  {
   "cell_type": "markdown",
   "metadata": {},
   "source": [
    "地震データをロード。"
   ]
  },
  {
   "cell_type": "code",
   "execution_count": null,
   "metadata": {},
   "outputs": [],
   "source": [
    "earthquake_tokyo_df = pd.read_csv('data/地震リスト.csv')\n",
    "\n",
    "len(earthquake_tokyo_df)"
   ]
  },
  {
   "cell_type": "markdown",
   "metadata": {},
   "source": [
    "中身を確認。\n",
    "\n",
    "どんなデータがありますか？"
   ]
  },
  {
   "cell_type": "code",
   "execution_count": null,
   "metadata": {},
   "outputs": [],
   "source": [
    "earthquake_tokyo_df.head(20)"
   ]
  },
  {
   "cell_type": "markdown",
   "metadata": {},
   "source": [
    "データの型と欠損を確認。"
   ]
  },
  {
   "cell_type": "code",
   "execution_count": null,
   "metadata": {},
   "outputs": [],
   "source": [
    "earthquake_tokyo_df.info()"
   ]
  },
  {
   "cell_type": "markdown",
   "metadata": {},
   "source": [
    "#### 1-1. 日時型への変換\n",
    "\n",
    "まずは日付の変換をします。"
   ]
  },
  {
   "cell_type": "markdown",
   "metadata": {},
   "source": [
    "`地震の発生日`は日時型ではないようですので日付のフォーマットを指定して日時型に変換し、新たな列の`occurance_date`に格納します。\n",
    "\n",
    "参考）  \n",
    "strftime() と strptime() の振る舞い  \n",
    "https://docs.python.org/ja/3/library/datetime.html#strftime-and-strptime-behavior"
   ]
  },
  {
   "cell_type": "code",
   "execution_count": null,
   "metadata": {},
   "outputs": [],
   "source": [
    "try:\n",
    "    earthquake_tokyo_df['occurance_date'] = pd.to_datetime(earthquake_tokyo_df['地震の発生日'], format=\"%Y/%m/%d\")\n",
    "except ValueError as e:\n",
    "    print(e)"
   ]
  },
  {
   "cell_type": "markdown",
   "metadata": {},
   "source": [
    "変換でエラーが発生していまいました。\n",
    "\n",
    "フォーマットに問題があるようですが、まとめて確認したいので、引数`errors='coerce'`を指定して再実行します。\n",
    "\n",
    "参考）  \n",
    "pandas.to_datetime  \n",
    "https://pandas.pydata.org/docs/reference/api/pandas.to_datetime.html"
   ]
  },
  {
   "cell_type": "code",
   "execution_count": null,
   "metadata": {},
   "outputs": [],
   "source": [
    "earthquake_tokyo_df['occurance_date'] = pd.to_datetime(earthquake_tokyo_df['地震の発生日'], format=\"%Y/%m/%d\", \\\n",
    "                                                       errors='coerce')\n",
    "\n",
    "earthquake_tokyo_df['occurance_date']"
   ]
  },
  {
   "cell_type": "markdown",
   "metadata": {},
   "source": [
    "変換失敗数を確認。\n",
    "\n",
    "失敗はNA（Not Assigned）であるかで判断します。"
   ]
  },
  {
   "cell_type": "code",
   "execution_count": null,
   "metadata": {},
   "outputs": [],
   "source": [
    "print(\"「地震の発生日」のNA数:\", earthquake_tokyo_df['地震の発生日'].isna().sum())\n",
    "print(\"「occurance_date」のNA数:\", earthquake_tokyo_df['occurance_date'].isna().sum())"
   ]
  },
  {
   "cell_type": "markdown",
   "metadata": {},
   "source": [
    "失敗があるようなので、どんなデータで失敗しているかを確認。"
   ]
  },
  {
   "cell_type": "code",
   "execution_count": null,
   "metadata": {},
   "outputs": [],
   "source": [
    "earthquake_tokyo_df[earthquake_tokyo_df['occurance_date'].isna()]['地震の発生日']"
   ]
  },
  {
   "cell_type": "code",
   "execution_count": null,
   "metadata": {},
   "outputs": [],
   "source": [
    "earthquake_tokyo_df"
   ]
  },
  {
   "cell_type": "markdown",
   "metadata": {},
   "source": [
    "フォーマットが分かったので、個々のデータの型で判定して失敗したものだけを再変換します。\n",
    "\n",
    "手順としては以下のようになります。\n",
    "1. 各行を引数として受け取る関数を作成し、欠損値の場合は`地震の発生日`列のデータを変換、そうでない場合はそのままの値を返す。\n",
    "\n",
    "2. 作成した関数を`apply()`に引数として渡して実行する。"
   ]
  },
  {
   "cell_type": "markdown",
   "metadata": {},
   "source": [
    "まずは各行を引数として受け取る関数を作成します。\n",
    "\n",
    "欠損値の判定には`pd.isnull()`を利用します。"
   ]
  },
  {
   "cell_type": "code",
   "execution_count": null,
   "metadata": {},
   "outputs": [],
   "source": [
    "### チャレンジしてみましょう！！ ###"
   ]
  },
  {
   "cell_type": "markdown",
   "metadata": {},
   "source": [
    "作成した関数と`axis=1`を`apply()`に引数として渡して実行します。\n",
    "\n",
    "`axis=1`を指定することで行ごとに処理が実行されるようになります。"
   ]
  },
  {
   "cell_type": "code",
   "execution_count": null,
   "metadata": {},
   "outputs": [],
   "source": [
    "### チャレンジしてみましょう！！ ###"
   ]
  },
  {
   "cell_type": "markdown",
   "metadata": {},
   "source": [
    "無名関数を渡して`apply()`を実行することも可能です。"
   ]
  },
  {
   "cell_type": "code",
   "execution_count": null,
   "metadata": {},
   "outputs": [],
   "source": [
    "earthquake_tokyo_df['occurance_date'] = earthquake_tokyo_df.apply(\n",
    "    lambda x: pd.to_datetime(x['地震の発生日'], format=\"%Y年%m月\") if pd.isnull(x['occurance_date']) \\\n",
    "                else x['occurance_date'], axis=1)\n",
    "\n",
    "earthquake_tokyo_df['occurance_date']"
   ]
  },
  {
   "cell_type": "markdown",
   "metadata": {},
   "source": [
    "もう一度NAがないか確認。"
   ]
  },
  {
   "cell_type": "code",
   "execution_count": null,
   "metadata": {},
   "outputs": [],
   "source": [
    "earthquake_tokyo_df['occurance_date'].isna().sum()"
   ]
  },
  {
   "cell_type": "markdown",
   "metadata": {},
   "source": [
    "#### 1-2. 数値型への変換"
   ]
  },
  {
   "cell_type": "markdown",
   "metadata": {},
   "source": [
    "次に`Ｍ`（マグニチュード）を`np.float64`型を指定して変換し、新たな列`magnitude`に格納します。\n",
    "\n",
    "`astype()`にPythonの`float`型を指定することもできますが、その場合は自動で環境に合わせた`dtype`に変換されます。"
   ]
  },
  {
   "cell_type": "code",
   "execution_count": null,
   "metadata": {},
   "outputs": [],
   "source": [
    "try:\n",
    "    earthquake_tokyo_df['magnitude'] = earthquake_tokyo_df['Ｍ'].astype(np.float64)\n",
    "except ValueError as e:\n",
    "    print(e)"
   ]
  },
  {
   "cell_type": "markdown",
   "metadata": {},
   "source": [
    "「不明」というデータが混ざっているため、エラーとなってしまいました。\n",
    "\n",
    "「不明」を`np.nan`にしてから変換してみます。"
   ]
  },
  {
   "cell_type": "code",
   "execution_count": null,
   "metadata": {},
   "outputs": [],
   "source": [
    "earthquake_tokyo_df['magnitude'] = earthquake_tokyo_df['Ｍ'].replace('不明', np.nan).astype(np.float64)\n",
    "\n",
    "earthquake_tokyo_df['magnitude']"
   ]
  },
  {
   "cell_type": "markdown",
   "metadata": {},
   "source": [
    "#### 1-3. 文字列型からカテゴリ型への変換"
   ]
  },
  {
   "cell_type": "markdown",
   "metadata": {},
   "source": [
    "今度は集計やグラフで使いやすいよう、`最大震度`をカテゴリ型に変換します。\n",
    "\n",
    "カテゴリ数が少ない場合、カテゴリ型に変換することでデータのサイズを小さくすることができます。"
   ]
  },
  {
   "cell_type": "markdown",
   "metadata": {},
   "source": [
    "どんなデータがどの程度入っているか確認。"
   ]
  },
  {
   "cell_type": "code",
   "execution_count": null,
   "metadata": {},
   "outputs": [],
   "source": [
    "earthquake_tokyo_df['最大震度'].value_counts()"
   ]
  },
  {
   "cell_type": "markdown",
   "metadata": {},
   "source": [
    "数も少なく、カテゴリ分けするには丁度よさそうな感じです。\n",
    "\n",
    "カテゴリ型に変換し、新しい列`max_intensity`に格納します。"
   ]
  },
  {
   "cell_type": "code",
   "execution_count": null,
   "metadata": {},
   "outputs": [],
   "source": [
    "earthquake_tokyo_df['max_intensity'] = earthquake_tokyo_df['最大震度'].astype('category')\n",
    "\n",
    "earthquake_tokyo_df['max_intensity']"
   ]
  },
  {
   "cell_type": "markdown",
   "metadata": {},
   "source": [
    "カテゴリ型に変換はできたようなのですが、カテゴリの順序に少々問題があります。  \n",
    "震度は階級なので、順番を考慮する必要があります。\n",
    "\n",
    "参考）  \n",
    "気象庁 震度について  \n",
    "https://www.jma.go.jp/jma/kishou/know/shindo/index.html"
   ]
  },
  {
   "cell_type": "code",
   "execution_count": null,
   "metadata": {},
   "outputs": [],
   "source": [
    "earthquake_tokyo_df['max_intensity'].cat.categories"
   ]
  },
  {
   "cell_type": "markdown",
   "metadata": {},
   "source": [
    "`reorder_categories()`で順番を整えます。"
   ]
  },
  {
   "cell_type": "code",
   "execution_count": null,
   "metadata": {},
   "outputs": [],
   "source": [
    "earthquake_tokyo_df['max_intensity'] = earthquake_tokyo_df['max_intensity'].cat.reorder_categories( \\\n",
    "                                ['震度４', '震度５弱', '震度５', '震度５強', '震度６弱', '震度６', '震度６強', '震度７'])\n",
    "\n",
    "earthquake_tokyo_df['max_intensity'].cat.categories"
   ]
  },
  {
   "cell_type": "markdown",
   "metadata": {},
   "source": [
    "`max_intensity`列をソートすると、インデックスの順にソートされるようになりました。"
   ]
  },
  {
   "cell_type": "code",
   "execution_count": null,
   "metadata": {},
   "outputs": [],
   "source": [
    "earthquake_tokyo_df['max_intensity'].sort_values()[495:505]"
   ]
  },
  {
   "cell_type": "markdown",
   "metadata": {},
   "source": [
    "使い方にやや癖がありますが、`add_categories()`で元々データになかったカテゴリを追加することもできます。\n",
    "\n",
    "参考）  \n",
    "Appending new categories  \n",
    "https://pandas.pydata.org/pandas-docs/stable/user_guide/categorical.html#appending-new-categories"
   ]
  },
  {
   "cell_type": "code",
   "execution_count": null,
   "metadata": {},
   "outputs": [],
   "source": [
    "earthquake_tokyo_df['max_intensity'] = earthquake_tokyo_df['max_intensity'].cat.add_categories(['震度Ｘ'])\n",
    "\n",
    "earthquake_tokyo_df['max_intensity'].cat.categories"
   ]
  },
  {
   "cell_type": "markdown",
   "metadata": {},
   "source": [
    "カテゴリが存在する場合、グループ化した場合にデータがなくてもカテゴリがすべてインデックスとして出力されます。"
   ]
  },
  {
   "cell_type": "code",
   "execution_count": null,
   "metadata": {},
   "outputs": [],
   "source": [
    "earthquake_tokyo_groupby_max_intensity = earthquake_tokyo_df.groupby('max_intensity') \\\n",
    ".agg(発生回数=('occurance_date', 'count'))\n",
    "\n",
    "earthquake_tokyo_groupby_max_intensity"
   ]
  },
  {
   "cell_type": "markdown",
   "metadata": {},
   "source": [
    "カテゴリの削除も同様にします。"
   ]
  },
  {
   "cell_type": "code",
   "execution_count": null,
   "metadata": {},
   "outputs": [],
   "source": [
    "earthquake_tokyo_df['max_intensity'] = earthquake_tokyo_df['max_intensity'].cat.remove_categories(['震度Ｘ'])\n",
    "\n",
    "earthquake_tokyo_df['max_intensity'].cat.categories"
   ]
  },
  {
   "cell_type": "markdown",
   "metadata": {},
   "source": [
    "#### 1-4. 日時型からカテゴリ型への変換"
   ]
  },
  {
   "cell_type": "markdown",
   "metadata": {},
   "source": [
    "最後に、年代ごとの地震の発生回数を分析しましょう。\n",
    "\n",
    "地震の発生日時を10年単位の年代に区分けしてカテゴリを作成し、新しい列`occurance_decade`に格納します。\n",
    "\n",
    "カテゴリの作成手順は以下です。\n",
    "\n",
    "1. `occurance_date`から年を抽出\n",
    "2. 10で割って小数点以下を切り捨て\n",
    "3. 再び10を掛ける\n",
    "4. カテゴリ型に変換"
   ]
  },
  {
   "cell_type": "code",
   "execution_count": null,
   "metadata": {
    "scrolled": false
   },
   "outputs": [],
   "source": [
    "earthquake_tokyo_df[\"occurance_decade\"] = (earthquake_tokyo_df[\"occurance_date\"].dt.year // 10 * 10) \\\n",
    "                                           .astype('category')\n",
    "\n",
    "earthquake_tokyo_df.head(40)"
   ]
  },
  {
   "cell_type": "markdown",
   "metadata": {},
   "source": [
    "では年代、最大震度でグループ化し、地震の発生回数を取得します。"
   ]
  },
  {
   "cell_type": "code",
   "execution_count": null,
   "metadata": {},
   "outputs": [],
   "source": [
    "earthquake_tokyo_group_by_decade = earthquake_tokyo_df \\\n",
    "                                    .groupby(['occurance_decade', 'max_intensity']) \\\n",
    "                                    .agg(回数=('occurance_date', 'count'))\n",
    "\n",
    "earthquake_tokyo_group_by_decade"
   ]
  },
  {
   "cell_type": "markdown",
   "metadata": {},
   "source": [
    "グラフで表示してみましょう。\n",
    "\n",
    "どんなことが読み取れますか？"
   ]
  },
  {
   "cell_type": "code",
   "execution_count": null,
   "metadata": {},
   "outputs": [],
   "source": [
    "sns.set(style='whitegrid', font=['MS Gothic','Hiragino Sans']) # 日本語フォントは設定が必要\n",
    "\n",
    "fig, ax = plt.subplots(figsize=(20, 10))\n",
    "\n",
    "sns.lineplot(data=earthquake_tokyo_group_by_decade, x=\"occurance_decade\", y=\"回数\", hue=\"max_intensity\")\n",
    "\n",
    "ax.legend(loc=\"upper left\", bbox_to_anchor=(1.01, 1.005))"
   ]
  },
  {
   "cell_type": "code",
   "execution_count": null,
   "metadata": {},
   "outputs": [],
   "source": []
  },
  {
   "cell_type": "markdown",
   "metadata": {},
   "source": [
    "### 2. 位置座標の変換"
   ]
  },
  {
   "cell_type": "markdown",
   "metadata": {},
   "source": [
    "震央地を地図上で表示できるよう、位置座標の変換を行います。\n",
    "\n",
    "まずはデータを確認。"
   ]
  },
  {
   "cell_type": "code",
   "execution_count": null,
   "metadata": {},
   "outputs": [],
   "source": [
    "earthquake_tokyo_df[['緯度','経度']].head()"
   ]
  },
  {
   "cell_type": "markdown",
   "metadata": {},
   "source": [
    "#### 2-1. 度分から度への変換"
   ]
  },
  {
   "cell_type": "markdown",
   "metadata": {},
   "source": [
    "フォーマットと「度・分」表記であることが分かりました。\n",
    "\n",
    "数値抽出のための正規表現を作り、列の中でマッチしないデータがないか確認します。"
   ]
  },
  {
   "cell_type": "code",
   "execution_count": null,
   "metadata": {},
   "outputs": [],
   "source": [
    "regex = r'^(\\d+)°(\\d+\\.\\d)′\\w$'\n",
    "\n",
    "(~earthquake_tokyo_df['緯度'].str.match(regex)).sum()"
   ]
  },
  {
   "cell_type": "markdown",
   "metadata": {},
   "source": [
    "マッチしないデータを確認。"
   ]
  },
  {
   "cell_type": "code",
   "execution_count": null,
   "metadata": {
    "scrolled": true
   },
   "outputs": [],
   "source": [
    "earthquake_tokyo_df[~earthquake_tokyo_df['緯度'].str.match(regex)][['緯度', '経度']].head()"
   ]
  },
  {
   "cell_type": "markdown",
   "metadata": {},
   "source": [
    "「不明」以外ないか確認。"
   ]
  },
  {
   "cell_type": "code",
   "execution_count": null,
   "metadata": {
    "tags": []
   },
   "outputs": [],
   "source": [
    "earthquake_tokyo_df[earthquake_tokyo_df['緯度'] == '不明']['緯度'].count()"
   ]
  },
  {
   "cell_type": "markdown",
   "metadata": {},
   "source": [
    "ないようなので、「不明」を`np.nan`に置き換えてから列の中の数値抽出をおこないます。"
   ]
  },
  {
   "cell_type": "code",
   "execution_count": null,
   "metadata": {},
   "outputs": [],
   "source": [
    "latitude = (earthquake_tokyo_df['緯度'].replace('不明', np.nan).str.extract(regex)).astype(np.float64)\n",
    "latitude.rename(columns={0:'deg', 1:'min'}, inplace=True)\n",
    "\n",
    "latitude.head()"
   ]
  },
  {
   "cell_type": "markdown",
   "metadata": {},
   "source": [
    "経度の数値も同じように抽出します。"
   ]
  },
  {
   "cell_type": "code",
   "execution_count": null,
   "metadata": {},
   "outputs": [],
   "source": [
    "longitude = (earthquake_tokyo_df['経度'].replace('不明', np.nan).str.extract(regex)).astype(np.float64)\n",
    "longitude.rename(columns={0:'deg', 1:'min'}, inplace=True)\n",
    "\n",
    "longitude.head()"
   ]
  },
  {
   "cell_type": "markdown",
   "metadata": {},
   "source": [
    "先に度分を度に変換する関数を定義します。\n",
    "\n",
    "参考）  \n",
    "Pythonで度と度分秒を相互に変換する  \n",
    "https://www.odndo.com/posts/python-survey-deg-dms/"
   ]
  },
  {
   "cell_type": "code",
   "execution_count": null,
   "metadata": {},
   "outputs": [],
   "source": [
    "def dm2deg(deg, min):\n",
    "    \"\"\"度分を度に変換。\n",
    "\n",
    "    Args:\n",
    "        deg (float64): 度。\n",
    "        min (float64): 分。\n",
    "        \n",
    "    Returns:\n",
    "        float64: 変換後の度。\n",
    "    \"\"\"\n",
    "    \n",
    "    return np.float64(Decimal(str(deg + (min / 60))).quantize(Decimal('0.0001'), rounding=ROUND_HALF_UP))"
   ]
  },
  {
   "cell_type": "markdown",
   "metadata": {},
   "source": [
    "度分を度に変換し、新しい列`latitude`と`longitude`に格納します。"
   ]
  },
  {
   "cell_type": "code",
   "execution_count": null,
   "metadata": {},
   "outputs": [],
   "source": [
    "earthquake_tokyo_df['latitude'] = latitude.apply(lambda x: dm2deg(x['deg'], x['min']), axis=1)\n",
    "earthquake_tokyo_df['longitude'] = longitude.apply(lambda x: dm2deg(x['deg'], x['min']), axis=1)\n",
    "\n",
    "earthquake_tokyo_df[['latitude', 'longitude']]"
   ]
  },
  {
   "cell_type": "markdown",
   "metadata": {},
   "source": [
    "#### 2-2. 位置座標から二点間距離への変換"
   ]
  },
  {
   "cell_type": "markdown",
   "metadata": {},
   "source": [
    "地球の表面上での最短距離を意味する「測地線距離」の計算手法はHubeny、Haversine、Vincenty、Karneyなど色々あるようですが、今回はKarneyで計算します。\n",
    "\n",
    "参考）  \n",
    "緯度経度から距離を算出するPythonのライブラリ ― GeoPy  \n",
    "https://h-memo.com/python-geopy-distance/"
   ]
  },
  {
   "cell_type": "markdown",
   "metadata": {},
   "source": [
    "試しに東京駅から新宿駅までの距離を計算してみます。"
   ]
  },
  {
   "cell_type": "code",
   "execution_count": null,
   "metadata": {},
   "outputs": [],
   "source": [
    "# 東京駅座標\n",
    "tokyo_station_coords = (35.6812, 139.7671)\n",
    "\n",
    "# 新宿駅座標\n",
    "shinjuku_station_coords = (35.6896, 139.7006)\n",
    "\n",
    "print(f\"{round(geodesic(tokyo_station_coords, shinjuku_station_coords).km, 2)}km\")"
   ]
  },
  {
   "cell_type": "markdown",
   "metadata": {},
   "source": [
    "なお、Googleマップで距離を確認するには、始点となる場所で右クリックをしてメニューを表示し「距離を測定」を選択、その後地図上で終点をクリックします。\n",
    "\n",
    "参考）  \n",
    "Googleマップ 東京駅  \n",
    "https://maps.google.co.jp/maps?ll=35.6812,139.7671"
   ]
  },
  {
   "cell_type": "code",
   "execution_count": null,
   "metadata": {},
   "outputs": [],
   "source": [
    "### チャレンジしてみましょう！！ ###"
   ]
  },
  {
   "cell_type": "markdown",
   "metadata": {},
   "source": [
    "それでは各位置座標から東京駅までの距離を取得し、新たな列`distance_from_tokyo`に格納します。\n",
    "\n",
    "まずは各行を引数として受け取る関数を作成します。\n",
    "\n",
    "欠損値の判定には`pd.isnull()`を利用します。"
   ]
  },
  {
   "cell_type": "code",
   "execution_count": null,
   "metadata": {},
   "outputs": [],
   "source": [
    "### チャレンジしてみましょう！！ ###"
   ]
  },
  {
   "cell_type": "markdown",
   "metadata": {},
   "source": [
    "作成した関数と`axis=1`を`apply()`に引数として渡して実行します。\n",
    "\n",
    "`axis=1`を指定することで行ごとに処理が実行されるようになります。"
   ]
  },
  {
   "cell_type": "code",
   "execution_count": null,
   "metadata": {},
   "outputs": [],
   "source": [
    "### チャレンジしてみましょう！！ ###"
   ]
  },
  {
   "cell_type": "markdown",
   "metadata": {},
   "source": [
    "無名関数を渡して`apply()`を実行することも可能です。"
   ]
  },
  {
   "cell_type": "code",
   "execution_count": null,
   "metadata": {},
   "outputs": [],
   "source": [
    "earthquake_tokyo_df['distance_from_tokyo'] = earthquake_tokyo_df.apply(\n",
    "    lambda x: np.nan if pd.isnull(x['latitude'])\n",
    "                else round(geodesic(tokyo_station_coords, (x['latitude'], x['longitude'])).km, 2), axis=1)\n",
    "\n",
    "earthquake_tokyo_df['distance_from_tokyo']"
   ]
  },
  {
   "cell_type": "code",
   "execution_count": null,
   "metadata": {},
   "outputs": [],
   "source": []
  },
  {
   "cell_type": "markdown",
   "metadata": {},
   "source": [
    "### 3. 地図上にデータを表示\n",
    "\n",
    "ここでは、震央地を以下のルールに沿って地図上に表示してみます。\n",
    "- 震度５弱以上が対象。\n",
    "- 各震央地に円を配置。\n",
    "- 東京での震度で色分けする。\n",
    "- マグニチュードのエネルギーの大きさに合わせて円を大きくする。"
   ]
  },
  {
   "cell_type": "markdown",
   "metadata": {},
   "source": [
    "対象となるデータを用意します。"
   ]
  },
  {
   "cell_type": "code",
   "execution_count": null,
   "metadata": {},
   "outputs": [],
   "source": [
    "earthquake_tokyo_for_map_df = earthquake_tokyo_df[earthquake_tokyo_df['最大震度'] >= '震度５'] \\\n",
    "                                .dropna(subset=['latitude']) \\\n",
    "                                .sort_values('Ｍ', ascending=False) # 円が重なってもクリックできるようにする。\n",
    "\n",
    "len(earthquake_tokyo_for_map_df)"
   ]
  },
  {
   "cell_type": "markdown",
   "metadata": {},
   "source": [
    "次に震度の色分けの準備をします。\n",
    "\n",
    "震度は階級なので、連続性のある色のセットを選びます。\n",
    "\n",
    "ウィジェットを使いながら色を決めましょう。"
   ]
  },
  {
   "cell_type": "code",
   "execution_count": null,
   "metadata": {
    "tags": []
   },
   "outputs": [],
   "source": [
    "sns.choose_colorbrewer_palette('sequential'); # セミコロンで文字列の出力を抑える。"
   ]
  },
  {
   "cell_type": "markdown",
   "metadata": {},
   "source": [
    "今回は赤にしておきます。"
   ]
  },
  {
   "cell_type": "code",
   "execution_count": null,
   "metadata": {},
   "outputs": [],
   "source": [
    "# 16進数カラーコードを生成。\n",
    "color_reds = sns.color_palette(\"Reds\", len(earthquake_tokyo_for_map_df['max_intensity'].cat.categories)).as_hex()\n",
    "\n",
    "# 色のセットを確認。\n",
    "sns.palplot(color_reds)"
   ]
  },
  {
   "cell_type": "markdown",
   "metadata": {},
   "source": [
    "最後に地震のエネルギーの大きさです。\n",
    "\n",
    "普段よく使われるマグニチュードというのは実は対数値です。  \n",
    "今回は実際のエネルギーの大きさに変換して利用し、その大きさを実感できるようにします。\n",
    "\n",
    "地震が発するエネルギーの大きさを`E`（単位：ジュール）、マグニチュードを`M`とすると、次の関係があります。\n",
    "\n",
    "$ \\log_{10}E = 4.8 + 1.5M $\n",
    "\n",
    "これを関数にしてみましょう。"
   ]
  },
  {
   "cell_type": "code",
   "execution_count": null,
   "metadata": {},
   "outputs": [],
   "source": [
    "def magnitude_to_joules(magnitude):\n",
    "    \"\"\"マグニチュードをエネルギーの大きさ（ジュール）に変換。\n",
    "\n",
    "    Args:\n",
    "        magnitude (float64): マグニチュード。\n",
    "        \n",
    "    Returns:\n",
    "        float64: エネルギーの大きさ（ジュール）。\n",
    "    \"\"\"\n",
    "    return 10 ** (4.8 + 1.5 * magnitude)"
   ]
  },
  {
   "cell_type": "markdown",
   "metadata": {},
   "source": [
    "この関数を使って各地震のエネルギーの大きさを取得し、新たな列`energy`に格納します。"
   ]
  },
  {
   "cell_type": "code",
   "execution_count": null,
   "metadata": {},
   "outputs": [],
   "source": [
    "earthquake_tokyo_for_map_df['energy'] = earthquake_tokyo_for_map_df['magnitude'].apply(magnitude_to_joules)\n",
    "\n",
    "earthquake_tokyo_for_map_df['energy']"
   ]
  },
  {
   "cell_type": "markdown",
   "metadata": {},
   "source": [
    "それでは地図上に表示します。\n",
    "\n",
    "どんなことが読み取れますか？"
   ]
  },
  {
   "cell_type": "code",
   "execution_count": null,
   "metadata": {},
   "outputs": [],
   "source": [
    "max_intensity_list = earthquake_tokyo_for_map_df['max_intensity'].cat.categories.to_list()\n",
    "\n",
    "map = folium.Map(location=tokyo_station_coords, zoom_start=5, tiles=\"cartodbpositron\") # 地味な地図を選択。\n",
    "\n",
    "for i, row in earthquake_tokyo_for_map_df.iterrows():\n",
    "\n",
    "    popup_message_html = f\"\"\"\n",
    "    <p>震央地名: {row['震央地名']}</p>\n",
    "    <p>地震の発生日: {row['地震の発生日']}</p>\n",
    "    <p>マグニチュード: {row['Ｍ']}</p>\n",
    "    <p>深さ: {row['深さ']}</p>\n",
    "    <p>東京都での最大震度: {row['最大震度']}</p>\n",
    "    <p>東京都からの距離: {row['distance_from_tokyo']:,}km</p>\n",
    "    \"\"\"\n",
    "    popup = folium.Popup(folium.IFrame(popup_message_html), min_width=400, max_width=400)\n",
    "    \n",
    "    color = color_reds[max_intensity_list.index(row['max_intensity'])]\n",
    "    \n",
    "    folium.Circle(location=(row['latitude'], row['longitude']),\n",
    "                  radius=row['energy'] / 10**12.5,\n",
    "                  color=color,\n",
    "                  fill_color=color,\n",
    "                  weight=1.5,\n",
    "                  popup=popup\n",
    "                 ).add_to(map)\n",
    "    \n",
    "display(map)\n",
    "\n",
    "# 簡単なカラーバーを表示\n",
    "print(\"\", \" \".join(earthquake_tokyo_for_map_df['max_intensity'].cat.categories))\n",
    "sns.palplot(color_reds)"
   ]
  },
  {
   "cell_type": "code",
   "execution_count": null,
   "metadata": {},
   "outputs": [],
   "source": []
  }
 ],
 "metadata": {
  "interpreter": {
   "hash": "d109c1022d0269bfeb1214b0bec2187ee8bc4e794779a7e71ed964fc39a480b6"
  },
  "kernelspec": {
   "display_name": "Python 3 (ipykernel)",
   "language": "python",
   "name": "python3"
  },
  "language_info": {
   "codemirror_mode": {
    "name": "ipython",
    "version": 3
   },
   "file_extension": ".py",
   "mimetype": "text/x-python",
   "name": "python",
   "nbconvert_exporter": "python",
   "pygments_lexer": "ipython3",
   "version": "3.9.9"
  }
 },
 "nbformat": 4,
 "nbformat_minor": 4
}
