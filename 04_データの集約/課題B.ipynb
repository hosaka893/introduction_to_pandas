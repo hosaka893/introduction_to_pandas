{
 "cells": [
  {
   "cell_type": "markdown",
   "metadata": {},
   "source": [
    "### 0. 事前準備\n",
    "\n",
    "以下のデータを取得して、このノートブックと同じディレクトリにある`data`ディレクトリに配置します。\n",
    "\n",
    "__UNESCO Syndication__  \n",
    "  URL:  \n",
    "  ・https://whc.unesco.org/en/syndication    \n",
    "  DATA:  \n",
    "  ・whc-sites-2021.xls  \n",
    "  データの取得方法:  \n",
    "    「The List」にある「XLS」リンクをクリックします。"
   ]
  },
  {
   "cell_type": "code",
   "execution_count": null,
   "metadata": {},
   "outputs": [],
   "source": [
    "%matplotlib inline\n",
    "\n",
    "import matplotlib.pyplot as plt\n",
    "import numpy as np\n",
    "import pandas as pd\n",
    "import plotly.express as px\n",
    "import plotly.io as pio\n",
    "import requests\n",
    "import seaborn as sns"
   ]
  },
  {
   "cell_type": "markdown",
   "metadata": {},
   "source": [
    "`plotly`のグラフが表示されない場合、デフォルトのrendererの設定を変更します。"
   ]
  },
  {
   "cell_type": "code",
   "execution_count": null,
   "metadata": {},
   "outputs": [],
   "source": [
    "pio.renderers"
   ]
  },
  {
   "cell_type": "markdown",
   "metadata": {},
   "source": [
    "たとえばJupyter Notebookで`plotly`のグラフが表示されない場合は`'notebook'`を設定します。\n",
    "\n",
    "参考）  \n",
    "Jupyter Classic Notebook Problems  \n",
    "https://plotly.com/python/troubleshooting/#jupyter-notebook-classic-problems"
   ]
  },
  {
   "cell_type": "code",
   "execution_count": null,
   "metadata": {},
   "outputs": [],
   "source": [
    "# pio.renderers.default='notebook'"
   ]
  },
  {
   "cell_type": "markdown",
   "metadata": {},
   "source": [
    "ノートブックのレイアウト定義。"
   ]
  },
  {
   "cell_type": "code",
   "execution_count": null,
   "metadata": {},
   "outputs": [],
   "source": [
    "%%html\n",
    "<style>\n",
    "  table {margin-left: 0 !important;} # markdownの表を左寄せにする。\n",
    "</style>"
   ]
  },
  {
   "cell_type": "code",
   "execution_count": null,
   "metadata": {},
   "outputs": [],
   "source": []
  },
  {
   "cell_type": "markdown",
   "metadata": {},
   "source": [
    "### 1. データの概要を掴む"
   ]
  },
  {
   "cell_type": "markdown",
   "metadata": {},
   "source": [
    "世界遺産データをロード。"
   ]
  },
  {
   "cell_type": "code",
   "execution_count": null,
   "metadata": {},
   "outputs": [],
   "source": [
    "world_heritage_df = pd.read_excel('data/whc-sites-2021.xls')\n",
    "\n",
    "len(world_heritage_df)"
   ]
  },
  {
   "cell_type": "markdown",
   "metadata": {},
   "source": [
    "データの中身を確認。"
   ]
  },
  {
   "cell_type": "code",
   "execution_count": null,
   "metadata": {},
   "outputs": [],
   "source": [
    "world_heritage_df['danger_list']"
   ]
  },
  {
   "cell_type": "code",
   "execution_count": null,
   "metadata": {},
   "outputs": [],
   "source": [
    "world_heritage_df.head()"
   ]
  },
  {
   "cell_type": "markdown",
   "metadata": {},
   "source": [
    "各列の状況を`info()`で確認。\n",
    "\n",
    "各列が何を意味しているか分かりますか？\n",
    "\n",
    "参考）  \n",
    "・Template:UNESCO World Heritage Site row/doc  \n",
    "　https://en.wikipedia.org/wiki/Template:UNESCO_World_Heritage_Site_row/doc\n",
    "\n",
    "・UNESCO The Criteria for Selection  \n",
    "　https://whc.unesco.org/en/criteria/\n",
    "\n",
    "・日本ユネスコ協会連盟 登録の基準  \n",
    "　https://www.unesco.or.jp/activities/isan/decides/"
   ]
  },
  {
   "cell_type": "code",
   "execution_count": null,
   "metadata": {
    "scrolled": false
   },
   "outputs": [],
   "source": [
    "world_heritage_df.info()"
   ]
  },
  {
   "cell_type": "markdown",
   "metadata": {},
   "source": [
    "また、どんな世界遺産があるのかUNESCOのサイトで確認してみましょう。  \n",
    "`states_name_en`列にある任意の国名で絞って`id_no`を取得し、ギャラリーへのリンクのリストを作成してみます。  \n",
    "\n",
    "まず`states_name_en`にどんな国名があるか`unique()`で確認します。"
   ]
  },
  {
   "cell_type": "code",
   "execution_count": null,
   "metadata": {},
   "outputs": [],
   "source": [
    "world_heritage_df['states_name_en'].unique()"
   ]
  },
  {
   "cell_type": "markdown",
   "metadata": {},
   "source": [
    "複数の国に跨っているケースがあって、その場合はカンマ区切りになっているようなので、それぞれを独立した行にしてしまいます。\n",
    "\n",
    "手順は以下です。  \n",
    "1.`states_name_en`列の値を行ごとにカンマで分割してリストにし、新たな列`single_country`に格納。  \n",
    "2.`single_country`列に`explode()`を実行し、リストの要素ごとの行を作成する。"
   ]
  },
  {
   "cell_type": "markdown",
   "metadata": {},
   "source": [
    "まず列`single_country`にリストを格納します。"
   ]
  },
  {
   "cell_type": "code",
   "execution_count": null,
   "metadata": {},
   "outputs": [],
   "source": [
    "world_heritage_df = world_heritage_df \\\n",
    "                     .assign(single_country = world_heritage_df['states_name_en'].str.split(','))\n",
    "\n",
    "world_heritage_df['single_country']"
   ]
  },
  {
   "cell_type": "markdown",
   "metadata": {},
   "source": [
    "次に`explode()`で`single_country`列のリストから複数の行を生成します。\n",
    "\n",
    "`explode()`の実行前に現在のデータ件数を確認しておきます。"
   ]
  },
  {
   "cell_type": "code",
   "execution_count": null,
   "metadata": {},
   "outputs": [],
   "source": [
    "print(f\"explode実行前: {len(world_heritage_df):,}件\")"
   ]
  },
  {
   "cell_type": "markdown",
   "metadata": {},
   "source": [
    "`explode()`を実行します。"
   ]
  },
  {
   "cell_type": "code",
   "execution_count": null,
   "metadata": {},
   "outputs": [],
   "source": [
    "world_heritage_df = world_heritage_df.explode('single_country')\n",
    "\n",
    "print(f\"explode実行後: {len(world_heritage_df):,}件\")\n",
    "\n",
    "world_heritage_df['single_country']"
   ]
  },
  {
   "cell_type": "markdown",
   "metadata": {},
   "source": [
    "`single_country`列の値を`unique()`で確認します。"
   ]
  },
  {
   "cell_type": "code",
   "execution_count": null,
   "metadata": {},
   "outputs": [],
   "source": [
    "world_heritage_df['single_country'].unique()"
   ]
  },
  {
   "cell_type": "markdown",
   "metadata": {},
   "source": [
    "それではギャラリーURLのリストを作成します。  \n",
    "URLのパターンは以下のようになります。\n",
    "\n",
    "`https://whc.unesco.org/en/list/<id_no>/gallery/`"
   ]
  },
  {
   "cell_type": "code",
   "execution_count": null,
   "metadata": {},
   "outputs": [],
   "source": [
    "# 任意の国を指定\n",
    "target_country = 'Zambia'\n",
    "\n",
    "heritage_selected_df = world_heritage_df[world_heritage_df['single_country'] == target_country]\n",
    "for i, row in heritage_selected_df.iterrows():\n",
    "    print(f\"・{row['name_en']}\")\n",
    "    print(f\"　https://whc.unesco.org/en/list/{row['id_no']}/gallery/\")"
   ]
  },
  {
   "cell_type": "code",
   "execution_count": null,
   "metadata": {},
   "outputs": [],
   "source": []
  },
  {
   "cell_type": "markdown",
   "metadata": {},
   "source": [
    "### 2. groupbyによる集約\n",
    "\n",
    "ここでは、`groupby()`を利用してデータを集約してみます。"
   ]
  },
  {
   "cell_type": "markdown",
   "metadata": {},
   "source": [
    "#### 2-1. 簡単な集計関数の利用"
   ]
  },
  {
   "cell_type": "markdown",
   "metadata": {},
   "source": [
    "国別の世界遺産数を取得し、多い順にソートします。\n",
    "\n",
    "`groupby()`で`DataFrameGroupBy`オブジェクトを生成し、`size()`で国ごとの件数を計算します。"
   ]
  },
  {
   "cell_type": "code",
   "execution_count": null,
   "metadata": {},
   "outputs": [],
   "source": [
    "groupby_country_size = world_heritage_df.groupby('single_country', as_index=False) \\\n",
    "                        .size() \\\n",
    "                        .sort_values('size', ascending=False)\n",
    "\n",
    "groupby_country_size.head(20)"
   ]
  },
  {
   "cell_type": "markdown",
   "metadata": {},
   "source": [
    "横棒グラフですべての国の世界遺産数を多い順に表示してみましょう。\n",
    "\n",
    "どんなことが読み取れますか？"
   ]
  },
  {
   "cell_type": "code",
   "execution_count": null,
   "metadata": {
    "scrolled": false
   },
   "outputs": [],
   "source": [
    "fig, ax = plt.subplots(figsize=(20,50))\n",
    "sns.barplot(x=\"size\", y=\"single_country\", data=groupby_country_size)"
   ]
  },
  {
   "cell_type": "markdown",
   "metadata": {},
   "source": [
    "同様に地域でグループ化し、多い順に横棒グラフで表示してみます。\n",
    "\n",
    "複数の国に跨っているものを複数の行にさせたので`id_no`の重複がありますから、`drop_duplicates()`を使って`id_no`の重複のないデータフレームを別途用意します。"
   ]
  },
  {
   "cell_type": "code",
   "execution_count": null,
   "metadata": {},
   "outputs": [],
   "source": [
    "world_heritage_unique_id_no_df = world_heritage_df.drop_duplicates(subset=['id_no'])\n",
    "\n",
    "print(f\"world_heritage_df: {len(world_heritage_df):,}件\")\n",
    "print(f\"world_heritage_unique_id_no_df: {len(world_heritage_unique_id_no_df):,}件\")"
   ]
  },
  {
   "cell_type": "markdown",
   "metadata": {},
   "source": [
    "地域でグループ化して遺産数を計算し、多い順に並べます。"
   ]
  },
  {
   "cell_type": "code",
   "execution_count": null,
   "metadata": {
    "scrolled": false
   },
   "outputs": [],
   "source": [
    "groupby_region_size = world_heritage_unique_id_no_df.groupby('region_en')['id_no'].size().reset_index()\n",
    "\n",
    "groupby_region_size = groupby_region_size.rename(columns={'id_no': 'size'}) \\\n",
    "                         .sort_values('size', ascending=False)\n",
    "\n",
    "groupby_region_size"
   ]
  },
  {
   "cell_type": "markdown",
   "metadata": {},
   "source": [
    "グラフを表示します。\n",
    "\n",
    "どんなことが読み取れますか？"
   ]
  },
  {
   "cell_type": "code",
   "execution_count": null,
   "metadata": {
    "scrolled": true
   },
   "outputs": [],
   "source": [
    "fig, ax = plt.subplots(figsize=(20,5))\n",
    "\n",
    "sns.barplot(x=\"size\", y=\"region_en\", data=groupby_region_size)"
   ]
  },
  {
   "cell_type": "markdown",
   "metadata": {},
   "source": [
    "#### 2-2. agg関数の利用\n",
    "\n",
    "列ごとに複数の任意の集約関数を利用したい場合、`agg()`を辞書を引数にして呼び出します。"
   ]
  },
  {
   "cell_type": "markdown",
   "metadata": {},
   "source": [
    "世界遺産の登録日の最大値、最小値、平均とヘクタール面積の最大値、最小値、中央値を`agg()`を使って取得してみましょう。"
   ]
  },
  {
   "cell_type": "code",
   "execution_count": null,
   "metadata": {
    "scrolled": false
   },
   "outputs": [],
   "source": [
    "world_heritage_df.agg({\n",
    "    'date_inscribed': ['max', 'min', 'mean'],\n",
    "    'area_hectares': ['max', 'min', 'median']\n",
    "}).round(2)"
   ]
  },
  {
   "cell_type": "markdown",
   "metadata": {},
   "source": [
    "もちろんこの場合は`agg()`を使わずに`describe()`で簡単に計算できます。"
   ]
  },
  {
   "cell_type": "code",
   "execution_count": null,
   "metadata": {},
   "outputs": [],
   "source": [
    "world_heritage_df[['date_inscribed','area_hectares']].describe().round(2)"
   ]
  },
  {
   "cell_type": "markdown",
   "metadata": {},
   "source": [
    "#### 2-3. apply関数の利用\n",
    "\n",
    "任意の関数を集約単位で実行したい場合、`apply()`を利用します。"
   ]
  },
  {
   "cell_type": "markdown",
   "metadata": {},
   "source": [
    "地域ごと、国ごとの危機遺産率を取得してみましょう。\n",
    "\n",
    "最初に、引数として遺産データフレームを取って危機遺産率を計算する関数を定義します。"
   ]
  },
  {
   "cell_type": "code",
   "execution_count": null,
   "metadata": {},
   "outputs": [],
   "source": [
    "def get_danger_rate(heritage_df):\n",
    "    \"\"\"危機遺産率を取得。\n",
    "\n",
    "    Args:\n",
    "        heritage_df (pandas.DataFrame): 遺産データフレーム。\n",
    "    Returns:\n",
    "        numpy.float64: 危機遺産率。\n",
    "    \"\"\"\n",
    "\n",
    "    return round((heritage_df['danger'] == 1).sum() / len(heritage_df), 2)"
   ]
  },
  {
   "cell_type": "markdown",
   "metadata": {},
   "source": [
    "関数をデータ全体に対して実行してみましょう。"
   ]
  },
  {
   "cell_type": "code",
   "execution_count": null,
   "metadata": {},
   "outputs": [],
   "source": [
    "get_danger_rate(world_heritage_df)"
   ]
  },
  {
   "cell_type": "markdown",
   "metadata": {},
   "source": [
    "`groupy()`で`DataFrameGroupBy`オブジェクトを取得し、作成した関数を引数として`apply()`を呼び出すと、集約単位ごとに危機遺産率を計算することができます。\n",
    "\n",
    "地域ごとの危機遺産率を取得し、降順で表示してみましょう。  \n",
    "地域ごとですので`id_no`の重複のないデータフレームを利用します。\n",
    "\n",
    "どんなことが読み取れますか？"
   ]
  },
  {
   "cell_type": "code",
   "execution_count": null,
   "metadata": {},
   "outputs": [],
   "source": [
    "### チャレンジしてみましょう！！ ###"
   ]
  },
  {
   "cell_type": "markdown",
   "metadata": {},
   "source": [
    "同様に国ごとの危機遺産率を取得し、降順で表示してみましょう。"
   ]
  },
  {
   "cell_type": "code",
   "execution_count": null,
   "metadata": {},
   "outputs": [],
   "source": [
    "groupby_country_danger = world_heritage_df.groupby('single_country').apply(get_danger_rate) \\\n",
    "                          .sort_values(ascending=False)\n",
    "\n",
    "groupby_country_danger.head(40)"
   ]
  },
  {
   "cell_type": "markdown",
   "metadata": {},
   "source": [
    "国ごとの危機遺産率を以下のルールで地図上に表示します。\n",
    "\n",
    "- `plotly`を使って地球儀を表示。\n",
    "- 危機遺産率が0でないものが対象。\n",
    "- 国の位置を赤い点で示し、危険遺産率に合わせて色を変化させる。\n",
    "- 国の位置座標は大雑把に国ごとの世界遺産の緯度、経度の平均値とする。"
   ]
  },
  {
   "cell_type": "markdown",
   "metadata": {},
   "source": [
    "まず世界遺産のデータフレームを国でグループ化し、緯度、経度の平均を計算したデータフレームを作成します。\n",
    "\n",
    "ここでは`agg()`にキーワード引数を渡して呼び出してみます。"
   ]
  },
  {
   "cell_type": "code",
   "execution_count": null,
   "metadata": {
    "scrolled": false
   },
   "outputs": [],
   "source": [
    "country_danger_rate_df = world_heritage_df.groupby('single_country').agg(\n",
    "                          lat=('latitude', 'mean'),\n",
    "                          lon=('longitude', 'mean'))\n",
    "\n",
    "country_danger_rate_df"
   ]
  },
  {
   "cell_type": "markdown",
   "metadata": {},
   "source": [
    "作成したデータフレームに、先ほどの危機遺産率を新たな列`danger_rate`として加えます。"
   ]
  },
  {
   "cell_type": "code",
   "execution_count": null,
   "metadata": {},
   "outputs": [],
   "source": [
    "country_danger_rate_df['danger_rate'] = groupby_country_danger\n",
    "\n",
    "country_danger_rate_df"
   ]
  },
  {
   "cell_type": "markdown",
   "metadata": {},
   "source": [
    "危機遺産率が0のものを取り除き、インデックスをリセットします。"
   ]
  },
  {
   "cell_type": "code",
   "execution_count": null,
   "metadata": {},
   "outputs": [],
   "source": [
    "# 危機率が0より大きい\n",
    "country_danger_rate_non_zero_df = country_danger_rate_df[country_danger_rate_df['danger_rate'] > 0]\n",
    "\n",
    "# インデックスをリセット\n",
    "country_danger_rate_non_zero_df = country_danger_rate_non_zero_df.reset_index()\n",
    "\n",
    "country_danger_rate_non_zero_df.head()"
   ]
  },
  {
   "cell_type": "markdown",
   "metadata": {},
   "source": [
    "それでは`plotly`の`px.scatter_geo()`に引数`projection=\"orthographic\"`を渡して地球儀を表示します。\n",
    "\n",
    "`plotly`のグラフが表示されない場合、デフォルトのrendererの設定を変更します。\n",
    "\n",
    "\n",
    "どんなことが読み取れますか？"
   ]
  },
  {
   "cell_type": "code",
   "execution_count": null,
   "metadata": {},
   "outputs": [],
   "source": [
    "fig = px.scatter_geo(country_danger_rate_non_zero_df,\n",
    "                     lat='lat',\n",
    "                     lon='lon',\n",
    "                     color='danger_rate',\n",
    "                     hover_data=['single_country'],\n",
    "                     projection=\"orthographic\",\n",
    "                     color_continuous_scale = 'Pinkyl',\n",
    "                     range_color=[0, 1])\n",
    "\n",
    "center = {'lat':0, 'lon':139.7671} # 経度は東京駅\n",
    "fig.update_geos(scope='world',\n",
    "                center=center,\n",
    "                lonaxis_range=[center['lon']-1, center['lon']+1])\n",
    "\n",
    "fig.show()"
   ]
  },
  {
   "cell_type": "code",
   "execution_count": null,
   "metadata": {},
   "outputs": [],
   "source": []
  },
  {
   "cell_type": "markdown",
   "metadata": {},
   "source": [
    "### 3. 横持ち・縦持ちへの変換\n",
    "\n",
    "ここでは、データの各行に１つずつの情報を持つ縦持ちの状態からクロス集計表のような横持ちの状態への変換、またはその逆への変換をおこないます。"
   ]
  },
  {
   "cell_type": "markdown",
   "metadata": {},
   "source": [
    "#### 3-1. 横持ちへの変換\n",
    "\n",
    "縦軸を国、横軸をカテゴリとするクロス集計表を作ってみましょう。  \n",
    "クロス集計とは、アンケート結果などを集計する際に2つ以上の観点でまとめる統計手法のことです。"
   ]
  },
  {
   "cell_type": "markdown",
   "metadata": {},
   "source": [
    "まずは国、カテゴリでグループ化して件数を出力します。"
   ]
  },
  {
   "cell_type": "code",
   "execution_count": null,
   "metadata": {},
   "outputs": [],
   "source": [
    "groupby_country_category = world_heritage_df.groupby([\"single_country\", \"category\"]).size()\n",
    "\n",
    "groupby_country_category"
   ]
  },
  {
   "cell_type": "markdown",
   "metadata": {},
   "source": [
    "横持ちになるよう、`unstack()`でカテゴリのそれぞれの値を列にします。  \n",
    "また、該当する値がない場合は0とします。\n",
    "\n",
    "これでクロス集計は完成です。"
   ]
  },
  {
   "cell_type": "code",
   "execution_count": null,
   "metadata": {},
   "outputs": [],
   "source": [
    "### チャレンジしてみましょう！！ ###"
   ]
  },
  {
   "cell_type": "markdown",
   "metadata": {},
   "source": [
    "`groupby()`を使わず、`pd.crosstab()`を使う方法でもやってみましょう。"
   ]
  },
  {
   "cell_type": "code",
   "execution_count": null,
   "metadata": {},
   "outputs": [],
   "source": [
    "pd.crosstab(world_heritage_df[\"single_country\"], world_heritage_df[\"category\"])"
   ]
  },
  {
   "cell_type": "markdown",
   "metadata": {},
   "source": [
    "さらに`pd.pivot_table()`でも同じクロス集計を作成してみましょう。\n",
    "\n",
    "数値計算でどんな関数を使うのか指定する必要があります。"
   ]
  },
  {
   "cell_type": "code",
   "execution_count": null,
   "metadata": {},
   "outputs": [],
   "source": [
    "country_category_pivot_table = pd.pivot_table(world_heritage_df,\n",
    "                               index=[\"single_country\"],\n",
    "                               columns=\"category\",\n",
    "                               values=\"id_no\",\n",
    "                               aggfunc=lambda x: len(x),\n",
    "                               fill_value=0)\n",
    "\n",
    "country_category_pivot_table"
   ]
  },
  {
   "cell_type": "markdown",
   "metadata": {},
   "source": [
    "最後に積み上げ横棒グラフでデータを多い順に表示してみましょう。\n",
    "\n",
    "まず国ごとにカテゴリ数を合計して新たな列`Total`に格納後、`Total`列の値の降順に並べ替えます。"
   ]
  },
  {
   "cell_type": "code",
   "execution_count": null,
   "metadata": {},
   "outputs": [],
   "source": [
    "country_category_pivot_table['Total'] = country_category_pivot_table.sum(axis=1)\n",
    "\n",
    "country_category_pivot_table = country_category_pivot_table.sort_values('Total', ascending=False)\n",
    "\n",
    "country_category_pivot_table"
   ]
  },
  {
   "cell_type": "markdown",
   "metadata": {},
   "source": [
    "グラフを表示します。\n",
    "\n",
    "どんなことが読み取れますか？"
   ]
  },
  {
   "cell_type": "code",
   "execution_count": null,
   "metadata": {
    "scrolled": false
   },
   "outputs": [],
   "source": [
    "palette = sns.color_palette('Set2', len(country_category_pivot_table.columns))\n",
    "\n",
    "# 配列に数値を積み上げていく。\n",
    "left = np.zeros(len(country_category_pivot_table.index))\n",
    "\n",
    "fig, ax = plt.subplots(figsize=(20,50))\n",
    "\n",
    "for i, column in enumerate(country_category_pivot_table.columns[0:3]):\n",
    "    sns.barplot(x=country_category_pivot_table[column],\n",
    "                y=country_category_pivot_table.index,\n",
    "                color=palette[i],\n",
    "                label=column,\n",
    "                left=left,\n",
    "                ax=ax)\n",
    "\n",
    "    left += list(country_category_pivot_table[column])\n",
    "\n",
    "ax.set_xlabel(\"count\")\n",
    "ax.legend(loc=\"upper left\", bbox_to_anchor=(1,1))"
   ]
  },
  {
   "cell_type": "markdown",
   "metadata": {},
   "source": [
    "積み上げ横棒グラフの作成は`pandas.DataFrame.plot()`を利用した方が簡単です。"
   ]
  },
  {
   "cell_type": "code",
   "execution_count": null,
   "metadata": {
    "scrolled": false
   },
   "outputs": [],
   "source": [
    "country_category_pivot_table \\\n",
    "    .sort_values('Total', ascending=True) \\\n",
    "    .iloc[:,0:3] \\\n",
    "    .plot(kind='barh', stacked=True, figsize=(20, 50))"
   ]
  },
  {
   "cell_type": "markdown",
   "metadata": {},
   "source": [
    "#### 3-2. 縦持ちへの変換\n",
    "\n",
    "今度は手順がやや複雑になりますが、地域別のC1〜C6、N7〜N10の登録基準の合計数をレーダーチャートで表示してみます。\n",
    "\n",
    "手順は以下になります。  \n",
    "1.`id_no`の重複のないデータフレームから縦軸を地域、横軸を登録基準とする横持ちのデータフレームを作成。  \n",
    "2.地域のうち、複数の地域に跨るものを単一の地域の加算した後除去。  \n",
    "3.データフレームを整形し、最終的に「地域」「登録基準」「合計数」の列を持つ縦持ちにする。  \n",
    "4.`ploty`の`line_polar()`でレーダーチャートを表示する。  "
   ]
  },
  {
   "cell_type": "markdown",
   "metadata": {},
   "source": [
    "まず横持ちのデータフレームを作成します。"
   ]
  },
  {
   "cell_type": "code",
   "execution_count": null,
   "metadata": {},
   "outputs": [],
   "source": [
    "groupby_region_criteria_sum = world_heritage_unique_id_no_df \\\n",
    "                              .filter(regex='^(region_en|(C|N)\\d+)$', axis=1) \\\n",
    "                              .groupby('region_en') \\\n",
    "                              .sum()\n",
    "\n",
    "groupby_region_criteria_sum"
   ]
  },
  {
   "cell_type": "markdown",
   "metadata": {},
   "source": [
    "次に複数の地域に跨るものの数値をそれぞれの単一の地域に加算します。"
   ]
  },
  {
   "cell_type": "code",
   "execution_count": null,
   "metadata": {},
   "outputs": [],
   "source": [
    "groupby_region_criteria_sum.loc['Asia and the Pacific'] = \\\n",
    "    groupby_region_criteria_sum.loc['Asia and the Pacific'] \\\n",
    "    + groupby_region_criteria_sum.loc['Asia and the Pacific,Europe and North America']\n",
    "\n",
    "groupby_region_criteria_sum.loc['Europe and North America'] = \\\n",
    "    groupby_region_criteria_sum.loc['Europe and North America'] \\\n",
    "    + groupby_region_criteria_sum.loc['Asia and the Pacific,Europe and North America']\n",
    "\n",
    "groupby_region_criteria_sum.loc['Asia and the Pacific'] = \\\n",
    "    groupby_region_criteria_sum.loc['Asia and the Pacific'] \\\n",
    "    + groupby_region_criteria_sum \\\n",
    "        .loc['Asia and the Pacific,Europe and North America,Latin America and the Caribbean']\n",
    "\n",
    "groupby_region_criteria_sum.loc['Europe and North America'] = \\\n",
    "    groupby_region_criteria_sum.loc['Europe and North America'] \\\n",
    "    + groupby_region_criteria_sum \\\n",
    "        .loc['Asia and the Pacific,Europe and North America,Latin America and the Caribbean']\n",
    "\n",
    "groupby_region_criteria_sum.loc['Latin America and the Caribbean'] = \\\n",
    "    groupby_region_criteria_sum.loc['Latin America and the Caribbean'] \\\n",
    "    + groupby_region_criteria_sum \\\n",
    "        .loc['Asia and the Pacific,Europe and North America,Latin America and the Caribbean']"
   ]
  },
  {
   "cell_type": "markdown",
   "metadata": {},
   "source": [
    "インデックスから複数の地域に跨るものを除去します。"
   ]
  },
  {
   "cell_type": "code",
   "execution_count": null,
   "metadata": {},
   "outputs": [],
   "source": [
    "groupby_region_criteria_sum_multi_region_removed = groupby_region_criteria_sum.drop(index=[\n",
    "                                'Asia and the Pacific,Europe and North America',\n",
    "                                'Asia and the Pacific,Europe and North America,Latin America and the Caribbean'])\n",
    "\n",
    "groupby_region_criteria_sum_multi_region_removed"
   ]
  },
  {
   "cell_type": "markdown",
   "metadata": {},
   "source": [
    "登録基準をインデックスにした後、すべてのインデックスをリセットして縦持ちへの変換を完了します。"
   ]
  },
  {
   "cell_type": "code",
   "execution_count": null,
   "metadata": {},
   "outputs": [],
   "source": [
    "region_criteria_sum_df = groupby_region_criteria_sum_multi_region_removed.stack().reset_index()\n",
    "\n",
    "region_criteria_sum_df.columns = ['region', 'criteria', 'sum']\n",
    "\n",
    "region_criteria_sum_df.head(10)"
   ]
  },
  {
   "cell_type": "markdown",
   "metadata": {},
   "source": [
    "`plotly`の`line_ploar()`レーダーチャートを表示します。\n",
    "\n",
    "登録基準の説明を参考にしつつ、どんなことが読み取れますか？\n",
    "\n",
    "|criteria|英語（[UNESCO The Criteria for Selection](https://whc.unesco.org/en/criteria/)より転載）|日本語（[日本ユネスコ協会連盟 登録の基準](https://www.unesco.or.jp/activities/isan/decides/)より転載）|\n",
    "|:--:|:--|:--|\n",
    "|C1|to represent a masterpiece of human creative genius;|人間の創造的才能を表す傑作である。|\n",
    "|C2|to exhibit an important interchange of human values, over a span of time or within a cultural area of the world, on developments in architecture or technology, monumental arts, town-planning or landscape design;|建築、科学技術、記念碑、都市計画、景観設計の発展に重要な影響を与えた、ある期間にわたる価値観の交流又はある文化圏内での価値観の交流を示すものである。|\n",
    "|C3|to bear a unique or at least exceptional testimony to a cultural tradition or to a civilization which is living or which has disappeared;|現存するか消滅しているかにかかわらず、ある文化的伝統又は文明の存在を伝承する物証として無二の存在(少なくとも希有な存在)である。|\n",
    "|C4|to be an outstanding example of a type of building, architectural or technological ensemble or landscape which illustrates (a) significant stage(s) in human history;|歴史上の重要な段階を物語る建築物、その集合体、科学技術の集合体、あるいは景観を代表する顕著な見本である。|\n",
    "|C5|to be an outstanding example of a traditional human settlement, land-use, or sea-use which is representative of a culture (or cultures), or human interaction with the environment especially when it has become vulnerable under the impact of irreversible change;|あるひとつの文化(または複数の文化)を特徴づけるような伝統的居住形態若しくは陸上・海上の土地利用形態を代表する顕著な見本である。又は、人類と環境とのふれあいを代表する顕著な見本である(特に不可逆的な変化によりその存続が危ぶまれているもの)|\n",
    "|C6|to be directly or tangibly associated with events or living traditions, with ideas, or with beliefs, with artistic and literary works of outstanding universal significance. (The Committee considers that this criterion should preferably be used in conjunction with other criteria);|顕著な普遍的価値を有する出来事(行事)、生きた伝統、思想、信仰、芸術的作品、あるいは文学的作品と直接または実質的関連がある(この基準は他の基準とあわせて用いられることが望ましい)。|\n",
    "|N7|to contain superlative natural phenomena or areas of exceptional natural beauty and aesthetic importance;|最上級の自然現象、又は、類まれな自然美・美的価値を有する地域を包含する。|\n",
    "|N8|to be outstanding examples representing major stages of earth's history, including the record of life, significant on-going geological processes in the development of landforms, or significant geomorphic or physiographic features;|生命進化の記録や、地形形成における重要な進行中の地質学的過程、あるいは重要な地形学的又は自然地理学的特徴といった、地球の歴史の主要な段階を代表する顕著な見本である。|\n",
    "|N9|to be outstanding examples representing significant on-going ecological and biological processes in the evolution and development of terrestrial, fresh water, coastal and marine ecosystems and communities of plants and animals;|陸上・淡水域・沿岸・海洋の生態系や動植物群集の進化、発展において、重要な進行中の生態学的過程又は生物学的過程を代表する顕著な見本である。|\n",
    "|N10|to contain the most important and significant natural habitats for in-situ conservation of biological diversity, including those containing threatened species of outstanding universal value from the point of view of science or conservation.|学術上又は保全上顕著な普遍的価値を有する絶滅のおそれのある種の生息地など、生物多様性の生息域内保全にとって最も重要な自然の生息地を包含する。|"
   ]
  },
  {
   "cell_type": "code",
   "execution_count": null,
   "metadata": {
    "scrolled": false
   },
   "outputs": [],
   "source": [
    "%%capture --no-display\n",
    "\n",
    "fig = px.line_polar(region_criteria_sum_df, r=\"sum\", theta=\"criteria\", color='region', line_close=True)\n",
    "\n",
    "fig.show()"
   ]
  },
  {
   "cell_type": "markdown",
   "metadata": {},
   "source": [
    "同様に任意の国を幾つか選んで、１つのレーダーチャート上に表示してみましょう。\n",
    "\n",
    "まずは「国」「登録基準」「合計数」の列を持つ縦持ちのデータフレームを作成します。"
   ]
  },
  {
   "cell_type": "code",
   "execution_count": null,
   "metadata": {},
   "outputs": [],
   "source": [
    "### チャレンジしてみましょう！！ ###"
   ]
  },
  {
   "cell_type": "markdown",
   "metadata": {},
   "source": [
    "作成したデータフレームを使ってレーダーチャートを表示します。"
   ]
  },
  {
   "cell_type": "code",
   "execution_count": null,
   "metadata": {},
   "outputs": [],
   "source": [
    "### チャレンジしてみましょう！！ ###"
   ]
  },
  {
   "cell_type": "code",
   "execution_count": null,
   "metadata": {},
   "outputs": [],
   "source": []
  },
  {
   "cell_type": "markdown",
   "metadata": {},
   "source": [
    "### 4. 世界遺産登録の変遷を地図上に表示\n",
    "\n",
    "`plotly`のアニメーション機能を使って、世界遺産登録の変遷を地図上に表示してみましょう。\n",
    "\n",
    "年が進むにつれて各国の総登録数が増えていき、国ごとの区画の色が濃くなるようにします。"
   ]
  },
  {
   "cell_type": "markdown",
   "metadata": {},
   "source": [
    "まず最初に国名コードのデータを取得します。\n",
    "\n",
    "地図上の国の区画とデータは3文字の国名コード（ISO 3166-1 alpha-3）で結びつけるのですが、世界遺産データの2文字の国名コードしかありませんので、データをウィキペディアから取得しロードします。\n",
    "\n",
    "一度取得したデータは、何度も取得しないように`data/country_code.csv`保存するようにしましょう。\n",
    "\n",
    "\n",
    "ウィキペディア ISO 3166-1  \n",
    "https://ja.wikipedia.org/wiki/ISO_3166-1\n"
   ]
  },
  {
   "cell_type": "code",
   "execution_count": null,
   "metadata": {},
   "outputs": [],
   "source": [
    "country_code_wikipedia_url = 'https://ja.wikipedia.org/wiki/ISO_3166-1'\n",
    "country_code_csv_path = 'data/country_code.csv'\n",
    "\n",
    "try:\n",
    "    country_code_df = pd.read_csv(country_code_csv_path)\n",
    "    print(f\"ファイル'{country_code_csv_path}'からデータを取得しました。\")\n",
    "except FileNotFoundError:\n",
    "    print(f\"ファイル'{country_code_csv_path}'が存在しないためウィキペディアからデータを取得します。\")\n",
    "    html = requests.get(country_code_wikipedia_url)\n",
    "    country_code_df = pd.read_html(html.text)[0]\n",
    "    country_code_df.to_csv(country_code_csv_path, index=False)\n",
    "\n",
    "len(country_code_df)"
   ]
  },
  {
   "cell_type": "markdown",
   "metadata": {},
   "source": [
    "取得したデータの中身を表示。"
   ]
  },
  {
   "cell_type": "code",
   "execution_count": null,
   "metadata": {},
   "outputs": [],
   "source": [
    "country_code_df.head()"
   ]
  },
  {
   "cell_type": "markdown",
   "metadata": {},
   "source": [
    "１行目を削除し、インデックスをリセットします。\n",
    "\n",
    "それから英語の国名を`country`、3文字のコードを`country_code`として、他の必要ない列は削除します。"
   ]
  },
  {
   "cell_type": "code",
   "execution_count": null,
   "metadata": {},
   "outputs": [],
   "source": [
    "# 1行目を削除\n",
    "country_code_df = country_code_df.iloc[1:]\n",
    "\n",
    "# インデックスをリセット\n",
    "country_code_df.reset_index(drop=True, inplace=True)\n",
    "\n",
    "# 必要のない列を削除\n",
    "country_code_df = country_code_df[['ISO 3166-1における英語名', 'alpha-3']]\n",
    "\n",
    "# 列名を変更\n",
    "country_code_df.columns = ['country', 'country_code']\n",
    "\n",
    "country_code_df.head()"
   ]
  },
  {
   "cell_type": "markdown",
   "metadata": {},
   "source": [
    "次に地図用のデータフレームを用意します。  \n",
    "以下の4つの属性を縦持ちしたデータフレームが必要です。\n",
    "\n",
    "|#|属性|説明|\n",
    "|:---:|:---|:---|\n",
    "|1|国名コード|世界遺産の登録があるすべての国の国名コード。|\n",
    "|2|国名|世界遺産データにある英語名。|\n",
    "|3|年度|世界全体で一番最初の世界遺産の登録年の前年から最新の登録の年度まで。すべての国が、すべての年度の行を持つ必要がある。|\n",
    "|4|登録数累計|各国の各年度ごとの登録数累計。|\n",
    "\n",
    "作成手順は以下のようになります。\n",
    "\n",
    "1. 世界遺産データを国、登録年でグループ化し、件数を集計した`Series`オブジェクトを作成。\n",
    "2. 世界遺産の登録があるすべての国とすべての年度を掛け合わせたインデックスを持つ、値が空の`Series`オブジェクトを作成。\n",
    "3. 2を1で上書きし、値が空の部分はすべて0で埋める。\n",
    "4. 国、年度ごとに累計を計算し、新たな列として加える。\n",
    "5. 国、年度のインデックスをリセットして列に変換し、データフレームにする。\n",
    "6. 国名をキーに国名コードのデータフレームと結合する。"
   ]
  },
  {
   "cell_type": "markdown",
   "metadata": {},
   "source": [
    "世界遺産データを国、登録年でグループ化し、件数を集計した`Series`オブジェクトを作成します。"
   ]
  },
  {
   "cell_type": "code",
   "execution_count": null,
   "metadata": {},
   "outputs": [],
   "source": [
    "country_year_inscribed_s = world_heritage_df.groupby(['single_country', 'date_inscribed']).size()\n",
    "\n",
    "country_year_inscribed_s"
   ]
  },
  {
   "cell_type": "markdown",
   "metadata": {},
   "source": [
    "世界遺産の登録があるすべての国とすべての年度を掛け合わせたインデックスを持つ、値が空の`Series`オブジェクトを作成します。\n",
    "\n",
    "年度は世界全体で一番最初の世界遺産の登録年の前年から最新の登録の年度までです。"
   ]
  },
  {
   "cell_type": "code",
   "execution_count": null,
   "metadata": {},
   "outputs": [],
   "source": [
    "countries = world_heritage_df['single_country'].unique()\n",
    "year_range = range(world_heritage_df['date_inscribed'].min()-1, world_heritage_df['date_inscribed'].max()+1)\n",
    "\n",
    "country_year_index = pd.MultiIndex.from_product([countries, year_range], \\\n",
    "                                                names=['single_country', 'date_inscribed'])\n",
    "country_year_s = pd.Series(index=country_year_index, dtype='float64')\n",
    "\n",
    "country_year_s"
   ]
  },
  {
   "cell_type": "markdown",
   "metadata": {},
   "source": [
    "作成した空の`Series`オブジェクトを先ほどの件数のある`Series`オブジェクトで上書きし、値が空の部分はすべて0で埋めます。\n",
    "\n",
    "上書きには`combine_first()`を使います。"
   ]
  },
  {
   "cell_type": "code",
   "execution_count": null,
   "metadata": {},
   "outputs": [],
   "source": [
    "country_year_combined_s = country_year_s.combine_first(country_year_inscribed_s).fillna(0)\n",
    "\n",
    "country_year_combined_s"
   ]
  },
  {
   "cell_type": "markdown",
   "metadata": {},
   "source": [
    "国、年度ごとに累計を計算し、新たな列として加えます。"
   ]
  },
  {
   "cell_type": "code",
   "execution_count": null,
   "metadata": {},
   "outputs": [],
   "source": [
    "country_year_cumsum_s = country_year_combined_s.groupby(level='single_country').cumsum()\n",
    "\n",
    "country_year_cumsum_s"
   ]
  },
  {
   "cell_type": "markdown",
   "metadata": {},
   "source": [
    "`Zimbabwe`（ジンバブエ）のデータで正しく累計が計算されているか確認します。"
   ]
  },
  {
   "cell_type": "code",
   "execution_count": null,
   "metadata": {},
   "outputs": [],
   "source": [
    "country_year_cumsum_s['Zimbabwe']"
   ]
  },
  {
   "cell_type": "markdown",
   "metadata": {},
   "source": [
    "問題なければ国、年度のインデックスをリセットして列に変換し、データフレームにします。\n",
    "\n",
    "各列名は`country`、`year`、`total`とします。"
   ]
  },
  {
   "cell_type": "code",
   "execution_count": null,
   "metadata": {},
   "outputs": [],
   "source": [
    "country_year_total_df = country_year_cumsum_s.reset_index()\n",
    "country_year_total_df.columns = ['country', 'year', 'total']\n",
    "\n",
    "country_year_total_df.head()"
   ]
  },
  {
   "cell_type": "markdown",
   "metadata": {},
   "source": [
    "今度は国名をキーに国名コードのデータフレームと結合します。"
   ]
  },
  {
   "cell_type": "code",
   "execution_count": null,
   "metadata": {},
   "outputs": [],
   "source": [
    "country_year_total_code_df = pd.merge(country_year_total_df, country_code_df, how='left', on=\"country\")\n",
    "\n",
    "country_year_total_code_df.head()"
   ]
  },
  {
   "cell_type": "markdown",
   "metadata": {},
   "source": [
    "国名コードがない行があるか確認し、あればその国名を取得します。"
   ]
  },
  {
   "cell_type": "code",
   "execution_count": null,
   "metadata": {},
   "outputs": [],
   "source": [
    "country_year_total_code_df[country_year_total_code_df['country_code'].isna()]['country'].unique()"
   ]
  },
  {
   "cell_type": "markdown",
   "metadata": {},
   "source": [
    "コードが見つからなかった国名と、正しいコードは以下になります。  \n",
    "１つ１つ登録してしまいます。\n",
    "\n",
    "- \"Democratic People's Republic of Korea\": PRK\n",
    "- 'Democratic Republic of the Congo': COD\n",
    "- 'Gambia (the)': GMB\n",
    "- 'Jerusalem (Site proposed by Jordan)': JOR\n",
    "- 'Palestine': PSE\n",
    "- 'Republic of Korea': KOR\n",
    "- 'United Republic of Tanzania': TZA\n",
    "- 'Republic of Moldova': MDA"
   ]
  },
  {
   "cell_type": "code",
   "execution_count": null,
   "metadata": {},
   "outputs": [],
   "source": [
    "country_year_total_code_df.loc[ \\\n",
    "    country_year_total_code_df['country'] == \"Democratic People's Republic of Korea\", 'country_code'] = 'PRK'\n",
    "\n",
    "country_year_total_code_df.loc[ \\\n",
    "    country_year_total_code_df['country'] == 'Democratic Republic of the Congo', 'country_code'] = 'COD'\n",
    "\n",
    "country_year_total_code_df.loc[ \\\n",
    "    country_year_total_code_df['country'] == 'Gambia (the)', 'country_code'] = 'GMB'\n",
    "\n",
    "country_year_total_code_df.loc[ \\\n",
    "    country_year_total_code_df['country'] == 'Jerusalem (Site proposed by Jordan)', 'country_code'] = 'JOR'\n",
    "\n",
    "country_year_total_code_df.loc[ \\\n",
    "    country_year_total_code_df['country'] == 'Palestine', 'country_code'] = 'PSE'\n",
    "\n",
    "country_year_total_code_df.loc[ \\\n",
    "    country_year_total_code_df['country'] == 'Republic of Korea', 'country_code'] = 'KOR'\n",
    "\n",
    "country_year_total_code_df.loc[ \\\n",
    "    country_year_total_code_df['country'] == 'United Republic of Tanzania', 'country_code'] = 'TZA'\n",
    "\n",
    "country_year_total_code_df.loc[ \\\n",
    "    country_year_total_code_df['country'] == 'Republic of Moldova', 'country_code'] = 'MDA'\n",
    "\n",
    "country_year_total_code_df.loc[ \\\n",
    "    country_year_total_code_df['country'] == 'Türkiye', 'country_code'] = 'TUR'"
   ]
  },
  {
   "cell_type": "markdown",
   "metadata": {},
   "source": [
    "もう一度、コードがない国がないか確認します。"
   ]
  },
  {
   "cell_type": "code",
   "execution_count": null,
   "metadata": {},
   "outputs": [],
   "source": [
    "country_year_total_code_df['country_code'].isna().sum()"
   ]
  },
  {
   "cell_type": "markdown",
   "metadata": {},
   "source": [
    "それでは`plotly`の`px.choropleth()`を利用して地図を表示します。\n",
    "\n",
    "どんなことが読み取れますか？"
   ]
  },
  {
   "cell_type": "code",
   "execution_count": null,
   "metadata": {
    "scrolled": false
   },
   "outputs": [],
   "source": [
    "fig = px.choropleth(country_year_total_code_df,\n",
    "                    locations=\"country_code\",\n",
    "                    color=\"total\",\n",
    "                    hover_name=\"country\",\n",
    "                    animation_frame=\"year\",\n",
    "                    projection=\"natural earth\",\n",
    "                    color_continuous_scale = 'Oranges',\n",
    "                    range_color=[1,40])   \n",
    "\n",
    "center = {'lat':0, 'lon':139.7671} # 緯度は東京駅\n",
    "fig.update_geos(scope='world',\n",
    "                center=center,\n",
    "                lonaxis_range=[center['lon']-180, center['lon']+180])\n",
    "\n",
    "fig.show()"
   ]
  },
  {
   "cell_type": "code",
   "execution_count": null,
   "metadata": {},
   "outputs": [],
   "source": []
  }
 ],
 "metadata": {
  "kernelspec": {
   "display_name": "Python 3 (ipykernel)",
   "language": "python",
   "name": "python3"
  },
  "language_info": {
   "codemirror_mode": {
    "name": "ipython",
    "version": 3
   },
   "file_extension": ".py",
   "mimetype": "text/x-python",
   "name": "python",
   "nbconvert_exporter": "python",
   "pygments_lexer": "ipython3",
   "version": "3.9.10"
  },
  "vscode": {
   "interpreter": {
    "hash": "d109c1022d0269bfeb1214b0bec2187ee8bc4e794779a7e71ed964fc39a480b6"
   }
  }
 },
 "nbformat": 4,
 "nbformat_minor": 2
}
