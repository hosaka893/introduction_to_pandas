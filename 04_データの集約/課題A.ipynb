{
 "cells": [
  {
   "cell_type": "markdown",
   "metadata": {},
   "source": [
    "### 0. 事前準備\n",
    "\n",
    "以下のデータを取得して、このノートブックと同じディレクトリにある`data`ディレクトリに配置します。\n",
    "\n",
    "__open-access-met Open Access csv__  \n",
    "  URL:  \n",
    "    ・https://github.com/metmuseum/openaccess  \n",
    "  DATA:  \n",
    "    ・MetObjects.csv  \n",
    "  関連情報:  \n",
    "    ・40万点の作品画像を無料開放。メトロポリタン美術館がAPIを公開  \n",
    "  　https://bijutsutecho.com/magazine/news/headline/18741\n",
    "\n",
    "---\n",
    "\n",
    "ローカル環境でjupyterを起動している場合は、以下のツールを取得して、このノートブックと同じディレクトリにある`lib`ディレクトリに配置します。  \n",
    "\n",
    "__ChromeDriver__  \n",
    "  URL:  \n",
    "    ・https://chromedriver.chromium.org/  \n",
    "  TOOL:  \n",
    "    ・chromedriver.exe（Windows用）/ chromedriver（Mac用）/ chromedriver（Linux用）    \n",
    "  注意:  \n",
    "    ・OSにChromeまたはChromiumブラウザがインストールされていることが前提となります。  \n",
    "    ・PCに現在インストールされているChromeと同じバージョンのものを選択してください。"
   ]
  },
  {
   "cell_type": "code",
   "execution_count": null,
   "metadata": {},
   "outputs": [],
   "source": [
    "%matplotlib inline\n",
    "\n",
    "from bs4 import BeautifulSoup\n",
    "import glob\n",
    "from IPython.core.display import HTML\n",
    "from IPython.display import Image, display\n",
    "import matplotlib.pyplot as plt\n",
    "import numpy as np\n",
    "import pandas as pd\n",
    "import requests\n",
    "import seaborn as sns\n",
    "from selenium import webdriver\n",
    "from shutil import which"
   ]
  },
  {
   "cell_type": "markdown",
   "metadata": {},
   "source": [
    "ノートブックのレイアウト定義。"
   ]
  },
  {
   "cell_type": "code",
   "execution_count": null,
   "metadata": {},
   "outputs": [],
   "source": [
    "%%html\n",
    "<style>\n",
    "  table {margin-left: 0 !important;} # markdownの表を左寄せにする。\n",
    "</style>"
   ]
  },
  {
   "cell_type": "code",
   "execution_count": null,
   "metadata": {},
   "outputs": [],
   "source": []
  },
  {
   "cell_type": "markdown",
   "metadata": {},
   "source": [
    "### 1. データの概要を掴む"
   ]
  },
  {
   "cell_type": "markdown",
   "metadata": {},
   "source": [
    "作品データをロード。"
   ]
  },
  {
   "cell_type": "code",
   "execution_count": null,
   "metadata": {},
   "outputs": [],
   "source": [
    "met_object_df = pd.read_csv('data/MetObjects.csv')\n",
    "\n",
    "len(met_object_df)"
   ]
  },
  {
   "cell_type": "markdown",
   "metadata": {},
   "source": [
    "幾つかの列でデータ型が混じってしまっていて正しく読み込めないようです。\n",
    "\n",
    "どんな列で問題が発生しているのかを確認します。"
   ]
  },
  {
   "cell_type": "code",
   "execution_count": null,
   "metadata": {},
   "outputs": [],
   "source": [
    "met_object_df.iloc[:,[5,7,10,11,12,13,14,34,35,36,37,38,39,40,41,42,43,44,45,46]]"
   ]
  },
  {
   "cell_type": "markdown",
   "metadata": {},
   "source": [
    "とりあえず今回使いそうな２つの列、`AccessionYear`（取得年）と`Country`（国）だけはデータ型を指定して読み込み直します。"
   ]
  },
  {
   "cell_type": "code",
   "execution_count": null,
   "metadata": {},
   "outputs": [],
   "source": [
    "met_object_df = pd.read_csv('data/MetObjects.csv', dtype={\"AccessionYear\": \"string\", \"Country\": \"string\"})\n",
    "\n",
    "len(met_object_df)"
   ]
  },
  {
   "cell_type": "markdown",
   "metadata": {},
   "source": [
    "変換に失敗しそうですが、`AccessionYear`をTimestamp型に変換してみます。"
   ]
  },
  {
   "cell_type": "code",
   "execution_count": null,
   "metadata": {
    "scrolled": false
   },
   "outputs": [],
   "source": [
    "try:\n",
    "    met_object_df['AccessionYear'] = pd.to_datetime(met_object_df['AccessionYear'])\n",
    "except Exception as e:\n",
    "    print(f\"error occured: '{e}'\")"
   ]
  },
  {
   "cell_type": "markdown",
   "metadata": {},
   "source": [
    "変換に失敗した行を確認。"
   ]
  },
  {
   "cell_type": "code",
   "execution_count": null,
   "metadata": {},
   "outputs": [],
   "source": [
    "met_object_df[met_object_df['AccessionYear'] == '19171917']"
   ]
  },
  {
   "cell_type": "markdown",
   "metadata": {},
   "source": [
    "データが間違っているようなので修正してしまいます。"
   ]
  },
  {
   "cell_type": "code",
   "execution_count": null,
   "metadata": {},
   "outputs": [],
   "source": [
    "met_object_df.loc[473803,'AccessionYear'] = '1917'\n",
    "\n",
    "met_object_df.loc[473803,'AccessionYear']"
   ]
  },
  {
   "cell_type": "markdown",
   "metadata": {},
   "source": [
    "もう一度変換して、そのまま列に格納します。"
   ]
  },
  {
   "cell_type": "code",
   "execution_count": null,
   "metadata": {},
   "outputs": [],
   "source": [
    "met_object_df['AccessionYear'] = pd.to_datetime(met_object_df['AccessionYear'])"
   ]
  },
  {
   "cell_type": "markdown",
   "metadata": {},
   "source": [
    "エラーが発生しないので問題なさそうですが、エラーのあったデータがどう変換されたか確認します。"
   ]
  },
  {
   "cell_type": "code",
   "execution_count": null,
   "metadata": {},
   "outputs": [],
   "source": [
    "met_object_df.loc[473803,'AccessionYear']"
   ]
  },
  {
   "cell_type": "markdown",
   "metadata": {},
   "source": [
    "データの中身を確認。"
   ]
  },
  {
   "cell_type": "code",
   "execution_count": null,
   "metadata": {},
   "outputs": [],
   "source": [
    "met_object_df.head()"
   ]
  },
  {
   "cell_type": "markdown",
   "metadata": {},
   "source": [
    "データに抜けが多いようなので、`info()`で状況を確認。\n",
    "\n",
    "`AccessionYear`は`datetime64[ns]`型になっています。"
   ]
  },
  {
   "cell_type": "code",
   "execution_count": null,
   "metadata": {
    "scrolled": false
   },
   "outputs": [],
   "source": [
    "met_object_df.info()"
   ]
  },
  {
   "cell_type": "markdown",
   "metadata": {},
   "source": [
    "今回は以下の列のデータを利用します。  \n",
    "`Artist Display Name`と`Country`は抜けが多いので注意が必要。\n",
    "\n",
    "|#|Column|Non-Null Count|備考|\n",
    "|:---:|:---|---|:---|\n",
    "|0|Object Number|477390||\n",
    "|1|Is Highlight|477390|重要作品であるか？|\n",
    "|3|Is Public Domain|477390||\n",
    "|4|Object ID|477390||\n",
    "|7|AccessionYear|472891|取得年|\n",
    "|8|Object Name|475700||\n",
    "|9|Title|448204||\n",
    "|18|Artist Display Name|275116||\n",
    "|29|Object Begin Date|477390|製作開始日|      \n",
    "|30|Object End Date|477390|製作完了日|\n",
    "|33|Credit Line|476933|提供者| \n",
    "|38|Country|75746||\n",
    "|47|Link Resource|477390|詳細ページURL|"
   ]
  },
  {
   "cell_type": "code",
   "execution_count": null,
   "metadata": {
    "scrolled": false
   },
   "outputs": [],
   "source": [
    "met_object_df = met_object_df.iloc[:,[0, 1, 3, 4, 7, 8, 9, 18, 29, 30, 33, 38, 47]]\n",
    "\n",
    "met_object_df.head()"
   ]
  },
  {
   "cell_type": "markdown",
   "metadata": {},
   "source": [
    "ちなみに、`Object Begin Date`と`Object End Date`が`int`型になっていますが、これは`datetime64`型（`Timestamp`型）の範囲を超えてしまっているので変換はできません。\n",
    "\n",
    "参考）  \n",
    "__pandas out of bounds nanosecond timestamp after offset rollforward plus adding a month offset__  \n",
    "https://stackoverflow.com/questions/32888124/pandas-out-of-bounds-nanosecond-timestamp-after-offset-rollforward-plus-adding-a"
   ]
  },
  {
   "cell_type": "code",
   "execution_count": null,
   "metadata": {},
   "outputs": [],
   "source": [
    "print(\"最小値:\", pd.Timestamp.min)\n",
    "print(\"最大値:\", pd.Timestamp.max)"
   ]
  },
  {
   "cell_type": "markdown",
   "metadata": {},
   "source": [
    "これはOK。"
   ]
  },
  {
   "cell_type": "code",
   "execution_count": null,
   "metadata": {},
   "outputs": [],
   "source": [
    "pd.to_datetime('1680-01-01') # or pd.Timestamp('1680-01-01')"
   ]
  },
  {
   "cell_type": "markdown",
   "metadata": {},
   "source": [
    "これはダメ。"
   ]
  },
  {
   "cell_type": "code",
   "execution_count": null,
   "metadata": {},
   "outputs": [],
   "source": [
    "# 変換できない場合は「NaT」を返す。\n",
    "pd.to_datetime('1677-01-01', errors=\"coerce\") # or pd.Timestamp('1677-01-01')"
   ]
  },
  {
   "cell_type": "markdown",
   "metadata": {},
   "source": [
    "国別の作品数を確認。"
   ]
  },
  {
   "cell_type": "code",
   "execution_count": null,
   "metadata": {},
   "outputs": [],
   "source": [
    "met_object_df['Country'].value_counts().head(30)"
   ]
  },
  {
   "cell_type": "markdown",
   "metadata": {},
   "source": [
    "製作完了日の分布をグラフで確認。"
   ]
  },
  {
   "cell_type": "code",
   "execution_count": null,
   "metadata": {},
   "outputs": [],
   "source": [
    "fig, ax = plt.subplots(figsize=(16,4))\n",
    "\n",
    "sns.histplot(met_object_df['Object End Date'], kde=False)"
   ]
  },
  {
   "cell_type": "markdown",
   "metadata": {},
   "source": [
    "グラフがちょっとおかしいです。\n",
    "\n",
    "とりあえず統計量を確認します。"
   ]
  },
  {
   "cell_type": "code",
   "execution_count": null,
   "metadata": {
    "scrolled": true
   },
   "outputs": [],
   "source": [
    "met_object_df['Object End Date'].describe()"
   ]
  },
  {
   "cell_type": "markdown",
   "metadata": {},
   "source": [
    "最大値も少しおかしいですが、最小値がとんでもない値になっています。\n",
    "\n",
    "どんな作品なのか、実際にサイトにアクセスして確認します。"
   ]
  },
  {
   "cell_type": "code",
   "execution_count": null,
   "metadata": {},
   "outputs": [],
   "source": [
    "oldest_work_links = met_object_df.query('`Object End Date` == -240_000')['Link Resource'].values\n",
    "for link in oldest_work_links:\n",
    "    print(link)"
   ]
  },
  {
   "cell_type": "markdown",
   "metadata": {},
   "source": [
    "石器ですね… 桁外れの外れ値のせいで紀元後の分布が全く把握できません。  \n",
    "今回は石器を対象外にするとして紀元前2500年〜2022年に限定し、グラフを出力します。\n",
    "\n",
    "どんなことが読み取れますか？"
   ]
  },
  {
   "cell_type": "code",
   "execution_count": null,
   "metadata": {
    "scrolled": false
   },
   "outputs": [],
   "source": [
    "fig, ax = plt.subplots(figsize=(16,4))\n",
    "\n",
    "sns.histplot(met_object_df.query('-2500 <= `Object End Date` <= 2022')['Object End Date'], kde=False)\n",
    "ax.set_xlim(-2500, 2022)"
   ]
  },
  {
   "cell_type": "markdown",
   "metadata": {},
   "source": [
    "さらに作品の多い1400年以降に絞って見てみましょう。\n",
    "\n",
    "どんなことが読み取れますか？"
   ]
  },
  {
   "cell_type": "code",
   "execution_count": null,
   "metadata": {},
   "outputs": [],
   "source": [
    "fig, ax = plt.subplots(figsize=(16,4))\n",
    "\n",
    "ax = sns.histplot(met_object_df['Object End Date'][met_object_df['Object End Date'] >= 1400], kde=False)\n",
    "ax.set_xlim(1400, 2022)"
   ]
  },
  {
   "cell_type": "code",
   "execution_count": null,
   "metadata": {},
   "outputs": [],
   "source": []
  },
  {
   "cell_type": "markdown",
   "metadata": {},
   "source": [
    "### 2. groupbyによる集約\n",
    "\n",
    "ここでは、`groupby()`を利用してデータを集約してみます。"
   ]
  },
  {
   "cell_type": "markdown",
   "metadata": {},
   "source": [
    "手始めに`Country`で集約してみましょう。\n",
    "\n",
    "`DataFrameGroupBy`オブジェクトに対し、様々な集約関数を呼び出します。"
   ]
  },
  {
   "cell_type": "code",
   "execution_count": null,
   "metadata": {},
   "outputs": [],
   "source": [
    "met_objects_groupby_country = met_object_df.groupby('Country')\n",
    "\n",
    "met_objects_groupby_country"
   ]
  },
  {
   "cell_type": "markdown",
   "metadata": {},
   "source": [
    "#### 2-1. 簡単な集計関数の利用\n",
    "\n",
    "まずは`size()`で国別の件数を取得します。"
   ]
  },
  {
   "cell_type": "code",
   "execution_count": null,
   "metadata": {},
   "outputs": [],
   "source": [
    "country_size = met_objects_groupby_country.size()\n",
    "\n",
    "country_size"
   ]
  },
  {
   "cell_type": "markdown",
   "metadata": {},
   "source": [
    "似たような関数に`count()`がありますが、これは列ごとの件数を取得します。\n",
    "\n",
    "また、`size()`は行数を取得する一方で、`count()`はNA、つまり値がない場合は含めません。"
   ]
  },
  {
   "cell_type": "code",
   "execution_count": null,
   "metadata": {},
   "outputs": [],
   "source": [
    "met_objects_groupby_country.count()"
   ]
  },
  {
   "cell_type": "markdown",
   "metadata": {},
   "source": [
    "国別の`Object End Date`の最大値はどうでしょう？"
   ]
  },
  {
   "cell_type": "code",
   "execution_count": null,
   "metadata": {},
   "outputs": [],
   "source": [
    "met_objects_groupby_country['Object End Date'].max()"
   ]
  },
  {
   "cell_type": "markdown",
   "metadata": {},
   "source": [
    "国別の`Object End Date`の平均値は？"
   ]
  },
  {
   "cell_type": "code",
   "execution_count": null,
   "metadata": {},
   "outputs": [],
   "source": [
    "met_objects_groupby_country['Object End Date'].mean()"
   ]
  },
  {
   "cell_type": "markdown",
   "metadata": {},
   "source": [
    "国別の`Object End Date`の中央値は？\n",
    "\n",
    "面倒になってきました…"
   ]
  },
  {
   "cell_type": "code",
   "execution_count": null,
   "metadata": {
    "scrolled": false
   },
   "outputs": [],
   "source": [
    "met_objects_groupby_country['Object End Date'].median()"
   ]
  },
  {
   "cell_type": "markdown",
   "metadata": {},
   "source": [
    "実はここでも`describe()`が使えます。"
   ]
  },
  {
   "cell_type": "code",
   "execution_count": null,
   "metadata": {
    "scrolled": false
   },
   "outputs": [],
   "source": [
    "met_objects_groupby_country['Object End Date'].describe()"
   ]
  },
  {
   "cell_type": "markdown",
   "metadata": {},
   "source": [
    "#### 2-2. agg関数の利用\n",
    "\n",
    "複数の任意の集約関数を利用したい場合、`agg()`関数を使って集約関数をまとめて指定できます。"
   ]
  },
  {
   "cell_type": "code",
   "execution_count": null,
   "metadata": {},
   "outputs": [],
   "source": [
    "met_objects_groupby_country.agg({'AccessionYear': ['min', 'max', 'mean', 'median']})"
   ]
  },
  {
   "cell_type": "markdown",
   "metadata": {},
   "source": [
    "引数の`dict`のキーとして複数の列を対象にすることも可能です。"
   ]
  },
  {
   "cell_type": "code",
   "execution_count": null,
   "metadata": {},
   "outputs": [],
   "source": [
    "met_objects_groupby_country.agg({'AccessionYear': ['min', 'max'], 'Object Begin Date': ['mean', 'median']})"
   ]
  },
  {
   "cell_type": "markdown",
   "metadata": {},
   "source": [
    "`agg()`は引数に\n",
    "\n",
    "`結果列の名前=('対象の列', '集計関数')`\n",
    "\n",
    "を必要な分だけ指定することもできます。"
   ]
  },
  {
   "cell_type": "code",
   "execution_count": null,
   "metadata": {},
   "outputs": [],
   "source": [
    "met_objects_groupby_country.agg(\n",
    "    AY_mean=('AccessionYear', 'mean'),\n",
    "    OBD_min=('Object Begin Date', 'min'),\n",
    "    OED_max=('Object End Date', 'max'))"
   ]
  },
  {
   "cell_type": "markdown",
   "metadata": {},
   "source": [
    "#### 2-3. apply関数の利用\n",
    "\n",
    "任意の関数を集約単位で実行したい場合、`apply()`を利用します。"
   ]
  },
  {
   "cell_type": "markdown",
   "metadata": {},
   "source": [
    "ここでは作品データを`Object Name`で集約することにします。\n",
    "\n",
    "まずはどんな値があるか確認。"
   ]
  },
  {
   "cell_type": "code",
   "execution_count": null,
   "metadata": {
    "scrolled": false
   },
   "outputs": [],
   "source": [
    "met_object_df['Object Name'].value_counts().head(20)"
   ]
  },
  {
   "cell_type": "markdown",
   "metadata": {},
   "source": [
    "`groupby()`で`DataFrameGroupBy`オブジェクトを生成します。"
   ]
  },
  {
   "cell_type": "code",
   "execution_count": null,
   "metadata": {},
   "outputs": [],
   "source": [
    "met_objects_groupby_object_name = met_object_df.groupby('Object Name')\n",
    "\n",
    "met_objects_groupby_object_name"
   ]
  },
  {
   "cell_type": "markdown",
   "metadata": {},
   "source": [
    "ここではジャンルごとの重要度率を取得してみましょう。"
   ]
  },
  {
   "cell_type": "markdown",
   "metadata": {},
   "source": [
    "まず、データの重要作品率を取得する関数は以下のように定義できるでしょう。"
   ]
  },
  {
   "cell_type": "code",
   "execution_count": null,
   "metadata": {},
   "outputs": [],
   "source": [
    "def get_highlight_rate(object_df):\n",
    "    \"\"\"重要作品率を取得。\n",
    "\n",
    "    Args:\n",
    "        object_df (pandas.DataFrame): 美術品データ。\n",
    "    Returns:\n",
    "        numpy.float64: 重要作品率。\n",
    "    \"\"\"\n",
    "\n",
    "    return round(object_df['Is Highlight'].sum() / len(object_df), 2)"
   ]
  },
  {
   "cell_type": "markdown",
   "metadata": {},
   "source": [
    "実際にデータ全体に対して実行してみましょう。"
   ]
  },
  {
   "cell_type": "code",
   "execution_count": null,
   "metadata": {},
   "outputs": [],
   "source": [
    "get_highlight_rate(met_object_df)"
   ]
  },
  {
   "cell_type": "markdown",
   "metadata": {},
   "source": [
    "この関数を`apply()`に引数として渡すことで、集約単位ごとに実行することができます。\n",
    "\n",
    "実際に`Object Name`ごとの重要作品率を取得し、降順で表示してみましょう。"
   ]
  },
  {
   "cell_type": "code",
   "execution_count": null,
   "metadata": {},
   "outputs": [],
   "source": [
    "met_objects_groupby_object_name.apply(get_highlight_rate).sort_values(ascending=False).head(20)"
   ]
  },
  {
   "cell_type": "markdown",
   "metadata": {},
   "source": [
    "重要作品率が100%のものばかりになってしまいました。\n",
    "\n",
    "おそらくはジャンル別の作品点数が少ないものがあるのでしょう、今回は500点以上あるジャンルのみを対象とします。"
   ]
  },
  {
   "cell_type": "code",
   "execution_count": null,
   "metadata": {},
   "outputs": [],
   "source": [
    "popular_objects = met_objects_groupby_object_name.filter(lambda x: len(x) >= 500)\n",
    "\n",
    "print(f\"全作品データ数: {len(met_object_df):,}\")\n",
    "print(f\"500点以上あるジャンル限定: {len(popular_objects):,}\")"
   ]
  },
  {
   "cell_type": "markdown",
   "metadata": {},
   "source": [
    "改めて重要作品率を取得します。\n",
    "\n",
    "どんなことが読み取れますか？"
   ]
  },
  {
   "cell_type": "code",
   "execution_count": null,
   "metadata": {},
   "outputs": [],
   "source": [
    "popular_objects.groupby('Object Name').apply(get_highlight_rate).sort_values(ascending=False).head(20)"
   ]
  },
  {
   "cell_type": "code",
   "execution_count": null,
   "metadata": {},
   "outputs": [],
   "source": []
  },
  {
   "cell_type": "markdown",
   "metadata": {},
   "source": [
    "### 3. 横持ちへの変換\n",
    "\n",
    "ここでは、データの各行に１つずつの情報を持っている縦持ちの状態から、クロス集計表のような横持ちの状態への変換をおこないます。"
   ]
  },
  {
   "cell_type": "markdown",
   "metadata": {},
   "source": [
    "縦軸を作品の提供者、横軸を作品ジャンルとするクロス集計表を作ってみましょう。\n",
    "\n",
    "提供者は`Credit Line`です。"
   ]
  },
  {
   "cell_type": "code",
   "execution_count": null,
   "metadata": {},
   "outputs": [],
   "source": [
    "print(met_object_df['Credit Line'].head(30))\n",
    "\n",
    "print(f\"データ数: {len(met_object_df['Credit Line']):,}\")"
   ]
  },
  {
   "cell_type": "markdown",
   "metadata": {},
   "source": [
    "提供者の名前と提供年が含まれてしまっていますので、データを分離して２つの列に格納します。"
   ]
  },
  {
   "cell_type": "code",
   "execution_count": null,
   "metadata": {},
   "outputs": [],
   "source": [
    "met_object_df[['credit_line_name', 'credit_line_year']] = \\\n",
    "    met_object_df['Credit Line'].str.extract(\"(.+), (\\d{4})\", expand=True)\n",
    "\n",
    "met_object_df.head()"
   ]
  },
  {
   "cell_type": "markdown",
   "metadata": {},
   "source": [
    "提供者がどの位いるのか確認。"
   ]
  },
  {
   "cell_type": "code",
   "execution_count": null,
   "metadata": {},
   "outputs": [],
   "source": [
    "met_object_df['credit_line_name'].value_counts()"
   ]
  },
  {
   "cell_type": "markdown",
   "metadata": {},
   "source": [
    "表を作るには多すぎるので上位10までに絞ります。"
   ]
  },
  {
   "cell_type": "code",
   "execution_count": null,
   "metadata": {},
   "outputs": [],
   "source": [
    "popular_credit_line_name_10 = met_object_df['credit_line_name'].value_counts()[:10].index.values\n",
    "\n",
    "print(\"\\n\".join(popular_credit_line_name_10))"
   ]
  },
  {
   "cell_type": "markdown",
   "metadata": {},
   "source": [
    "ジャンルも上位10までに絞ります。"
   ]
  },
  {
   "cell_type": "code",
   "execution_count": null,
   "metadata": {},
   "outputs": [],
   "source": [
    "popular_object_name_10 = met_object_df['Object Name'].value_counts()[:10].index.values\n",
    "\n",
    "print(\"\\n\".join(popular_object_name_10))"
   ]
  },
  {
   "cell_type": "code",
   "execution_count": null,
   "metadata": {},
   "outputs": [],
   "source": [
    "met_object_popular_credit_line_df = met_object_df[\n",
    "    met_object_df['credit_line_name'].isin(popular_credit_line_name_10) &\n",
    "    met_object_df['Object Name'].isin(popular_object_name_10)]\n",
    "\n",
    "print(f\"全作品数: {len(met_object_df):,}\")\n",
    "print(f\"絞った数: {len(met_object_popular_credit_line_df):,}\")"
   ]
  },
  {
   "cell_type": "markdown",
   "metadata": {},
   "source": [
    "まずは提供者名、ジャンルでグループ化して作品点数を出力します。"
   ]
  },
  {
   "cell_type": "code",
   "execution_count": null,
   "metadata": {},
   "outputs": [],
   "source": [
    "met_object_groupby_credit_line = met_object_popular_credit_line_df.groupby([\"credit_line_name\", \"Object Name\"]) \\\n",
    "                                 .size()\n",
    "\n",
    "met_object_groupby_credit_line"
   ]
  },
  {
   "cell_type": "markdown",
   "metadata": {},
   "source": [
    "横持ちになるよう、`unstack()`で各ジャンル名を列にします。"
   ]
  },
  {
   "cell_type": "code",
   "execution_count": null,
   "metadata": {},
   "outputs": [],
   "source": [
    "credit_line_object_name_pivot_table = met_object_groupby_credit_line.unstack()\n",
    "\n",
    "credit_line_object_name_pivot_table"
   ]
  },
  {
   "cell_type": "markdown",
   "metadata": {},
   "source": [
    "ちなみに元に戻すには`stack()`です。"
   ]
  },
  {
   "cell_type": "code",
   "execution_count": null,
   "metadata": {},
   "outputs": [],
   "source": [
    "credit_line_object_name_pivot_table.stack()"
   ]
  },
  {
   "cell_type": "markdown",
   "metadata": {},
   "source": [
    "また、該当する値がない場合に`NaN`となってしまうので、`fillna()`で0をセットします。"
   ]
  },
  {
   "cell_type": "code",
   "execution_count": null,
   "metadata": {},
   "outputs": [],
   "source": [
    "credit_line_object_name_pivot_table.fillna(0, inplace=True)\n",
    "\n",
    "credit_line_object_name_pivot_table"
   ]
  },
  {
   "cell_type": "markdown",
   "metadata": {},
   "source": [
    "それから数値が`float`になっているので、一応`int`にしておきます。  \n",
    "`NaN`があるとエラーになるので、`NaN`をなくしてから変換しましょう。\n",
    "\n",
    "これでクロス集計表は完成です。"
   ]
  },
  {
   "cell_type": "code",
   "execution_count": null,
   "metadata": {},
   "outputs": [],
   "source": [
    "credit_line_object_name_pivot_table = credit_line_object_name_pivot_table.astype(int)\n",
    "\n",
    "credit_line_object_name_pivot_table"
   ]
  },
  {
   "cell_type": "markdown",
   "metadata": {},
   "source": [
    "実は、`pd.crosstab()`を使えば、`groupby()`以降をやらなくても簡単に表を作れてしまいます。\n",
    "\n",
    "作成後、上の表と見比べてください。"
   ]
  },
  {
   "cell_type": "code",
   "execution_count": null,
   "metadata": {},
   "outputs": [],
   "source": [
    "### チャレンジしてみましょう！！ ###"
   ]
  },
  {
   "cell_type": "markdown",
   "metadata": {},
   "source": [
    "さらには`pd.pivot_table()`を使うこともできます。\n",
    "\n",
    "`pd.pivot_table()`は回数だけでなく、任意の関数で数値計算をすることができます。  \n",
    "今回の場合は回数ですので`aggfunc`に`len()`を指定しています。"
   ]
  },
  {
   "cell_type": "code",
   "execution_count": null,
   "metadata": {},
   "outputs": [],
   "source": [
    "### チャレンジしてみましょう！！ ###"
   ]
  },
  {
   "cell_type": "markdown",
   "metadata": {},
   "source": [
    "最後にグラフでデータを表示してみましょう。  \n",
    "どんなグラフが最適でしょうか？\n",
    "\n"
   ]
  },
  {
   "cell_type": "code",
   "execution_count": null,
   "metadata": {},
   "outputs": [],
   "source": [
    "palette = sns.color_palette('Set2', len(credit_line_object_name_pivot_table.columns))\n",
    "\n",
    "# 配列に数値を積み上げていく。\n",
    "left = np.zeros(len(credit_line_object_name_pivot_table.index))\n",
    "\n",
    "fig, ax = plt.subplots(figsize=(16,8))\n",
    "\n",
    "for i, column in enumerate(credit_line_object_name_pivot_table.columns):\n",
    "    sns.barplot(x=credit_line_object_name_pivot_table[column], \\\n",
    "                     y=credit_line_object_name_pivot_table.index, \\\n",
    "                     color=palette[i], \\\n",
    "                     label=column, \\\n",
    "                     left=left)\n",
    "\n",
    "    left += list(credit_line_object_name_pivot_table[column])\n",
    "\n",
    "ax.legend(loc=\"upper left\", bbox_to_anchor=(1,1))"
   ]
  },
  {
   "cell_type": "code",
   "execution_count": null,
   "metadata": {},
   "outputs": [],
   "source": []
  },
  {
   "cell_type": "markdown",
   "metadata": {},
   "source": [
    "### 4. 作品画像の取得\n",
    "\n",
    "ここでは芸術家を１人ピックアップして作品の画像を取得し、年代順に並べて作風の変遷を見てみましょう。"
   ]
  },
  {
   "cell_type": "markdown",
   "metadata": {},
   "source": [
    "作品画像の取得にはWebスクレイピングをおこないますので、まずは対象のページでスクレイピングが可能であるかを検証します。\n",
    "\n",
    "作品データからランダムに１点選び、`Link Resource`列にあるURLを取得します。  \n",
    "そのURLのページが実在するか確認してください。"
   ]
  },
  {
   "cell_type": "code",
   "execution_count": null,
   "metadata": {},
   "outputs": [],
   "source": [
    "sample_link = met_object_df.sample()['Link Resource'].values[0] # sample()なので、実行するたびにリンクが変わります。\n",
    "\n",
    "print(sample_link)"
   ]
  },
  {
   "cell_type": "markdown",
   "metadata": {},
   "source": [
    "次にページのHTMLコードを取得してみましょう。"
   ]
  },
  {
   "cell_type": "code",
   "execution_count": null,
   "metadata": {},
   "outputs": [],
   "source": [
    "response = requests.get(sample_link)\n",
    "\n",
    "print(\"Status Code:\", response.status_code)\n",
    "response.text"
   ]
  },
  {
   "cell_type": "markdown",
   "metadata": {},
   "source": [
    "ステータスコードは200ですが\n",
    "\n",
    "> Request unsuccessful. Incapsula incident ID: 434000520055295231-179312307656068356\n",
    "\n",
    "とあるので、ページを正しく取得できていないようです。\n",
    "\n",
    "おそらくはプログラムを使った機械的な大量アクセスを防ぐ仕組みがあるのでしょう。  \n",
    "（ここで数ページをアクセスする分には特に問題ないと思いますが。）\n",
    "\n",
    "ブラウザを偽装したヘッダーを追加しても失敗します。"
   ]
  },
  {
   "cell_type": "code",
   "execution_count": null,
   "metadata": {
    "scrolled": false
   },
   "outputs": [],
   "source": [
    "headers = {'User-Agent':'Mozilla/5.0 (Macintosh; Intel Mac OS X 10_10_1) AppleWebKit/537.36 (KHTML, like Gecko) Chrome/39.0.2171.95 Safari/537.36'}\n",
    "response = requests.get(sample_link, headers=headers)\n",
    "\n",
    "print(\"Status Code:\", response.status_code)\n",
    "response.text"
   ]
  },
  {
   "cell_type": "markdown",
   "metadata": {},
   "source": [
    "そこでChromeブラウザ経由でページにアクセスするようにしてみます。\n",
    "\n",
    "以下の関数を定義します。"
   ]
  },
  {
   "cell_type": "code",
   "execution_count": null,
   "metadata": {},
   "outputs": [],
   "source": [
    "def get_page_source_with_chrome(url):\n",
    "    \"\"\"指定のURLのHTMLコードをChromeブラウザ経由で取得。\n",
    "\n",
    "    Args:\n",
    "        url (str): ページのURL。\n",
    "    Returns:\n",
    "        str: HTMLソース。\n",
    "    \"\"\"\n",
    "\n",
    "    browser = None\n",
    "\n",
    "    if which('chromedriver') is None:\n",
    "        # chromedriverをlibディレクトリに配置した場合\n",
    "\n",
    "        driver_path = glob.glob('lib/chromedriver*')[0] # 拡張子がない場合も取得\n",
    "        try:\n",
    "            # Selenium 4\n",
    "            chrome_service = webdriver.chrome.service.Service(executable_path=driver_path)\n",
    "            browser = webdriver.Chrome(service=chrome_service)\n",
    "        except TypeError:\n",
    "            # Selenium 3\n",
    "            browser = webdriver.Chrome(executable_path=driver_path)\n",
    "        \n",
    "    else:\n",
    "        # chromedriverがサーバーにインストールされている場合\n",
    "\n",
    "        options = webdriver.ChromeOptions()\n",
    "        options.add_argument(\"--no-sandbox\") # rootユーザーでも実行可    \n",
    "        options.add_argument(\"--headless\")   # ブラウザ画面を表示しない\n",
    "        \n",
    "        try:\n",
    "            # Selenium 4\n",
    "            chrome_service = webdriver.chrome.service.Service()\n",
    "            browser = webdriver.Chrome(service=chrome_service, options=options)\n",
    "        except TypeError:\n",
    "            # Selenium 3\n",
    "            browser = webdriver.Chrome(options=options)\n",
    "        \n",
    "    browser.get(url)\n",
    "    source = browser.page_source\n",
    "    browser.quit()\n",
    "\n",
    "    return source"
   ]
  },
  {
   "cell_type": "markdown",
   "metadata": {},
   "source": [
    "実行してみましょう。"
   ]
  },
  {
   "cell_type": "code",
   "execution_count": null,
   "metadata": {},
   "outputs": [],
   "source": [
    "html = get_page_source_with_chrome(sample_link)\n",
    "\n",
    "html[:2_000] # 長いので2,000文字だけ表示。"
   ]
  },
  {
   "cell_type": "markdown",
   "metadata": {},
   "source": [
    "今度は正しくHTMLコードが取れているようです。\n",
    "\n",
    "ソースコード中にある以下のようなタグを`id=\"artwork__image\"`を足がかりにして見つけ出し、`src`属性にある画像のURLを取得します。\n",
    "\n",
    "\n",
    "```\n",
    "<img id=\"artwork__image\" class=\"artwork__image gtm__artwork__image\" src=\"https://collectionapi.metmuseum.org/api/collection/v1/iiif/186106/431502/main-image\" alt=\"Tazza, Glass, Italian, Venice (Murano) \" itemprop=\"contentUrl\">\n",
    "```"
   ]
  },
  {
   "cell_type": "code",
   "execution_count": null,
   "metadata": {},
   "outputs": [],
   "source": [
    "soup = BeautifulSoup(html, \"html.parser\")\n",
    "img = soup.find(id=\"artwork__image\")\n",
    "if img:\n",
    "    src = img.attrs['src']\n",
    "    display(Image(url=src, width=400))\n",
    "else:\n",
    "    print(\"Image not available.\")"
   ]
  },
  {
   "cell_type": "markdown",
   "metadata": {},
   "source": [
    "それでは、芸術家をピックアップし、その芸術家の芸術作品群の画像を取得していきます。"
   ]
  },
  {
   "cell_type": "markdown",
   "metadata": {},
   "source": [
    "まず、以下のような条件で芸術家をピックアップします。\n",
    "1. 重要作品が存在する芸術家であること。\n",
    "2. 作品が絵画であること。\n",
    "3. 作者不明（Anonymous）ではないこと。"
   ]
  },
  {
   "cell_type": "code",
   "execution_count": null,
   "metadata": {},
   "outputs": [],
   "source": [
    "met_object_df['Artist Display Name'].unique()"
   ]
  },
  {
   "cell_type": "code",
   "execution_count": null,
   "metadata": {},
   "outputs": [],
   "source": [
    "artist_with_multiple_hilight_works_df = met_object_df[ \\\n",
    "    met_object_df['Is Highlight'] & \\\n",
    "    (met_object_df['Object Name'] == 'Drawing') & \\\n",
    "    ~met_object_df['Artist Display Name'].str.contains('Anonymous', case=False, na=True)] \\\n",
    ".groupby(['Artist Display Name']) \\\n",
    ".agg(count=('Object Number','count')) \\\n",
    ".query(\"count > 0\") \\\n",
    ".sort_values('count', ascending=False)\n",
    "\n",
    "artist_with_multiple_hilight_works_df"
   ]
  },
  {
   "cell_type": "markdown",
   "metadata": {},
   "source": [
    "抽出した芸術家の中からランダムに一人選択後、作品画像を取得して年代順に並べます。\n",
    "\n",
    "どんなことが読み取れますか？"
   ]
  },
  {
   "cell_type": "code",
   "execution_count": null,
   "metadata": {
    "scrolled": false
   },
   "outputs": [],
   "source": [
    "# 作品画像の取得数最大値\n",
    "n_max_drawing = 5\n",
    "\n",
    "# 芸術家を選択\n",
    "#pickup_artist = \"Georgia O'Keeffe\"\n",
    "pickup_artist = artist_with_multiple_hilight_works_df.sample().index.values[0]\n",
    "\n",
    "# 作品データを抽出\n",
    "pickup_artist_work_df = met_object_df[\n",
    "                        (met_object_df['Artist Display Name'] == pickup_artist) & \\\n",
    "                        (met_object_df['Object Name'] == 'Drawing')] \\\n",
    "                        .sort_values('Object End Date') \\\n",
    "                        .reset_index()\n",
    "\n",
    "print(pickup_artist)\n",
    "print(\"\")\n",
    "\n",
    "for i, work in pickup_artist_work_df.iterrows():\n",
    "    \n",
    "    # 最大値に達したら終了\n",
    "    if i == n_max_drawing:\n",
    "        break\n",
    "\n",
    "    print(f\"{i+1}. {work['Title']}\")\n",
    "    print(f\"{work['Object End Date']}年\")\n",
    "    print(work['Link Resource'])\n",
    "\n",
    "    # 作品画像を取得して表示\n",
    "    html = get_page_source_with_chrome(work['Link Resource'])\n",
    "    soup = BeautifulSoup(html, \"html.parser\")\n",
    "    img = soup.find(id=\"artwork__image\")\n",
    "    if img:\n",
    "        src = img.attrs['src']\n",
    "        display(Image(url=src, width=400))\n",
    "    else:\n",
    "        print(\"Image not available.\")"
   ]
  },
  {
   "cell_type": "code",
   "execution_count": null,
   "metadata": {},
   "outputs": [],
   "source": []
  }
 ],
 "metadata": {
  "interpreter": {
   "hash": "d109c1022d0269bfeb1214b0bec2187ee8bc4e794779a7e71ed964fc39a480b6"
  },
  "kernelspec": {
   "display_name": "Python 3 (ipykernel)",
   "language": "python",
   "name": "python3"
  },
  "language_info": {
   "codemirror_mode": {
    "name": "ipython",
    "version": 3
   },
   "file_extension": ".py",
   "mimetype": "text/x-python",
   "name": "python",
   "nbconvert_exporter": "python",
   "pygments_lexer": "ipython3",
   "version": "3.9.9"
  }
 },
 "nbformat": 4,
 "nbformat_minor": 2
}
