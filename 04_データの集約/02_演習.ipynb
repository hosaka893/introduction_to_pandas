{
 "cells": [
  {
   "cell_type": "markdown",
   "metadata": {},
   "source": [
    "### 0. 事前準備\n",
    "\n",
    "以下のデータを取得して、このノートブックと同じディレクトリにある`data`ディレクトリに配置します。\n",
    "\n",
    "__UNESCO Syndication__  \n",
    "  URL:  \n",
    "  ・https://whc.unesco.org/en/syndication    \n",
    "  DATA:  \n",
    "  ・whc-sites-2021.xls  \n",
    "  データの取得方法:  \n",
    "    「The List」にある「XLS」リンクをクリックします。"
   ]
  },
  {
   "cell_type": "code",
   "execution_count": null,
   "metadata": {},
   "outputs": [],
   "source": [
    "%matplotlib inline\n",
    "\n",
    "from bs4 import BeautifulSoup\n",
    "import folium\n",
    "from IPython.core.display import HTML\n",
    "from IPython.display import Image, display\n",
    "import matplotlib.pyplot as plt\n",
    "import numpy as np\n",
    "import pandas as pd\n",
    "import plotly.express as px\n",
    "import requests\n",
    "import seaborn as sns\n",
    "from selenium import webdriver"
   ]
  },
  {
   "cell_type": "code",
   "execution_count": null,
   "metadata": {},
   "outputs": [],
   "source": []
  },
  {
   "cell_type": "markdown",
   "metadata": {},
   "source": [
    "### 1. データの概要を掴む"
   ]
  },
  {
   "cell_type": "markdown",
   "metadata": {},
   "source": [
    "世界遺産データをロード。"
   ]
  },
  {
   "cell_type": "code",
   "execution_count": null,
   "metadata": {},
   "outputs": [],
   "source": []
  },
  {
   "cell_type": "markdown",
   "metadata": {},
   "source": [
    "データの中身を確認。"
   ]
  },
  {
   "cell_type": "code",
   "execution_count": null,
   "metadata": {},
   "outputs": [],
   "source": []
  },
  {
   "cell_type": "markdown",
   "metadata": {},
   "source": [
    "各列の状況を`info()`で確認。\n",
    "\n",
    "各列が何を意味しているか分かりますか？\n",
    "\n",
    "参考）  \n",
    "・UNESCO The Criteria for Selection  \n",
    "　http://whc.unesco.org/en/criteria/\n",
    "\n",
    "・Template:UNESCO World Heritage Site row/doc  \n",
    "　https://en.wikipedia.org/wiki/Template:UNESCO_World_Heritage_Site_row/doc"
   ]
  },
  {
   "cell_type": "code",
   "execution_count": null,
   "metadata": {
    "scrolled": false
   },
   "outputs": [],
   "source": []
  },
  {
   "cell_type": "markdown",
   "metadata": {},
   "source": [
    "どんな世界遺産があるのかUNESCOのサイトで確認してみましょう。  \n",
    "\n",
    "`states_name_en`列にある任意の国名で絞って`id_no`を取得し、ギャラリーへのリンクのリストを作成してみます。  \n",
    "URLのパターン: `https://whc.unesco.org/en/list/<id_noを指定>/gallery/`\n",
    "\n",
    "まず`states_name_en`にどんな国名があるか`unique()`で確認します。"
   ]
  },
  {
   "cell_type": "code",
   "execution_count": null,
   "metadata": {},
   "outputs": [],
   "source": []
  },
  {
   "cell_type": "markdown",
   "metadata": {},
   "source": [
    "複数の国に跨っているケースがあって、その場合はカンマ区切りになっているようなので、それぞれを独立した行にしてしまいます。\n",
    "\n",
    "手順は以下です。  \n",
    "1.`states_name_en`列の値を行ごとにカンマで分割してリストにし、新たな列`single_country`に格納。  \n",
    "2.`single_country`列に`explode()`を実行し、リストの要素ごとの行を作成する。"
   ]
  },
  {
   "cell_type": "code",
   "execution_count": null,
   "metadata": {},
   "outputs": [],
   "source": []
  },
  {
   "cell_type": "markdown",
   "metadata": {},
   "source": [
    "`single_country`の値を`unique()`で確認します。"
   ]
  },
  {
   "cell_type": "code",
   "execution_count": null,
   "metadata": {},
   "outputs": [],
   "source": []
  },
  {
   "cell_type": "markdown",
   "metadata": {},
   "source": [
    "ギャラリーURLのリストを作成します。"
   ]
  },
  {
   "cell_type": "code",
   "execution_count": null,
   "metadata": {},
   "outputs": [],
   "source": []
  },
  {
   "cell_type": "code",
   "execution_count": null,
   "metadata": {},
   "outputs": [],
   "source": []
  },
  {
   "cell_type": "markdown",
   "metadata": {},
   "source": [
    "### 2. groupbyによる集約\n",
    "\n",
    "ここでは、`groupby()`を利用してデータを集約してみます。"
   ]
  },
  {
   "cell_type": "markdown",
   "metadata": {},
   "source": [
    "#### 2-1. 簡単な集計関数の利用"
   ]
  },
  {
   "cell_type": "markdown",
   "metadata": {},
   "source": [
    "国別の世界遺産数を取得し、多い順にソートします。\n",
    "\n",
    "`groupby()`で`DataFrameGroupBy`オブジェクトを生成し、`size()`で国ごとの件数を計算します。"
   ]
  },
  {
   "cell_type": "code",
   "execution_count": null,
   "metadata": {},
   "outputs": [],
   "source": []
  },
  {
   "cell_type": "markdown",
   "metadata": {},
   "source": [
    "横棒グラフですべての国の世界遺産数を多い順に表示してみましょう。\n",
    "\n",
    "どんなことが読み取れますか？"
   ]
  },
  {
   "cell_type": "code",
   "execution_count": null,
   "metadata": {
    "scrolled": false
   },
   "outputs": [],
   "source": []
  },
  {
   "cell_type": "markdown",
   "metadata": {},
   "source": [
    "同様に地域でグループ化し、多い順に横棒グラフで表示してみます。\n",
    "\n",
    "複数の国に跨っているものを複数の行にさせたので`id_no`の重複がありますから、`nunique()`を使って件数を取得します。"
   ]
  },
  {
   "cell_type": "code",
   "execution_count": null,
   "metadata": {
    "scrolled": false
   },
   "outputs": [],
   "source": []
  },
  {
   "cell_type": "markdown",
   "metadata": {},
   "source": [
    "グラフを表示します。\n",
    "\n",
    "どんなことが読み取れますか？"
   ]
  },
  {
   "cell_type": "code",
   "execution_count": null,
   "metadata": {
    "scrolled": true
   },
   "outputs": [],
   "source": []
  },
  {
   "cell_type": "markdown",
   "metadata": {},
   "source": [
    "#### 2-2. agg関数の利用\n",
    "\n",
    "複数の任意の集約関数を利用したい場合、`agg()`関数を使って集約関数をまとめて指定できます。"
   ]
  },
  {
   "cell_type": "markdown",
   "metadata": {},
   "source": [
    "世界遺産のヘクタール面積の最大値、最小値、平均、中央値を`agg()`を使って取得してみましょう。"
   ]
  },
  {
   "cell_type": "code",
   "execution_count": null,
   "metadata": {
    "scrolled": false
   },
   "outputs": [],
   "source": []
  },
  {
   "cell_type": "markdown",
   "metadata": {},
   "source": [
    "もちろんこの場合は`agg()`を使わずに`describe()`で簡単に計算できます。"
   ]
  },
  {
   "cell_type": "code",
   "execution_count": null,
   "metadata": {},
   "outputs": [],
   "source": []
  },
  {
   "cell_type": "markdown",
   "metadata": {},
   "source": [
    "#### 2-3. apply関数の利用\n",
    "\n",
    "任意の関数を集約単位で実行したい場合、`apply()`を利用します。"
   ]
  },
  {
   "cell_type": "markdown",
   "metadata": {},
   "source": [
    "地域ごと、国ごとの危機遺産率を取得してみましょう。\n",
    "\n",
    "最初に、引数として遺産データフレームを取って危機遺産率を計算する関数を定義します。"
   ]
  },
  {
   "cell_type": "code",
   "execution_count": null,
   "metadata": {},
   "outputs": [],
   "source": []
  },
  {
   "cell_type": "markdown",
   "metadata": {},
   "source": [
    "関数をデータ全体に対して実行してみましょう。"
   ]
  },
  {
   "cell_type": "code",
   "execution_count": null,
   "metadata": {},
   "outputs": [],
   "source": []
  },
  {
   "cell_type": "markdown",
   "metadata": {},
   "source": [
    "この関数を`apply()`に引数として渡すことで、集約単位ごとに実行することができます。\n",
    "\n",
    "地域ごとの危機遺産率を取得し、降順で表示してみましょう。\n",
    "\n",
    "どんなことが読み取れますか？"
   ]
  },
  {
   "cell_type": "code",
   "execution_count": null,
   "metadata": {},
   "outputs": [],
   "source": []
  },
  {
   "cell_type": "markdown",
   "metadata": {},
   "source": [
    "同様に国ごとの危機遺産率を取得し、降順で表示してみましょう。"
   ]
  },
  {
   "cell_type": "code",
   "execution_count": null,
   "metadata": {},
   "outputs": [],
   "source": []
  },
  {
   "cell_type": "markdown",
   "metadata": {},
   "source": [
    "国ごとの危機遺産率を以下のルールで地図上に表示します。\n",
    "\n",
    "- `plotly`を使って地球儀を表示。\n",
    "- 危機遺産率が0でないものが対象。\n",
    "- 国の位置を赤い点で示し、危険遺産率に合わせて色を変化させる。\n",
    "- 国の位置座標は大雑把に国ごとの世界遺産の緯度、経度の平均値とする。"
   ]
  },
  {
   "cell_type": "markdown",
   "metadata": {},
   "source": [
    "まず世界遺産のデータフレームを国でグループ化し、緯度、経度の平均を計算したデータフレームを作成します。"
   ]
  },
  {
   "cell_type": "code",
   "execution_count": null,
   "metadata": {
    "scrolled": false
   },
   "outputs": [],
   "source": []
  },
  {
   "cell_type": "markdown",
   "metadata": {},
   "source": [
    "作成したデータフレームに、先ほどの危機遺産率を新たな列として加えます。"
   ]
  },
  {
   "cell_type": "code",
   "execution_count": null,
   "metadata": {},
   "outputs": [],
   "source": []
  },
  {
   "cell_type": "markdown",
   "metadata": {},
   "source": [
    "危機遺産率が0のものを取り除き、インデックスもリセットします。"
   ]
  },
  {
   "cell_type": "code",
   "execution_count": null,
   "metadata": {},
   "outputs": [],
   "source": []
  },
  {
   "cell_type": "markdown",
   "metadata": {},
   "source": [
    "`plotly`の`px.scatter_geo()`に引数`projection=\"orthographic\"`を渡して地球儀を表示します。\n",
    "\n",
    "どんなことが読み取れますか？"
   ]
  },
  {
   "cell_type": "code",
   "execution_count": null,
   "metadata": {},
   "outputs": [],
   "source": []
  },
  {
   "cell_type": "code",
   "execution_count": null,
   "metadata": {},
   "outputs": [],
   "source": []
  },
  {
   "cell_type": "markdown",
   "metadata": {},
   "source": [
    "### 3. 横持ち・縦持ちへの変換\n",
    "\n",
    "ここでは、データの各行に１つずつの情報を持つ縦持ちの状態からクロス集計表のような横持ちの状態への変換、またはその逆への変換をおこないます。"
   ]
  },
  {
   "cell_type": "markdown",
   "metadata": {},
   "source": [
    "#### 3-1. 横持ちへの変換\n",
    "\n",
    "縦軸を国、横軸をカテゴリとするクロス集計表を作ってみましょう。"
   ]
  },
  {
   "cell_type": "markdown",
   "metadata": {},
   "source": [
    "まずは国、カテゴリでグループ化して件数を出力します。"
   ]
  },
  {
   "cell_type": "code",
   "execution_count": null,
   "metadata": {},
   "outputs": [],
   "source": []
  },
  {
   "cell_type": "markdown",
   "metadata": {},
   "source": [
    "横持ちになるよう、`unstack()`でカテゴリのそれぞれの値を列にします。  \n",
    "また、該当する値がない場合は0とします。\n",
    "\n",
    "これでクロス集計は完成です。"
   ]
  },
  {
   "cell_type": "code",
   "execution_count": null,
   "metadata": {},
   "outputs": [],
   "source": []
  },
  {
   "cell_type": "markdown",
   "metadata": {},
   "source": [
    "`groupby()`を使わず、`crosstab()`を使う方法でもやってみましょう。"
   ]
  },
  {
   "cell_type": "code",
   "execution_count": null,
   "metadata": {},
   "outputs": [],
   "source": []
  },
  {
   "cell_type": "markdown",
   "metadata": {},
   "source": [
    "さらに`pivot_table()`でも同じクロス集計を作成してみましょう。\n",
    "\n",
    "数値計算でどんな関数を使うのか指定する必要があります。"
   ]
  },
  {
   "cell_type": "code",
   "execution_count": null,
   "metadata": {},
   "outputs": [],
   "source": []
  },
  {
   "cell_type": "markdown",
   "metadata": {},
   "source": [
    "最後に積み上げ横棒グラフでデータを多い順に表示してみましょう。\n",
    "\n",
    "まず国ごとにカテゴリ数を合計して新たな列`Total`に格納後、`Total`列の値の降順に並べ替えます。"
   ]
  },
  {
   "cell_type": "code",
   "execution_count": null,
   "metadata": {},
   "outputs": [],
   "source": []
  },
  {
   "cell_type": "markdown",
   "metadata": {},
   "source": [
    "グラフを表示します。\n",
    "\n",
    "どんなことが読み取れますか？"
   ]
  },
  {
   "cell_type": "code",
   "execution_count": null,
   "metadata": {
    "scrolled": false
   },
   "outputs": [],
   "source": []
  },
  {
   "cell_type": "markdown",
   "metadata": {},
   "source": [
    "#### 3-2. 縦持ちへの変換\n",
    "\n",
    "今度は手順が複雑になりますが、地域別のC1〜C6、N7〜N10の判断基準の合計数をレーダーチャートで表示してみます。\n",
    "\n",
    "手順は以下になります。  \n",
    "1.同じ地域での`id_no`の重複する行を除去。  \n",
    "2.縦軸を地域、横軸を判断基準とするクロス集計のデータフレームを作成。  \n",
    "3.地域のうち、複数の地域に跨るものを除去。  \n",
    "4.データフレームを整形し、最終的に「地域」「判断基準」「合計数」の列となるようにする。  \n",
    "5.`ploty`の`line_polar()`でレーダーチャートを表示する。  "
   ]
  },
  {
   "cell_type": "markdown",
   "metadata": {},
   "source": [
    "まず重複の除去をおこないます。"
   ]
  },
  {
   "cell_type": "code",
   "execution_count": null,
   "metadata": {},
   "outputs": [],
   "source": []
  },
  {
   "cell_type": "markdown",
   "metadata": {},
   "source": [
    "次にクロス集計のデータフレームを作成します。"
   ]
  },
  {
   "cell_type": "code",
   "execution_count": null,
   "metadata": {
    "scrolled": true
   },
   "outputs": [],
   "source": []
  },
  {
   "cell_type": "markdown",
   "metadata": {},
   "source": [
    "インデックスから複数の地域に跨るものを除去します。"
   ]
  },
  {
   "cell_type": "code",
   "execution_count": null,
   "metadata": {},
   "outputs": [],
   "source": []
  },
  {
   "cell_type": "markdown",
   "metadata": {},
   "source": [
    "判断基準をインデックスにした後、すべてのインデックスをリセットして縦持ちへの変換を完了します。"
   ]
  },
  {
   "cell_type": "code",
   "execution_count": null,
   "metadata": {},
   "outputs": [],
   "source": []
  },
  {
   "cell_type": "markdown",
   "metadata": {},
   "source": [
    "`plotly`の`line_ploar()`レーダーチャートを表示します。\n",
    "\n",
    "どんなことが読み取れますか？"
   ]
  },
  {
   "cell_type": "code",
   "execution_count": null,
   "metadata": {
    "scrolled": false
   },
   "outputs": [],
   "source": []
  },
  {
   "cell_type": "code",
   "execution_count": null,
   "metadata": {},
   "outputs": [],
   "source": []
  },
  {
   "cell_type": "markdown",
   "metadata": {},
   "source": [
    "### 4. 世界遺産登録の変遷を地図上に表示\n",
    "\n",
    "`plotly`のアニメーション機能を使って、世界遺産登録の変遷を地図上に表示してみましょう。\n",
    "\n",
    "年が進むにつれて各国の総登録数が増えていき、国ごとの区画の色が濃くなるようにします。"
   ]
  },
  {
   "cell_type": "markdown",
   "metadata": {},
   "source": [
    "まず最初に国名コードのデータを取得します。\n",
    "\n",
    "地図上の国の区画とデータは3文字の国名コード（ISO 3166-1 alpha-3）で結びつけるのですが、世界遺産データの2文字の国名コードしかありませんので、データをウィキペディアから取得しロードします。\n",
    "\n",
    "一度取得したデータは、何度も取得しないように`data/country_code.csv`保存するようにしましょう。\n",
    "\n",
    "\n",
    "ウィキペディア ISO 3166-1  \n",
    "https://ja.wikipedia.org/wiki/ISO_3166-1\n"
   ]
  },
  {
   "cell_type": "code",
   "execution_count": null,
   "metadata": {},
   "outputs": [],
   "source": []
  },
  {
   "cell_type": "markdown",
   "metadata": {},
   "source": [
    "取得したデータの中身を表示。"
   ]
  },
  {
   "cell_type": "code",
   "execution_count": null,
   "metadata": {},
   "outputs": [],
   "source": []
  },
  {
   "cell_type": "markdown",
   "metadata": {},
   "source": [
    "英語の国名を`country`、3文字のコードを`country_code`として、他の必要ない列は削除します。"
   ]
  },
  {
   "cell_type": "code",
   "execution_count": null,
   "metadata": {},
   "outputs": [],
   "source": []
  },
  {
   "cell_type": "markdown",
   "metadata": {},
   "source": [
    "次に地図用のデータフレームを用意します。  \n",
    "以下の4つの属性を縦持ちしたデータフレームが必要です。\n",
    "\n",
    "1. 国名コード  \n",
    "世界遺産の登録があるすべての国の国名コード。\n",
    "\n",
    "2. 国名  \n",
    "世界遺産データにある英語名。\n",
    " \n",
    "3. 年度  \n",
    "世界全体で一番最初の世界遺産の登録年の前年から最新の登録の年度まで。  \n",
    "すべての国が、すべての年度の行を持つ必要があります。\n",
    "\n",
    "3. 登録数累計  \n",
    "各国の各年度ごとの登録数累計。\n",
    "\n",
    "作成手順は以下のようになります。\n",
    "\n",
    "1. 世界遺産データを国、登録年でグループ化し、件数を集計した`Series`オブジェクトを作成。\n",
    "2. 世界遺産の登録があるすべての国とすべての年度を掛け合わせたインデックスを持つ、値が空の`Series`オブジェクトを作成。\n",
    "3. 2を1で上書きし、値が空の部分はすべて0で埋める。\n",
    "4. 国、年度ごとに累計を計算し、新たな列として加える。\n",
    "5. 国、年度のインデックスをリセットして列に変換し、データフレームにする。\n",
    "6. 国名をキーに国名コードのデータフレームと結合する。"
   ]
  },
  {
   "cell_type": "markdown",
   "metadata": {},
   "source": [
    "世界遺産データを国、登録年でグループ化し、件数を集計した`Series`オブジェクトを作成します。"
   ]
  },
  {
   "cell_type": "code",
   "execution_count": null,
   "metadata": {},
   "outputs": [],
   "source": []
  },
  {
   "cell_type": "markdown",
   "metadata": {},
   "source": [
    "世界遺産の登録があるすべての国とすべての年度を掛け合わせたインデックスを持つ、値が空の`Series`オブジェクトを作成します。\n",
    "\n",
    "年度は世界全体で一番最初の世界遺産の登録年の前年から最新の登録の年度までです。"
   ]
  },
  {
   "cell_type": "code",
   "execution_count": null,
   "metadata": {
    "scrolled": false
   },
   "outputs": [],
   "source": []
  },
  {
   "cell_type": "markdown",
   "metadata": {},
   "source": [
    "作成した空の`Series`オブジェクトを先ほどの件数のある`Series`オブジェクトで上書きし、値が空の部分はすべて0で埋めます。\n",
    "\n",
    "上書きには`combine_first()`を使います。"
   ]
  },
  {
   "cell_type": "code",
   "execution_count": null,
   "metadata": {},
   "outputs": [],
   "source": []
  },
  {
   "cell_type": "markdown",
   "metadata": {},
   "source": [
    "国、年度ごとに累計を計算し、新たな列として加えます。"
   ]
  },
  {
   "cell_type": "code",
   "execution_count": null,
   "metadata": {},
   "outputs": [],
   "source": []
  },
  {
   "cell_type": "markdown",
   "metadata": {},
   "source": [
    "`Zimbabwe`（ジンバブエ）のデータで正しく累計が計算されているか確認します。"
   ]
  },
  {
   "cell_type": "code",
   "execution_count": null,
   "metadata": {},
   "outputs": [],
   "source": []
  },
  {
   "cell_type": "markdown",
   "metadata": {},
   "source": [
    "問題なければ国、年度のインデックスをリセットして列に変換し、データフレームにします。\n",
    "\n",
    "各列名は`country`、`year`、`total`とします。"
   ]
  },
  {
   "cell_type": "code",
   "execution_count": null,
   "metadata": {},
   "outputs": [],
   "source": []
  },
  {
   "cell_type": "markdown",
   "metadata": {},
   "source": [
    "今度は国名をキーに国名コードのデータフレームと結合します。"
   ]
  },
  {
   "cell_type": "code",
   "execution_count": null,
   "metadata": {},
   "outputs": [],
   "source": []
  },
  {
   "cell_type": "markdown",
   "metadata": {},
   "source": [
    "国名コードがない行があるか確認し、あればその国名を取得します。"
   ]
  },
  {
   "cell_type": "code",
   "execution_count": null,
   "metadata": {},
   "outputs": [],
   "source": []
  },
  {
   "cell_type": "markdown",
   "metadata": {},
   "source": [
    "コードが見つからなかった国名と、正しいコードは以下になります。  \n",
    "１つ１つ登録してしまいます。\n",
    "\n",
    "- \"Democratic People's Republic of Korea\": PRK\n",
    "- 'Democratic Republic of the Congo': COD\n",
    "- 'Gambia (the)': GMB\n",
    "- 'Jerusalem (Site proposed by Jordan)': JOR\n",
    "- 'Palestine': PSE\n",
    "- 'Republic of Korea': KOR\n",
    "- 'United Republic of Tanzania': TZA\n",
    "- 'Republic of Moldova': MDA"
   ]
  },
  {
   "cell_type": "code",
   "execution_count": null,
   "metadata": {},
   "outputs": [],
   "source": []
  },
  {
   "cell_type": "markdown",
   "metadata": {},
   "source": [
    "もう一度、コードがない国がないか確認します。"
   ]
  },
  {
   "cell_type": "code",
   "execution_count": null,
   "metadata": {},
   "outputs": [],
   "source": []
  },
  {
   "cell_type": "markdown",
   "metadata": {},
   "source": [
    "それでは`plotly`の`px.choropleth()`を利用して地図を表示します。\n",
    "\n",
    "どんなことが読み取れますか？"
   ]
  },
  {
   "cell_type": "code",
   "execution_count": null,
   "metadata": {
    "scrolled": false
   },
   "outputs": [],
   "source": []
  },
  {
   "cell_type": "code",
   "execution_count": null,
   "metadata": {},
   "outputs": [],
   "source": []
  },
  {
   "cell_type": "markdown",
   "metadata": {},
   "source": [
    "### 5. 独自の分析目標を定義して分析してみましょう\n",
    "\n",
    "〇〇〇〇〇〇〇〇〇〇を分析。"
   ]
  },
  {
   "cell_type": "code",
   "execution_count": null,
   "metadata": {},
   "outputs": [],
   "source": []
  }
 ],
 "metadata": {
  "interpreter": {
   "hash": "d109c1022d0269bfeb1214b0bec2187ee8bc4e794779a7e71ed964fc39a480b6"
  },
  "kernelspec": {
   "display_name": "Python 3 (ipykernel)",
   "language": "python",
   "name": "python3"
  },
  "language_info": {
   "codemirror_mode": {
    "name": "ipython",
    "version": 3
   },
   "file_extension": ".py",
   "mimetype": "text/x-python",
   "name": "python",
   "nbconvert_exporter": "python",
   "pygments_lexer": "ipython3",
   "version": "3.9.9"
  }
 },
 "nbformat": 4,
 "nbformat_minor": 2
}
