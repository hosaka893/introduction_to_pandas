{
 "cells": [
  {
   "cell_type": "markdown",
   "metadata": {},
   "source": [
    "### 0. 事前準備\n",
    "\n",
    "以下のデータを取得して、このノートブックと同じディレクトリにある`data`ディレクトリに配置します。\n",
    "\n",
    "__120 years of Olympic history: athletes and results__  \n",
    "  URL:  \n",
    "  ・https://www.kaggle.com/heesoo37/120-years-of-olympic-history-athletes-and-results  \n",
    "  DATA:  \n",
    "  ・athlete_events.csv\n",
    "\n",
    "---\n",
    "\n",
    "__World cities database__  \n",
    "  URL:  \n",
    "    ・https://www.kaggle.com/juanmah/world-cities  \n",
    "  DATA:  \n",
    "    ・worldcities.csv"
   ]
  },
  {
   "cell_type": "code",
   "execution_count": null,
   "metadata": {},
   "outputs": [],
   "source": [
    "%matplotlib inline\n",
    "\n",
    "import folium\n",
    "import matplotlib.pyplot as plt\n",
    "import pandas as pd\n",
    "import requests\n",
    "import seaborn as sns"
   ]
  },
  {
   "cell_type": "code",
   "execution_count": null,
   "metadata": {},
   "outputs": [],
   "source": []
  },
  {
   "cell_type": "markdown",
   "metadata": {},
   "source": [
    "### 1. データの概要を把握\n",
    "まずデータの概要を掴んでみましょう。"
   ]
  },
  {
   "cell_type": "markdown",
   "metadata": {},
   "source": [
    "オリンピック選手データをロード。"
   ]
  },
  {
   "cell_type": "code",
   "execution_count": null,
   "metadata": {},
   "outputs": [],
   "source": [
    "athlete_events_df = pd.read_csv('data/athlete_events.csv')\n",
    "\n",
    "print(f\"{len(athlete_events_df):,}件\")"
   ]
  },
  {
   "cell_type": "markdown",
   "metadata": {},
   "source": [
    "データの中身を確認。\n",
    "\n",
    "不明な属性があれば、データ取得元で確認します。"
   ]
  },
  {
   "cell_type": "code",
   "execution_count": null,
   "metadata": {},
   "outputs": [],
   "source": [
    "athlete_events_df.head()"
   ]
  },
  {
   "cell_type": "markdown",
   "metadata": {},
   "source": [
    "数値属性の集計情報を確認。\n",
    "\n",
    "どんな特徴が読み取れますか？"
   ]
  },
  {
   "cell_type": "code",
   "execution_count": null,
   "metadata": {},
   "outputs": [],
   "source": [
    "athlete_events_df.describe()"
   ]
  },
  {
   "cell_type": "markdown",
   "metadata": {},
   "source": [
    "ヒストグラムでデータを表示。\n",
    "\n",
    "どんな特徴が読み取れますか？"
   ]
  },
  {
   "cell_type": "code",
   "execution_count": null,
   "metadata": {},
   "outputs": [],
   "source": [
    "athlete_events_df.drop(columns=['ID']).hist(bins=50, figsize=(20, 12)); # セミコロンでテキスト出力を抑える"
   ]
  },
  {
   "cell_type": "markdown",
   "metadata": {},
   "source": [
    "個々の属性の分布だけでなく、属性間の関係を見たい場合は散布図行列で表示します。\n",
    "\n",
    "どんな特徴が読み取れますか？"
   ]
  },
  {
   "cell_type": "code",
   "execution_count": null,
   "metadata": {},
   "outputs": [],
   "source": [
    "sns.pairplot(athlete_events_df.drop(columns=['ID']).sample(frac=0.5))"
   ]
  },
  {
   "cell_type": "code",
   "execution_count": null,
   "metadata": {},
   "outputs": [],
   "source": []
  },
  {
   "cell_type": "markdown",
   "metadata": {},
   "source": [
    "### 2. 地図を使ってデータを把握\n",
    "地理情報がある場合は、地図上にデータを表示させてみましょう。"
   ]
  },
  {
   "cell_type": "markdown",
   "metadata": {},
   "source": [
    "ここでは、開催都市を以下のルールに沿って地図上に表示してみます。\n",
    "- 夏は赤系、冬は青系の円を配置。\n",
    "- 参加選手数に合わせて円を大きくする。\n",
    "- 複数回開催している場合は色分けする。"
   ]
  },
  {
   "cell_type": "markdown",
   "metadata": {},
   "source": [
    "まずはデータを都市、ゲームでグループ分けします。\n"
   ]
  },
  {
   "cell_type": "code",
   "execution_count": null,
   "metadata": {},
   "outputs": [],
   "source": [
    "city_games_df = athlete_events_df.groupby(['City', 'Year', 'Games']).agg(number_of_athletes=('ID', 'count'))\n",
    "city_games_df.reset_index(inplace=True)\n",
    "\n",
    "city_games_df.head(10)"
   ]
  },
  {
   "cell_type": "markdown",
   "metadata": {},
   "source": [
    "色分け用に`season`列（夏季か冬季か？）を追加します。"
   ]
  },
  {
   "cell_type": "code",
   "execution_count": null,
   "metadata": {},
   "outputs": [],
   "source": [
    "city_games_df['season'] = city_games_df['Games'].str.split().str[1]\n",
    "\n",
    "city_games_df.head(10)"
   ]
  },
  {
   "cell_type": "markdown",
   "metadata": {},
   "source": [
    "複数回開催している都市があるので、何回目の開催であるかを示す`number_of_times`列も追加します。"
   ]
  },
  {
   "cell_type": "code",
   "execution_count": null,
   "metadata": {},
   "outputs": [],
   "source": [
    "city_games_df['number_of_times'] = city_games_df.groupby(['City', 'season']).cumcount() + 1\n",
    "\n",
    "city_games_df.head(10)"
   ]
  },
  {
   "cell_type": "markdown",
   "metadata": {},
   "source": [
    "世界の都市の位置情報データをロード。"
   ]
  },
  {
   "cell_type": "code",
   "execution_count": null,
   "metadata": {},
   "outputs": [],
   "source": [
    "worldcities_df = pd.read_csv('data/worldcities.csv')\n",
    "\n",
    "len(worldcities_df)"
   ]
  },
  {
   "cell_type": "markdown",
   "metadata": {},
   "source": [
    "データを確認。"
   ]
  },
  {
   "cell_type": "code",
   "execution_count": null,
   "metadata": {},
   "outputs": [],
   "source": [
    "worldcities_df.head(10)"
   ]
  },
  {
   "cell_type": "markdown",
   "metadata": {},
   "source": [
    "`city_ascii`が英語名のようなので、`city_ascii`を都市名として利用。\n",
    "\n",
    "同名の都市がないかチェックします。"
   ]
  },
  {
   "cell_type": "code",
   "execution_count": null,
   "metadata": {},
   "outputs": [],
   "source": [
    "worldcities_df.duplicated(subset='city_ascii').sum()"
   ]
  },
  {
   "cell_type": "markdown",
   "metadata": {},
   "source": [
    "都市名の重複が相当ある模様。\n",
    "\n",
    "どんな重複があるのか確認してみます。"
   ]
  },
  {
   "cell_type": "code",
   "execution_count": null,
   "metadata": {},
   "outputs": [],
   "source": [
    "worldcities_df[worldcities_df.duplicated(subset='city_ascii')].sort_values('city_ascii')"
   ]
  },
  {
   "cell_type": "markdown",
   "metadata": {},
   "source": [
    "とりあえず機械的に、都市名が重複している場合は人口数の多いものだけ残すようにします。\n",
    "\n",
    "具体的には都市名と人口の昇順に並べ替え、各重複都市名のうち最後の行、つまり一番人口が多いものだけを残します。"
   ]
  },
  {
   "cell_type": "code",
   "execution_count": null,
   "metadata": {},
   "outputs": [],
   "source": [
    "worldcities_df.sort_values(['city_ascii', 'population'], inplace=True)\n",
    "\n",
    "worldcities_df.drop_duplicates(subset='city_ascii', keep='last', inplace=True)"
   ]
  },
  {
   "cell_type": "markdown",
   "metadata": {},
   "source": [
    "もう一度重複数を確認。"
   ]
  },
  {
   "cell_type": "code",
   "execution_count": null,
   "metadata": {},
   "outputs": [],
   "source": [
    "worldcities_df.duplicated(subset='city_ascii').sum()"
   ]
  },
  {
   "cell_type": "markdown",
   "metadata": {},
   "source": [
    "必要な列のみ残します。"
   ]
  },
  {
   "cell_type": "code",
   "execution_count": null,
   "metadata": {},
   "outputs": [],
   "source": [
    "worldcities_df = worldcities_df[['city_ascii', 'lat', 'lng']]"
   ]
  },
  {
   "cell_type": "markdown",
   "metadata": {},
   "source": [
    "都市名をキーとしてデータフレームを結合。"
   ]
  },
  {
   "cell_type": "code",
   "execution_count": null,
   "metadata": {},
   "outputs": [],
   "source": [
    "city_game_coords_df = pd.merge(city_games_df,\n",
    "                               worldcities_df,\n",
    "                               left_on=['City'], \n",
    "                               right_on=['city_ascii'], \n",
    "                               how='left')\n",
    "\n",
    "city_game_coords_df.head(10)"
   ]
  },
  {
   "cell_type": "markdown",
   "metadata": {},
   "source": [
    "緯度経度が入っていないものをチェックします。"
   ]
  },
  {
   "cell_type": "code",
   "execution_count": null,
   "metadata": {},
   "outputs": [],
   "source": [
    "city_game_coords_df[city_game_coords_df['lat'].isna()]"
   ]
  },
  {
   "cell_type": "markdown",
   "metadata": {},
   "source": [
    "数が少ないので、個別対応します。\n",
    "- Antwerpen → Antwerp\n",
    "- Athina → Athens \n",
    "- Chamonix → Chamonix-Mont-Blanc\n",
    "- Garmisch-Partenkirchen → Garmisch-Partenkirchen (47.492, 11.0931)\n",
    "- Moskva → Moscow\n",
    "- Sankt Moritz → St. Moritz (46.578, 9.8353)\n",
    "- Squaw Valley → Palisades Tahoe (39.208, -120.2132)\n",
    "- Torino → Turin"
   ]
  },
  {
   "cell_type": "code",
   "execution_count": null,
   "metadata": {},
   "outputs": [],
   "source": [
    "city_game_coords_df.loc[\n",
    "    (city_game_coords_df['lat'].isna()) & (city_game_coords_df['City'] == \"Antwerpen\"),\n",
    "    ['city_ascii', 'lat', 'lng']] = worldcities_df.query('city_ascii == \"Antwerp\"').values\n",
    "\n",
    "city_game_coords_df.loc[\n",
    "    (city_game_coords_df['lat'].isna()) & (city_game_coords_df['City'] == \"Athina\"),\n",
    "    ['city_ascii', 'lat', 'lng']] = worldcities_df.query('city_ascii == \"Athens\"').values\n",
    "\n",
    "city_game_coords_df.loc[\n",
    "    (city_game_coords_df['lat'].isna()) & (city_game_coords_df['City'] == \"Chamonix\"),\n",
    "    ['city_ascii', 'lat', 'lng']] = worldcities_df.query('city_ascii == \"Chamonix-Mont-Blanc\"').values\n",
    "\n",
    "city_game_coords_df.loc[\n",
    "    (city_game_coords_df['lat'].isna()) & (city_game_coords_df['City'] == \"Garmisch-Partenkirchen\"),\n",
    "    ['city_ascii', 'lat', 'lng']] = ['Garmisch-Partenkirchen', 47.492, 11.0931]\n",
    "\n",
    "city_game_coords_df.loc[\n",
    "    (city_game_coords_df['lat'].isna()) & (city_game_coords_df['City'] == \"Moskva\"),\n",
    "    ['city_ascii', 'lat', 'lng']] = worldcities_df.query('city_ascii == \"Moscow\"').values\n",
    "\n",
    "city_game_coords_df.loc[\n",
    "    (city_game_coords_df['lat'].isna()) & (city_game_coords_df['City'] == \"Sankt Moritz\"),\n",
    "    ['city_ascii', 'lat', 'lng']] = ['St. Moritz', 46.578, 9.8353]\n",
    "\n",
    "city_game_coords_df.loc[\n",
    "    (city_game_coords_df['lat'].isna()) & (city_game_coords_df['City'] == \"Squaw Valley\"),\n",
    "    ['city_ascii', 'lat', 'lng']] = ['Palisades Tahoe', 39.208, -120.2132]\n",
    "\n",
    "city_game_coords_df.loc[\n",
    "    (city_game_coords_df['lat'].isna()) & (city_game_coords_df['City'] == \"Torino\"),\n",
    "    ['city_ascii', 'lat', 'lng']] = worldcities_df.query('city_ascii == \"Turin\"').values"
   ]
  },
  {
   "cell_type": "markdown",
   "metadata": {},
   "source": [
    "もう一度、緯度経度が入っていないものをチェックします。"
   ]
  },
  {
   "cell_type": "code",
   "execution_count": null,
   "metadata": {},
   "outputs": [],
   "source": [
    "city_game_coords_df[city_game_coords_df['lat'].isna()]"
   ]
  },
  {
   "cell_type": "markdown",
   "metadata": {},
   "source": [
    "都市別開催数の最大値を確認。"
   ]
  },
  {
   "cell_type": "code",
   "execution_count": null,
   "metadata": {},
   "outputs": [],
   "source": [
    "city_game_coords_df['number_of_times'].max()"
   ]
  },
  {
   "cell_type": "markdown",
   "metadata": {},
   "source": [
    "円の色を用意します。"
   ]
  },
  {
   "cell_type": "code",
   "execution_count": null,
   "metadata": {},
   "outputs": [],
   "source": [
    "number_of_times_max = city_game_coords_df['number_of_times'].max()\n",
    "\n",
    "# 夏季用\n",
    "color_reds = sns.color_palette(\"Reds_r\", number_of_times_max).as_hex()\n",
    "# 冬季用\n",
    "color_blues = sns.color_palette(\"Blues_r\", number_of_times_max).as_hex()\n",
    "\n",
    "# 色の確認\n",
    "sns.palplot(color_reds)\n",
    "sns.palplot(color_blues)"
   ]
  },
  {
   "cell_type": "markdown",
   "metadata": {},
   "source": [
    "データを地図上に表示します。\n",
    "\n",
    "どんなことが読み取れますか？"
   ]
  },
  {
   "cell_type": "code",
   "execution_count": null,
   "metadata": {},
   "outputs": [],
   "source": [
    "m = folium.Map(location=[0,0], zoom_start=2.4)\n",
    "\n",
    "# 古い円をクリックできるよう、新しいものから順に重ねて描画\n",
    "for index, row in city_game_coords_df.sort_values('Year', ascending=False).iterrows():\n",
    "    location = (row['lat'], row['lng'])\n",
    "    radius = row['number_of_athletes'] * 10\n",
    "    color = color_reds[row['number_of_times'] - 1] if row['season'] == 'Summer' \\\n",
    "                                                   else color_blues[row['number_of_times'] - 1]\n",
    "\n",
    "    folium.Circle(location=location,\n",
    "                  radius=radius,\n",
    "                  color=color,\n",
    "                  fill_color=color,\n",
    "                  weight=1.5,\n",
    "                  popup=f\"{row['City']}\\n{row['Year']}\\n{row['season']}\").add_to(m)\n",
    "m"
   ]
  },
  {
   "cell_type": "code",
   "execution_count": null,
   "metadata": {},
   "outputs": [],
   "source": []
  },
  {
   "cell_type": "markdown",
   "metadata": {},
   "source": [
    "### 3. 少しだけ掘り下げた分析をしてみる\n",
    "細かいところは気にせず、大まかな流れを理解すればOKです。"
   ]
  },
  {
   "cell_type": "markdown",
   "metadata": {},
   "source": [
    "日本の年代別・種類別メダル数がどのように推移しているかを分析します。"
   ]
  },
  {
   "cell_type": "code",
   "execution_count": null,
   "metadata": {},
   "outputs": [],
   "source": [
    "# 日本選手に限定\n",
    "athlete_jpn_df = athlete_events_df.query('NOC == \"JPN\"')\n",
    "\n",
    "# 年、メダルでグループ分け\n",
    "medal_jpn_df = athlete_jpn_df.groupby(['Year', 'Medal']).agg({'ID':'count'}).reset_index()\n",
    "\n",
    "medal_jpn_df.head()"
   ]
  },
  {
   "cell_type": "markdown",
   "metadata": {},
   "source": [
    "折れ線グラフで表示します。"
   ]
  },
  {
   "cell_type": "code",
   "execution_count": null,
   "metadata": {},
   "outputs": [],
   "source": [
    "# 銅の色はbrownで代用\n",
    "sns.lineplot(data=medal_jpn_df,\n",
    "             x='Year',\n",
    "             y='ID',\n",
    "             hue='Medal',\n",
    "             hue_order=[\"Gold\", \"Silver\", \"Bronze\"],\n",
    "             palette=[\"gold\", \"silver\", \"brown\"])"
   ]
  },
  {
   "cell_type": "code",
   "execution_count": null,
   "metadata": {},
   "outputs": [],
   "source": []
  },
  {
   "cell_type": "markdown",
   "metadata": {},
   "source": [
    "### 4. 地図上にデータを表示するエクササイズ\n",
    "JR東日本または東京メトロの各駅の乗降人員データをウェブ検索して取得し、地図上にデータを表示してみましょう。"
   ]
  },
  {
   "cell_type": "markdown",
   "metadata": {},
   "source": [
    "WEBページ上のデータの取得方法:  \n",
    "`pd.read_html()`に引数としてページのURLを指定すると、ページ上のすべての`table`タグのデータをデータフレームのリストとして取得します。  \n",
    "エラーとなってデータフレームが取得できない場合、以下のようにHTMLソースを引数に渡します。\n",
    "\n",
    "また、データフレームの行または列が階層構造になってしまう場合には`pandas.MultiIndex.droplevel()`を利用して階層構造を解除します。\n",
    "\n",
    "参考）  \n",
    "__pandas.MultiIndex.droplevel__  \n",
    "https://pandas.pydata.org/pandas-docs/stable/reference/api/pandas.MultiIndex.droplevel.html"
   ]
  },
  {
   "cell_type": "code",
   "execution_count": null,
   "metadata": {},
   "outputs": [],
   "source": [
    "# HTMLソースを取得\n",
    "response = requests.get('https://en.wikipedia.org/wiki/List_of_highest-grossing_films')\n",
    "# 文字化けする場合は設定\n",
    "response.encoding = response.apparent_encoding\n",
    "# データフレームに変換\n",
    "dfs = pd.read_html(response.text)\n",
    "# 任意のデータフレームを選択\n",
    "dfs[1]"
   ]
  },
  {
   "cell_type": "code",
   "execution_count": null,
   "metadata": {},
   "outputs": [],
   "source": []
  }
 ],
 "metadata": {
  "interpreter": {
   "hash": "d109c1022d0269bfeb1214b0bec2187ee8bc4e794779a7e71ed964fc39a480b6"
  },
  "kernelspec": {
   "display_name": "introduction_to_pandas",
   "language": "python",
   "name": "introduction_to_pandas"
  },
  "language_info": {
   "codemirror_mode": {
    "name": "ipython",
    "version": 3
   },
   "file_extension": ".py",
   "mimetype": "text/x-python",
   "name": "python",
   "nbconvert_exporter": "python",
   "pygments_lexer": "ipython3",
   "version": "3.9.9"
  }
 },
 "nbformat": 4,
 "nbformat_minor": 2
}
