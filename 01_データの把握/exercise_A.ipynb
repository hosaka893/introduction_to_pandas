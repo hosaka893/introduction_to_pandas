{
 "cells": [
  {
   "cell_type": "markdown",
   "metadata": {},
   "source": [
    "### 0. Advance Preparation\n",
    "\n",
    "Please download the datasets from the site below and put them in the `data` directory in the directory in which this notebooks is.\n",
    "\n",
    "__120 years of Olympic history: athletes and results__  \n",
    "  URL:  \n",
    "  ・https://www.kaggle.com/heesoo37/120-years-of-olympic-history-athletes-and-results  \n",
    "  DATA:  \n",
    "  ・athlete_events.csv\n",
    "\n",
    "---\n",
    "\n",
    "__World cities database__  \n",
    "  URL:  \n",
    "    ・https://www.kaggle.com/juanmah/world-cities  \n",
    "  DATA:  \n",
    "    ・worldcities.csv"
   ]
  },
  {
   "cell_type": "code",
   "execution_count": null,
   "metadata": {},
   "outputs": [],
   "source": [
    "%matplotlib inline\n",
    "\n",
    "import folium\n",
    "import matplotlib.pyplot as plt\n",
    "import pandas as pd\n",
    "import requests\n",
    "import seaborn as sns"
   ]
  },
  {
   "cell_type": "code",
   "execution_count": null,
   "metadata": {},
   "outputs": [],
   "source": []
  },
  {
   "cell_type": "markdown",
   "metadata": {},
   "source": [
    "### 1. Datasets overview\n",
    "Let's start with getting an overview of the datasets."
   ]
  },
  {
   "cell_type": "markdown",
   "metadata": {},
   "source": [
    "Read the athletes and results data file into DataFrame first."
   ]
  },
  {
   "cell_type": "code",
   "execution_count": null,
   "metadata": {},
   "outputs": [],
   "source": [
    "athlete_events_df = pd.read_csv('data/athlete_events.csv')\n",
    "\n",
    "print(f\"{len(athlete_events_df):,}件\")"
   ]
  },
  {
   "cell_type": "markdown",
   "metadata": {},
   "source": [
    "Check the contents.\n",
    "\n",
    "If there's any column which you don't understand, please refer to the explanation on the page where you got the data."
   ]
  },
  {
   "cell_type": "code",
   "execution_count": null,
   "metadata": {},
   "outputs": [],
   "source": [
    "athlete_events_df.head()"
   ]
  },
  {
   "cell_type": "markdown",
   "metadata": {},
   "source": [
    "Get the statistics of the data.\n",
    "\n",
    "Do you find anything interesting?"
   ]
  },
  {
   "cell_type": "code",
   "execution_count": null,
   "metadata": {},
   "outputs": [],
   "source": [
    "athlete_events_df.describe()"
   ]
  },
  {
   "cell_type": "markdown",
   "metadata": {},
   "source": [
    "Make a histgram of the data.\n",
    "\n",
    "Do you find anything interesting?"
   ]
  },
  {
   "cell_type": "code",
   "execution_count": null,
   "metadata": {},
   "outputs": [],
   "source": [
    "athlete_events_df.drop(columns=['ID']).hist(bins=50, figsize=(20, 12)); # セミコロンでテキスト出力を抑える"
   ]
  },
  {
   "cell_type": "markdown",
   "metadata": {},
   "source": [
    "To see multiple pairwise relationships in a dataset, you can use `pairplot()` function.\n",
    "\n",
    "Do you find anything interesting?"
   ]
  },
  {
   "cell_type": "code",
   "execution_count": null,
   "metadata": {},
   "outputs": [],
   "source": [
    "sns.pairplot(athlete_events_df.drop(columns=['ID']).sample(frac=0.5))"
   ]
  },
  {
   "cell_type": "code",
   "execution_count": null,
   "metadata": {},
   "outputs": [],
   "source": []
  },
  {
   "cell_type": "markdown",
   "metadata": {},
   "source": [
    "### 2. Datasets overview of locations with map\n",
    "\n",
    "When position coordinates are available, plot them on a map."
   ]
  },
  {
   "cell_type": "markdown",
   "metadata": {},
   "source": [
    "Let put all the cities that have hold Olympic games on map according to the rules below.\n",
    "- Put red circles for summer games, blue circles for winter games.\n",
    "- Change the redius of the circle in proportion to number of participants.\n",
    "- Put circles with slightly different colors when a city has held games multiple times."
   ]
  },
  {
   "cell_type": "markdown",
   "metadata": {},
   "source": [
    "To start with, group the data by cities and games."
   ]
  },
  {
   "cell_type": "code",
   "execution_count": null,
   "metadata": {},
   "outputs": [],
   "source": [
    "city_games_df = athlete_events_df.groupby(['City', 'Year', 'Games']).agg(number_of_athletes=('ID', 'count'))\n",
    "city_games_df.reset_index(inplace=True)\n",
    "\n",
    "city_games_df.head(10)"
   ]
  },
  {
   "cell_type": "markdown",
   "metadata": {},
   "source": [
    "Add `season` column to know whether a game was held in summer or winter."
   ]
  },
  {
   "cell_type": "code",
   "execution_count": null,
   "metadata": {},
   "outputs": [],
   "source": [
    "city_games_df['season'] = city_games_df['Games'].str.split().str[1]\n",
    "\n",
    "city_games_df.head(10)"
   ]
  },
  {
   "cell_type": "markdown",
   "metadata": {},
   "source": [
    "Since some cities held games multiple times, we add `number_of_times` columns. "
   ]
  },
  {
   "cell_type": "code",
   "execution_count": null,
   "metadata": {},
   "outputs": [],
   "source": [
    "city_games_df['number_of_times'] = city_games_df.groupby(['City', 'season']).cumcount() + 1\n",
    "\n",
    "city_games_df.head(10)"
   ]
  },
  {
   "cell_type": "markdown",
   "metadata": {},
   "source": [
    "Read the world cities data file into DataFrame."
   ]
  },
  {
   "cell_type": "code",
   "execution_count": null,
   "metadata": {},
   "outputs": [],
   "source": [
    "worldcities_df = pd.read_csv('data/worldcities.csv')\n",
    "\n",
    "len(worldcities_df)"
   ]
  },
  {
   "cell_type": "markdown",
   "metadata": {},
   "source": [
    "Check the contents."
   ]
  },
  {
   "cell_type": "code",
   "execution_count": null,
   "metadata": {},
   "outputs": [],
   "source": [
    "worldcities_df.head(10)"
   ]
  },
  {
   "cell_type": "markdown",
   "metadata": {},
   "source": [
    "We use `city_ascii` to get city names in English. \n",
    "\n",
    "Check whether there is any duplicate."
   ]
  },
  {
   "cell_type": "code",
   "execution_count": null,
   "metadata": {},
   "outputs": [],
   "source": [
    "worldcities_df.duplicated(subset='city_ascii').sum()"
   ]
  },
  {
   "cell_type": "markdown",
   "metadata": {},
   "source": [
    "Now, we've got many duplicates.\n",
    "\n",
    "Let's see what duplicates we've got."
   ]
  },
  {
   "cell_type": "code",
   "execution_count": null,
   "metadata": {},
   "outputs": [],
   "source": [
    "worldcities_df[worldcities_df.duplicated(subset='city_ascii')].sort_values('city_ascii')"
   ]
  },
  {
   "cell_type": "markdown",
   "metadata": {},
   "source": [
    "When we find duplicates, we will choose the one with largest populations of them.\n",
    "\n",
    "To do that, sort the data by city name and population and keep only the last row of each city name."
   ]
  },
  {
   "cell_type": "code",
   "execution_count": null,
   "metadata": {},
   "outputs": [],
   "source": [
    "worldcities_df.sort_values(['city_ascii', 'population'], inplace=True)\n",
    "\n",
    "worldcities_df.drop_duplicates(subset='city_ascii', keep='last', inplace=True)"
   ]
  },
  {
   "cell_type": "markdown",
   "metadata": {},
   "source": [
    "Check whether any duplicate is left."
   ]
  },
  {
   "cell_type": "code",
   "execution_count": null,
   "metadata": {},
   "outputs": [],
   "source": [
    "worldcities_df.duplicated(subset='city_ascii').sum()"
   ]
  },
  {
   "cell_type": "markdown",
   "metadata": {},
   "source": [
    "Keep the only needed columms."
   ]
  },
  {
   "cell_type": "code",
   "execution_count": null,
   "metadata": {},
   "outputs": [],
   "source": [
    "worldcities_df = worldcities_df[['city_ascii', 'lat', 'lng']]"
   ]
  },
  {
   "cell_type": "markdown",
   "metadata": {},
   "source": [
    "Join the two Dataframes on city name columns."
   ]
  },
  {
   "cell_type": "code",
   "execution_count": null,
   "metadata": {},
   "outputs": [],
   "source": [
    "city_game_coords_df = pd.merge(city_games_df,\n",
    "                               worldcities_df,\n",
    "                               left_on=['City'], \n",
    "                               right_on=['city_ascii'], \n",
    "                               how='left')\n",
    "\n",
    "city_game_coords_df.head(10)"
   ]
  },
  {
   "cell_type": "markdown",
   "metadata": {},
   "source": [
    "Get rows where coordinates are not set."
   ]
  },
  {
   "cell_type": "code",
   "execution_count": null,
   "metadata": {},
   "outputs": [],
   "source": [
    "city_game_coords_df[city_game_coords_df['lat'].isna()]"
   ]
  },
  {
   "cell_type": "markdown",
   "metadata": {},
   "source": [
    "Correct the followings manually, one by one.\n",
    "- Antwerpen → Antwerp\n",
    "- Athina → Athens \n",
    "- Chamonix → Chamonix-Mont-Blanc\n",
    "- Garmisch-Partenkirchen → Garmisch-Partenkirchen (47.492, 11.0931)\n",
    "- Moskva → Moscow\n",
    "- Sankt Moritz → St. Moritz (46.578, 9.8353)\n",
    "- Squaw Valley → Palisades Tahoe (39.208, -120.2132)\n",
    "- Torino → Turin"
   ]
  },
  {
   "cell_type": "code",
   "execution_count": null,
   "metadata": {},
   "outputs": [],
   "source": [
    "city_game_coords_df.loc[\n",
    "    (city_game_coords_df['lat'].isna()) & (city_game_coords_df['City'] == \"Antwerpen\"),\n",
    "    ['city_ascii', 'lat', 'lng']] = worldcities_df.query('city_ascii == \"Antwerp\"').values\n",
    "\n",
    "city_game_coords_df.loc[\n",
    "    (city_game_coords_df['lat'].isna()) & (city_game_coords_df['City'] == \"Athina\"),\n",
    "    ['city_ascii', 'lat', 'lng']] = worldcities_df.query('city_ascii == \"Athens\"').values\n",
    "\n",
    "city_game_coords_df.loc[\n",
    "    (city_game_coords_df['lat'].isna()) & (city_game_coords_df['City'] == \"Chamonix\"),\n",
    "    ['city_ascii', 'lat', 'lng']] = worldcities_df.query('city_ascii == \"Chamonix-Mont-Blanc\"').values\n",
    "\n",
    "city_game_coords_df.loc[\n",
    "    (city_game_coords_df['lat'].isna()) & (city_game_coords_df['City'] == \"Garmisch-Partenkirchen\"),\n",
    "    ['city_ascii', 'lat', 'lng']] = ['Garmisch-Partenkirchen', 47.492, 11.0931]\n",
    "\n",
    "city_game_coords_df.loc[\n",
    "    (city_game_coords_df['lat'].isna()) & (city_game_coords_df['City'] == \"Moskva\"),\n",
    "    ['city_ascii', 'lat', 'lng']] = worldcities_df.query('city_ascii == \"Moscow\"').values\n",
    "\n",
    "city_game_coords_df.loc[\n",
    "    (city_game_coords_df['lat'].isna()) & (city_game_coords_df['City'] == \"Sankt Moritz\"),\n",
    "    ['city_ascii', 'lat', 'lng']] = ['St. Moritz', 46.578, 9.8353]\n",
    "\n",
    "city_game_coords_df.loc[\n",
    "    (city_game_coords_df['lat'].isna()) & (city_game_coords_df['City'] == \"Squaw Valley\"),\n",
    "    ['city_ascii', 'lat', 'lng']] = ['Palisades Tahoe', 39.208, -120.2132]\n",
    "\n",
    "city_game_coords_df.loc[\n",
    "    (city_game_coords_df['lat'].isna()) & (city_game_coords_df['City'] == \"Torino\"),\n",
    "    ['city_ascii', 'lat', 'lng']] = worldcities_df.query('city_ascii == \"Turin\"').values"
   ]
  },
  {
   "cell_type": "markdown",
   "metadata": {},
   "source": [
    "Get rows where coordinates are not set again."
   ]
  },
  {
   "cell_type": "code",
   "execution_count": null,
   "metadata": {},
   "outputs": [],
   "source": [
    "city_game_coords_df[city_game_coords_df['lat'].isna()]"
   ]
  },
  {
   "cell_type": "markdown",
   "metadata": {},
   "source": [
    "Get the max value of `number_of_times`."
   ]
  },
  {
   "cell_type": "code",
   "execution_count": null,
   "metadata": {},
   "outputs": [],
   "source": [
    "city_game_coords_df['number_of_times'].max()"
   ]
  },
  {
   "cell_type": "markdown",
   "metadata": {},
   "source": [
    "Prepare colors for the circles."
   ]
  },
  {
   "cell_type": "code",
   "execution_count": null,
   "metadata": {},
   "outputs": [],
   "source": [
    "number_of_times_max = city_game_coords_df['number_of_times'].max()\n",
    "\n",
    "# 夏季用\n",
    "color_reds = sns.color_palette(\"Reds_r\", number_of_times_max).as_hex()\n",
    "# 冬季用\n",
    "color_blues = sns.color_palette(\"Blues_r\", number_of_times_max).as_hex()\n",
    "\n",
    "# 色の確認\n",
    "sns.palplot(color_reds)\n",
    "sns.palplot(color_blues)"
   ]
  },
  {
   "cell_type": "markdown",
   "metadata": {},
   "source": [
    "Put circles on a map.\n",
    "\n",
    "Do you find anything interesting?"
   ]
  },
  {
   "cell_type": "code",
   "execution_count": null,
   "metadata": {},
   "outputs": [],
   "source": [
    "map = folium.Map(location=[0,0], zoom_start=2.4)\n",
    "\n",
    "# 古い円をクリックできるよう、新しいものから順に重ねて描画\n",
    "for index, row in city_game_coords_df.sort_values('Year', ascending=False).iterrows():\n",
    "    location = (row['lat'], row['lng'])\n",
    "    radius = row['number_of_athletes'] * 10\n",
    "    color = color_reds[row['number_of_times'] - 1] if row['season'] == 'Summer' \\\n",
    "                                                   else color_blues[row['number_of_times'] - 1]\n",
    "\n",
    "    folium.Circle(location=location,\n",
    "                  radius=radius,\n",
    "                  color=color,\n",
    "                  fill_color=color,\n",
    "                  weight=1.5,\n",
    "                  popup=f\"{row['City']}\\n{row['Year']}\\n{row['season']}\").add_to(map)\n",
    "map"
   ]
  },
  {
   "cell_type": "code",
   "execution_count": null,
   "metadata": {},
   "outputs": [],
   "source": []
  },
  {
   "cell_type": "markdown",
   "metadata": {},
   "source": [
    "### 3. Digging a bit deeper\n",
    "We won't go into details, it's ok if you just know the steps needed for the analysis. "
   ]
  },
  {
   "cell_type": "markdown",
   "metadata": {},
   "source": [
    "Pick up one particular country and see changes in how many and what kind of medals they've got."
   ]
  },
  {
   "cell_type": "code",
   "execution_count": null,
   "metadata": {},
   "outputs": [],
   "source": [
    "# 日本選手に限定\n",
    "athlete_jpn_df = athlete_events_df.query('NOC == \"JPN\"')\n",
    "\n",
    "# 年、メダルでグループ分け\n",
    "medal_jpn_df = athlete_jpn_df.groupby(['Year', 'Medal']).agg({'ID':'count'}).reset_index()\n",
    "\n",
    "medal_jpn_df.head()"
   ]
  },
  {
   "cell_type": "markdown",
   "metadata": {},
   "source": [
    "Draw a line plot."
   ]
  },
  {
   "cell_type": "code",
   "execution_count": null,
   "metadata": {},
   "outputs": [],
   "source": [
    "# 銅の色はbrownで代用\n",
    "sns.lineplot(data=medal_jpn_df,\n",
    "             x='Year',\n",
    "             y='ID',\n",
    "             hue='Medal',\n",
    "             hue_order=[\"Gold\", \"Silver\", \"Bronze\"],\n",
    "             palette=[\"gold\", \"silver\", \"brown\"])"
   ]
  },
  {
   "cell_type": "code",
   "execution_count": null,
   "metadata": {},
   "outputs": [],
   "source": []
  },
  {
   "cell_type": "markdown",
   "metadata": {},
   "source": [
    "### 4. Exercise for visualizing data on a map\n",
    "Search the Web and find the passenger traffic data of JR EAST or Tokyo Metro, then visualize it on a map."
   ]
  },
  {
   "cell_type": "markdown",
   "metadata": {},
   "source": [
    "How to get data on a Web page:  \n",
    "Call `pd.read_html()` with a URL as an argument and you'll get DataFrame list, with each corresponding to each table on the page.  \n",
    "If you get an error when reading the page, pass the HTML code as an argument instead as follows.\n",
    "\n",
    "If you get a DataFrame with multi-level indexes which you don't want, call `pandas.MultiIndex.droplevel()` to remove unnecessary levels.\n",
    "\n",
    "__pandas.MultiIndex.droplevel__  \n",
    "https://pandas.pydata.org/pandas-docs/stable/reference/api/pandas.MultiIndex.droplevel.html"
   ]
  },
  {
   "cell_type": "code",
   "execution_count": null,
   "metadata": {},
   "outputs": [],
   "source": [
    "# HTMLソースを取得\n",
    "response = requests.get('https://en.wikipedia.org/wiki/List_of_highest-grossing_films')\n",
    "# 文字化けする場合は設定\n",
    "response.encoding = response.apparent_encoding\n",
    "# データフレームに変換\n",
    "dfs = pd.read_html(response.text)\n",
    "# 任意のデータフレームを選択\n",
    "dfs[1]"
   ]
  },
  {
   "cell_type": "code",
   "execution_count": null,
   "metadata": {},
   "outputs": [],
   "source": []
  }
 ],
 "metadata": {
  "interpreter": {
   "hash": "d109c1022d0269bfeb1214b0bec2187ee8bc4e794779a7e71ed964fc39a480b6"
  },
  "kernelspec": {
   "display_name": "Python 3 (ipykernel)",
   "language": "python",
   "name": "python3"
  },
  "language_info": {
   "codemirror_mode": {
    "name": "ipython",
    "version": 3
   },
   "file_extension": ".py",
   "mimetype": "text/x-python",
   "name": "python",
   "nbconvert_exporter": "python",
   "pygments_lexer": "ipython3",
   "version": "3.9.9"
  }
 },
 "nbformat": 4,
 "nbformat_minor": 2
}
