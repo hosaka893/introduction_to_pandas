{
 "cells": [
  {
   "cell_type": "markdown",
   "metadata": {},
   "source": [
    "### 0. 事前準備\n",
    "\n",
    "以下のデータを取得して、このノートブックと同じディレクトリにある`data`ディレクトリに配置します。\n",
    "\n",
    "__COVID-19 World Vaccination Progress__  \n",
    "URL:  \n",
    "・https://www.kaggle.com/gpreda/covid-world-vaccination-progress    \n",
    "DATA:  \n",
    "・country_vaccinations.csv  \n",
    "・country_vaccinations_by_manufacturer.csv\n",
    "\n",
    "---\n",
    "\n",
    "__Annotated geo-json geometry files for the world__  \n",
    "URL:  \n",
    "・https://github.com/johan/world.geo.json  \n",
    "DATA:  \n",
    "・countries.geo.json"
   ]
  },
  {
   "cell_type": "code",
   "execution_count": null,
   "metadata": {},
   "outputs": [],
   "source": [
    "%matplotlib inline\n",
    "\n",
    "import folium\n",
    "import matplotlib.pyplot as plt\n",
    "import pandas as pd\n",
    "import seaborn as sns"
   ]
  },
  {
   "cell_type": "code",
   "execution_count": null,
   "metadata": {},
   "outputs": [],
   "source": []
  },
  {
   "cell_type": "markdown",
   "metadata": {},
   "source": [
    "### 1. データの概要を把握\n",
    "まずデータの概要を掴んでみましょう。"
   ]
  },
  {
   "cell_type": "markdown",
   "metadata": {},
   "source": [
    "国別ワクチン接種状況データをロード。"
   ]
  },
  {
   "cell_type": "code",
   "execution_count": null,
   "metadata": {},
   "outputs": [],
   "source": [
    "country_vaccinations_df = pd.read_csv('data/country_vaccinations.csv')\n",
    "\n",
    "len(country_vaccinations_df)"
   ]
  },
  {
   "cell_type": "markdown",
   "metadata": {},
   "source": [
    "データの中身を確認。  \n",
    "不明な属性があれば、データ取得元で確認します。"
   ]
  },
  {
   "cell_type": "code",
   "execution_count": null,
   "metadata": {},
   "outputs": [],
   "source": [
    "country_vaccinations_df.head()"
   ]
  },
  {
   "cell_type": "markdown",
   "metadata": {},
   "source": [
    "１行目のみを表示してみます。  \n",
    "以下はどんな属性でしょうか？  \n",
    "- `people_fully_vaccinated`\n",
    "- `daily_vaccinations_raw`\n",
    "- `daily_vaccinations`\n",
    "- `people_vaccinated_per_hundred`"
   ]
  },
  {
   "cell_type": "code",
   "execution_count": null,
   "metadata": {},
   "outputs": [],
   "source": [
    "country_vaccinations_df.iloc[0]"
   ]
  },
  {
   "cell_type": "markdown",
   "metadata": {},
   "source": [
    "`source_name`、`source_website`列は今回必要ないので削除します。"
   ]
  },
  {
   "cell_type": "code",
   "execution_count": null,
   "metadata": {},
   "outputs": [],
   "source": [
    "country_vaccinations_df.drop(columns={'source_name', 'source_website'}, inplace=True)"
   ]
  },
  {
   "cell_type": "markdown",
   "metadata": {},
   "source": [
    "数値属性の集計情報を確認。  \n",
    "どんな特徴が読み取れますか？"
   ]
  },
  {
   "cell_type": "code",
   "execution_count": null,
   "metadata": {},
   "outputs": [],
   "source": [
    "country_vaccinations_df.describe()"
   ]
  },
  {
   "cell_type": "markdown",
   "metadata": {},
   "source": [
    "ヒストグラムでデータを表示。  \n",
    "どんな特徴が読み取れますか？  \n",
    "※「1e9」は10の9乗の意味。"
   ]
  },
  {
   "cell_type": "code",
   "execution_count": null,
   "metadata": {},
   "outputs": [],
   "source": [
    "country_vaccinations_df.hist(bins=20, figsize=(20, 12))"
   ]
  },
  {
   "cell_type": "markdown",
   "metadata": {},
   "source": [
    "`daily_vaccinations_raw`と`daily_vaccinations`のグラフがかなり異なります。  \n",
    "かなりの欠損値がありそうです。\n",
    "\n",
    "`pandas.DataFrame.info()`で列ごとの欠損値を確認してみます。"
   ]
  },
  {
   "cell_type": "code",
   "execution_count": null,
   "metadata": {},
   "outputs": [],
   "source": [
    "country_vaccinations_df.info()"
   ]
  },
  {
   "cell_type": "code",
   "execution_count": null,
   "metadata": {},
   "outputs": [],
   "source": []
  },
  {
   "cell_type": "markdown",
   "metadata": {},
   "source": [
    "### 2. 地図を使ってデータを把握\n",
    "\n",
    "ここでは、各国をワクチン２回接種の割合で色分けしてみます。"
   ]
  },
  {
   "cell_type": "markdown",
   "metadata": {},
   "source": [
    "各国ごとの最新のワクチン２回接種割合のデータフレームを作成。"
   ]
  },
  {
   "cell_type": "code",
   "execution_count": null,
   "metadata": {},
   "outputs": [],
   "source": [
    "country_fully_vaccinated_df = country_vaccinations_df.groupby(['country', 'iso_code'])\\\n",
    "                                .max()['people_fully_vaccinated_per_hundred'].reset_index()\n",
    "\n",
    "country_fully_vaccinated_df.head(20)"
   ]
  },
  {
   "cell_type": "markdown",
   "metadata": {},
   "source": [
    "棒グラフで分布を確認。  \n",
    "`seaborn.barplot()`でグラフを描画します。"
   ]
  },
  {
   "cell_type": "code",
   "execution_count": null,
   "metadata": {},
   "outputs": [],
   "source": [
    "country_fully_vaccinated_from_top_df = \\\n",
    "    country_fully_vaccinated_df.sort_values('people_fully_vaccinated_per_hundred', ascending=False)\n",
    "ax = sns.barplot(\n",
    "    x=country_fully_vaccinated_from_top_df['country'],\n",
    "    y=country_fully_vaccinated_from_top_df['people_fully_vaccinated_per_hundred'])\n",
    "\n",
    "# x軸目盛りを表示しない。\n",
    "ax.set(xticklabels=[])\n",
    "ax.tick_params(bottom=False)"
   ]
  },
  {
   "cell_type": "markdown",
   "metadata": {},
   "source": [
    "データを地図上に表示。  \n",
    "`folium.Choropleth()`でコロプレスマップを描画。\n",
    "\n",
    "国ごとの区画情報は`countries.geo.json`を利用します。  \n",
    "参考： [foliumを使って東京23区ラーメンスコアを可視化する](https://qiita.com/xkent/items/d068fc504c8cef217ca8)  \n",
    "\n",
    "どんなことが読み取れますか？"
   ]
  },
  {
   "cell_type": "code",
   "execution_count": null,
   "metadata": {},
   "outputs": [],
   "source": [
    "map = folium.Map(location=[0,0], zoom_start=2.4)\n",
    "\n",
    "folium.Choropleth(\n",
    "    # geo_data=json.load(open('data/countries.geo.json', 'r')),\n",
    "    geo_data='data/countries.geo.json',\n",
    "    data=country_fully_vaccinated_df,\n",
    "    fill_opacity=1,\n",
    "    line_color='black',\n",
    "    nan_fill_color='#888888',\n",
    "    columns=['iso_code', 'people_fully_vaccinated_per_hundred'],\n",
    "    key_on= \"feature.id\",\n",
    "    fill_color='RdBu').add_to(map)\n",
    "\n",
    "map"
   ]
  },
  {
   "cell_type": "code",
   "execution_count": null,
   "metadata": {},
   "outputs": [],
   "source": []
  },
  {
   "cell_type": "markdown",
   "metadata": {},
   "source": [
    "### 3. 少しだけ掘り下げた分析をしてみる\n",
    "各製造メーカー製ワクチンの接種状況がどのように推移しているかを分析してみます。"
   ]
  },
  {
   "cell_type": "markdown",
   "metadata": {},
   "source": [
    "製造メーカー別のワクチン接種データをロード。"
   ]
  },
  {
   "cell_type": "code",
   "execution_count": null,
   "metadata": {},
   "outputs": [],
   "source": [
    "country_vaccinations_by_manufacturer_df = pd.read_csv('data/country_vaccinations_by_manufacturer.csv')\n",
    "\n",
    "len(country_vaccinations_by_manufacturer_df)"
   ]
  },
  {
   "cell_type": "markdown",
   "metadata": {},
   "source": [
    "データの中身を確認。"
   ]
  },
  {
   "cell_type": "code",
   "execution_count": null,
   "metadata": {},
   "outputs": [],
   "source": [
    "country_vaccinations_by_manufacturer_df.head(20)"
   ]
  },
  {
   "cell_type": "markdown",
   "metadata": {},
   "source": [
    "欠損値があるか確認。"
   ]
  },
  {
   "cell_type": "code",
   "execution_count": null,
   "metadata": {},
   "outputs": [],
   "source": [
    "country_vaccinations_by_manufacturer_df.isna().sum()"
   ]
  },
  {
   "cell_type": "markdown",
   "metadata": {},
   "source": [
    "グラフのX軸目盛用に`month`列を追加。"
   ]
  },
  {
   "cell_type": "code",
   "execution_count": null,
   "metadata": {},
   "outputs": [],
   "source": [
    "country_vaccinations_by_manufacturer_df['month'] = pd.to_datetime(\n",
    "    country_vaccinations_by_manufacturer_df.date, format='%Y-%m-%d').dt.strftime('%Y-%m')"
   ]
  },
  {
   "cell_type": "markdown",
   "metadata": {},
   "source": [
    "ワクチン、月別に接種回数を合計したデータフレームを生成。"
   ]
  },
  {
   "cell_type": "code",
   "execution_count": null,
   "metadata": {},
   "outputs": [],
   "source": [
    "vaccinations_by_manufacturer_df = country_vaccinations_by_manufacturer_df \\\n",
    "                                    .groupby(['vaccine', 'month']) \\\n",
    "                                    .agg({'total_vaccinations': 'sum'}) \\\n",
    "                                    .reset_index()\n",
    "\n",
    "vaccinations_by_manufacturer_df.head()                                   "
   ]
  },
  {
   "cell_type": "markdown",
   "metadata": {},
   "source": [
    "折れ線グラフを表示。  \n",
    "どんなことが読み取れますか？"
   ]
  },
  {
   "cell_type": "code",
   "execution_count": null,
   "metadata": {},
   "outputs": [],
   "source": [
    "ax = sns.lineplot(\n",
    "    data=vaccinations_by_manufacturer_df,\n",
    "    x='month',\n",
    "    y='total_vaccinations',\n",
    "    hue='vaccine',\n",
    "    palette='Set1')\n",
    "plt.xticks(rotation=90)\n",
    "ax.legend(loc=\"lower left\", bbox_to_anchor=(1, 0))"
   ]
  },
  {
   "cell_type": "code",
   "execution_count": null,
   "metadata": {},
   "outputs": [],
   "source": []
  }
 ],
 "metadata": {
  "interpreter": {
   "hash": "d109c1022d0269bfeb1214b0bec2187ee8bc4e794779a7e71ed964fc39a480b6"
  },
  "kernelspec": {
   "display_name": "introduction_to_pandas",
   "language": "python",
   "name": "python3"
  },
  "language_info": {
   "codemirror_mode": {
    "name": "ipython",
    "version": 3
   },
   "file_extension": ".py",
   "mimetype": "text/x-python",
   "name": "python",
   "nbconvert_exporter": "python",
   "pygments_lexer": "ipython3",
   "version": "3.9.9"
  }
 },
 "nbformat": 4,
 "nbformat_minor": 2
}
