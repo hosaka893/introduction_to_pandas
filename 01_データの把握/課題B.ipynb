{
 "cells": [
  {
   "cell_type": "markdown",
   "metadata": {},
   "source": [
    "### 0. 事前準備\n",
    "\n",
    "以下のデータを取得して、このノートブックと同じディレクトリにある`data`ディレクトリに配置します。\n",
    "\n",
    "__COVID-19 World Vaccination Progress__  \n",
    "URL:  \n",
    "・https://www.kaggle.com/gpreda/covid-world-vaccination-progress    \n",
    "DATA:  \n",
    "・country_vaccinations.csv  \n",
    "・country_vaccinations_by_manufacturer.csv\n",
    "\n",
    "---\n",
    "\n",
    "__Annotated geo-json geometry files for the world__  \n",
    "URL:  \n",
    "・https://github.com/johan/world.geo.json  \n",
    "DATA:  \n",
    "・countries.geo.json"
   ]
  },
  {
   "cell_type": "code",
   "execution_count": null,
   "metadata": {},
   "outputs": [],
   "source": [
    "%matplotlib inline\n",
    "\n",
    "import folium\n",
    "import math\n",
    "import matplotlib.pyplot as plt\n",
    "import matplotlib.ticker as ticker\n",
    "import numpy as np\n",
    "import pandas as pd\n",
    "import seaborn as sns"
   ]
  },
  {
   "cell_type": "code",
   "execution_count": null,
   "metadata": {},
   "outputs": [],
   "source": []
  },
  {
   "cell_type": "markdown",
   "metadata": {},
   "source": [
    "### 1. データの概要を把握\n",
    "まずデータの概要を掴んでみましょう。"
   ]
  },
  {
   "cell_type": "markdown",
   "metadata": {},
   "source": [
    "国別ワクチン接種状況データをロード。"
   ]
  },
  {
   "cell_type": "code",
   "execution_count": null,
   "metadata": {},
   "outputs": [],
   "source": [
    "country_vaccinations_df = pd.read_csv('data/country_vaccinations.csv')\n",
    "\n",
    "len(country_vaccinations_df)"
   ]
  },
  {
   "cell_type": "markdown",
   "metadata": {},
   "source": [
    "データの中身を確認。  \n",
    "不明な属性があれば、データ取得元で確認します。"
   ]
  },
  {
   "cell_type": "code",
   "execution_count": null,
   "metadata": {},
   "outputs": [],
   "source": [
    "country_vaccinations_df.head()"
   ]
  },
  {
   "cell_type": "markdown",
   "metadata": {},
   "source": [
    "`info()`で列の情報を取得します。\n",
    "\n",
    "以下はどんな属性でしょうか？  \n",
    "- `people_fully_vaccinated`\n",
    "- `daily_vaccinations_raw`\n",
    "- `daily_vaccinations`\n",
    "- `people_vaccinated_per_hundred`"
   ]
  },
  {
   "cell_type": "code",
   "execution_count": null,
   "metadata": {},
   "outputs": [],
   "source": [
    "country_vaccinations_df.info()"
   ]
  },
  {
   "cell_type": "markdown",
   "metadata": {},
   "source": [
    "`source_name`、`source_website`列は今回必要ないので削除します。"
   ]
  },
  {
   "cell_type": "code",
   "execution_count": null,
   "metadata": {},
   "outputs": [],
   "source": [
    "country_vaccinations_df.drop(columns={'source_name', 'source_website'}, inplace=True)\n",
    "\n",
    "country_vaccinations_df.info()"
   ]
  },
  {
   "cell_type": "markdown",
   "metadata": {},
   "source": [
    "数値属性の集計情報を確認。\n",
    "\n",
    "どんなことが読み取れますか？"
   ]
  },
  {
   "cell_type": "code",
   "execution_count": null,
   "metadata": {},
   "outputs": [],
   "source": [
    "country_vaccinations_df.describe()"
   ]
  },
  {
   "cell_type": "code",
   "execution_count": null,
   "metadata": {},
   "outputs": [],
   "source": []
  },
  {
   "cell_type": "markdown",
   "metadata": {},
   "source": [
    "データフレームの`hist()`を使ってヒストグラムを表示します。\n",
    "\n",
    "どんなことが読み取れますか？  \n",
    "※「1e9」は10の9乗の意味です。"
   ]
  },
  {
   "cell_type": "code",
   "execution_count": null,
   "metadata": {},
   "outputs": [],
   "source": [
    "country_vaccinations_df.hist(bins=20, figsize=(20, 12)); # セミコロンでテキスト出力を抑える"
   ]
  },
  {
   "cell_type": "code",
   "execution_count": null,
   "metadata": {},
   "outputs": [],
   "source": []
  },
  {
   "cell_type": "markdown",
   "metadata": {},
   "source": [
    "### 2. 地図を使ってデータを把握\n",
    "\n",
    "ここでは、各国をワクチン２回接種の割合で色分けしてみます。"
   ]
  },
  {
   "cell_type": "markdown",
   "metadata": {},
   "source": [
    "各国ごとの最新のワクチン２回接種割合のデータフレームを作成。"
   ]
  },
  {
   "cell_type": "code",
   "execution_count": null,
   "metadata": {},
   "outputs": [],
   "source": []
  },
  {
   "cell_type": "code",
   "execution_count": null,
   "metadata": {},
   "outputs": [],
   "source": [
    "country_vaccinations_df.groupby(['country', 'iso_code'])['people_fully_vaccinated_per_hundred'] \\\n",
    "                               .max()"
   ]
  },
  {
   "cell_type": "code",
   "execution_count": null,
   "metadata": {},
   "outputs": [],
   "source": [
    "country_fully_vaccinated_df = country_vaccinations_df \\\n",
    "                               .groupby(['country', 'iso_code'])['people_fully_vaccinated_per_hundred'] \\\n",
    "                               .max() \\\n",
    "                               .reset_index() \\\n",
    "                               .sort_values('people_fully_vaccinated_per_hundred', ascending=False)\n",
    "\n",
    "country_fully_vaccinated_df.head(20)"
   ]
  },
  {
   "cell_type": "markdown",
   "metadata": {},
   "source": [
    "棒グラフで分布を確認。\n",
    "\n",
    "`people_fully_vaccinated_per_hundred`の値が100%を超えているのはなぜでしょうか？"
   ]
  },
  {
   "cell_type": "code",
   "execution_count": null,
   "metadata": {},
   "outputs": [],
   "source": [
    "fig, ax = plt.subplots(figsize=(20,8))\n",
    "\n",
    "sns.barplot(\n",
    "    x=country_fully_vaccinated_df['country'],\n",
    "    y=country_fully_vaccinated_df['people_fully_vaccinated_per_hundred'])\n",
    "\n",
    "# x軸目盛りとラベルを表示しない\n",
    "ax.set(xticklabels=[])\n",
    "ax.tick_params(bottom=False)"
   ]
  },
  {
   "cell_type": "markdown",
   "metadata": {},
   "source": [
    "`folium.Choropleth()`でコロプレスマップを描画します。  \n",
    "国ごとの区画情報は`countries.geo.json`を利用します。\n",
    "\n",
    "どんなことが読み取れますか？"
   ]
  },
  {
   "cell_type": "code",
   "execution_count": null,
   "metadata": {},
   "outputs": [],
   "source": [
    "m = folium.Map(location=[0,0], zoom_start=2.4)\n",
    "\n",
    "folium.Choropleth(\n",
    "    geo_data='data/countries.geo.json',\n",
    "    data=country_fully_vaccinated_df,\n",
    "    fill_opacity=1,\n",
    "    line_color='black',\n",
    "    nan_fill_color='#888888',\n",
    "    columns=['iso_code', 'people_fully_vaccinated_per_hundred'],\n",
    "    key_on= \"feature.id\",\n",
    "    fill_color='RdBu').add_to(m)\n",
    "\n",
    "m"
   ]
  },
  {
   "cell_type": "code",
   "execution_count": null,
   "metadata": {},
   "outputs": [],
   "source": []
  },
  {
   "cell_type": "markdown",
   "metadata": {},
   "source": [
    "### 3. 少しだけ掘り下げた分析をしてみる\n",
    "\n",
    "各製造メーカー製ワクチンの接種状況がどのように推移しているかを分析してみます。"
   ]
  },
  {
   "cell_type": "markdown",
   "metadata": {},
   "source": [
    "製造メーカー別のワクチン接種データをロード。"
   ]
  },
  {
   "cell_type": "code",
   "execution_count": null,
   "metadata": {},
   "outputs": [],
   "source": [
    "country_vaccinations_by_manufacturer_df = pd.read_csv('data/country_vaccinations_by_manufacturer.csv')\n",
    "\n",
    "len(country_vaccinations_by_manufacturer_df)"
   ]
  },
  {
   "cell_type": "markdown",
   "metadata": {},
   "source": [
    "データの中身を確認。"
   ]
  },
  {
   "cell_type": "code",
   "execution_count": null,
   "metadata": {},
   "outputs": [],
   "source": [
    "country_vaccinations_by_manufacturer_df.head(10)"
   ]
  },
  {
   "cell_type": "markdown",
   "metadata": {},
   "source": [
    "`info()`で各列の情報を確認。\n",
    "\n",
    "不明な列はありますか？\n",
    "\n",
    "また、欠損値はありますか？"
   ]
  },
  {
   "cell_type": "code",
   "execution_count": null,
   "metadata": {},
   "outputs": [],
   "source": [
    "country_vaccinations_by_manufacturer_df.info()"
   ]
  },
  {
   "cell_type": "markdown",
   "metadata": {},
   "source": [
    "グラフのX軸目盛用に`month`列を追加。"
   ]
  },
  {
   "cell_type": "code",
   "execution_count": null,
   "metadata": {},
   "outputs": [],
   "source": [
    "country_vaccinations_by_manufacturer_df['month'] = pd.to_datetime(\n",
    "    country_vaccinations_by_manufacturer_df.date, format='%Y-%m-%d').dt.strftime('%Y-%m')\n",
    "\n",
    "country_vaccinations_by_manufacturer_df['month']"
   ]
  },
  {
   "cell_type": "markdown",
   "metadata": {},
   "source": [
    "グラフを表示した時に各ワクチンが同じ色でされるよう、`vaccine`列をカテゴリ型に変換します。"
   ]
  },
  {
   "cell_type": "code",
   "execution_count": null,
   "metadata": {},
   "outputs": [],
   "source": [
    "country_vaccinations_by_manufacturer_df['vaccine'] = country_vaccinations_by_manufacturer_df['vaccine'] \\\n",
    "                                                     .astype('category')\n",
    "\n",
    "country_vaccinations_by_manufacturer_df['vaccine']"
   ]
  },
  {
   "cell_type": "markdown",
   "metadata": {},
   "source": [
    "国、ワクチン、月別でグループ化し、接種回数を計算したデータフレームを生成。\n",
    "\n",
    "`total_vaccinations`が累計という前提で、最大値を取得します。"
   ]
  },
  {
   "cell_type": "code",
   "execution_count": null,
   "metadata": {},
   "outputs": [],
   "source": [
    "location_vaccine_month_df = country_vaccinations_by_manufacturer_df \\\n",
    "                             .groupby(['location', 'vaccine', 'month']) \\\n",
    "                             .agg({'total_vaccinations': 'max'})\n",
    "\n",
    "location_vaccine_month_df.head(20)"
   ]
  },
  {
   "cell_type": "markdown",
   "metadata": {},
   "source": [
    "`vaccine`列をカテゴリ型にしたため、`location`、`vaccine`、`month`のすべての組み合わせの行が作られ、存在しない組み合わせの場合は`total_vaccinations`列の値が`NaN`になってしまいました。\n",
    "\n",
    "日本の`Pfizer/BioNTech`接種回数にも`NaN`が含まれています。"
   ]
  },
  {
   "cell_type": "code",
   "execution_count": null,
   "metadata": {},
   "outputs": [],
   "source": [
    "location_vaccine_month_df.query('location == \"Japan\" and vaccine == \"Pfizer/BioNTech\"')"
   ]
  },
  {
   "cell_type": "markdown",
   "metadata": {},
   "source": [
    "これを国・ワクチンのグループ単位で`fillna()`を使って修正します。\n",
    "\n",
    "先頭から`NaN`の場合は`fillna(0)`で`0`を埋め、後続の値が`NaN`の場合は`fillna(method='ffill')`で同じ値で埋めます。"
   ]
  },
  {
   "cell_type": "code",
   "execution_count": null,
   "metadata": {},
   "outputs": [],
   "source": [
    "location_vaccine_month_df = location_vaccine_month_df \\\n",
    "                             .groupby(['location', 'vaccine']) \\\n",
    "                             .apply(lambda g: g.fillna(method='ffill').fillna(0))\n",
    "\n",
    "location_vaccine_month_df.head(20)"
   ]
  },
  {
   "cell_type": "markdown",
   "metadata": {},
   "source": [
    "もう一度、日本の`Pfizer/BioNTech`接種状況を確認します。"
   ]
  },
  {
   "cell_type": "code",
   "execution_count": null,
   "metadata": {},
   "outputs": [],
   "source": [
    "location_vaccine_month_df.query('location == \"Japan\" and vaccine == \"Pfizer/BioNTech\"')"
   ]
  },
  {
   "cell_type": "markdown",
   "metadata": {},
   "source": [
    "すべての行で`NaN`がないことも確認します。"
   ]
  },
  {
   "cell_type": "code",
   "execution_count": null,
   "metadata": {},
   "outputs": [],
   "source": [
    "print(location_vaccine_month_df['total_vaccinations'].isna().sum())"
   ]
  },
  {
   "cell_type": "markdown",
   "metadata": {},
   "source": [
    "問題ないようであれば、今度は世界全体のデータを計算します。\n",
    "\n",
    "ワクチン、月別でグループ化し、接種回数を計算したデータフレームを生成し、月でソートします。\n",
    "\n",
    "今度は`total_vaccinations`の合計値を取得します。"
   ]
  },
  {
   "cell_type": "code",
   "execution_count": null,
   "metadata": {},
   "outputs": [],
   "source": [
    "world_vaccine_month_df = location_vaccine_month_df \\\n",
    "                          .groupby(['vaccine', 'month']) \\\n",
    "                          .agg({'total_vaccinations': 'sum'}) \\\n",
    "                          .sort_values('month')\n",
    "\n",
    "world_vaccine_month_df.head()"
   ]
  },
  {
   "cell_type": "markdown",
   "metadata": {},
   "source": [
    "折れ線グラフを表示します。\n",
    "\n",
    "どんなことが読み取れますか？"
   ]
  },
  {
   "cell_type": "code",
   "execution_count": null,
   "metadata": {},
   "outputs": [],
   "source": [
    "sns.set(palette='Set2', style='white', font=['MS Gothic','Hiragino Sans','TakaoPGothic']) # 日本語フォントは設定が必要\n",
    "\n",
    "fig, ax = plt.subplots(figsize=(20,12))\n",
    "\n",
    "sns.lineplot(data=world_vaccine_month_df,\n",
    "             x='month',\n",
    "             y='total_vaccinations',\n",
    "             hue='vaccine')\n",
    "\n",
    "ax.set_xlabel(\"月\");\n",
    "plt.xticks(rotation=90)\n",
    "\n",
    "ax.set_ylabel(\"ワクチン総接種回数（億）\");\n",
    "ax.yaxis.set_major_formatter(ticker.FuncFormatter(lambda y, pos: '{:,.0f}'.format(y/100_000_000))) # 億単位\n",
    "\n",
    "ax.legend(loc=\"lower left\", bbox_to_anchor=(1.01, 0.8))"
   ]
  },
  {
   "cell_type": "markdown",
   "metadata": {},
   "source": [
    "同様に、任意の8ヵ国についてワクチン別の接種回数の推移をグラフで表示してみましょう。\n",
    "\n",
    "任意の8ヵ国のリストを取得します。"
   ]
  },
  {
   "cell_type": "code",
   "execution_count": null,
   "metadata": {},
   "outputs": [],
   "source": [
    "# 国の数は任意の数を指定可能\n",
    "random_countries = np.random.choice(location_vaccine_month_df.index.get_level_values('location').unique(),\n",
    "                                    size=8,\n",
    "                                    replace=False)\n",
    "\n",
    "random_countries.sort()\n",
    "\n",
    "random_countries"
   ]
  },
  {
   "cell_type": "markdown",
   "metadata": {},
   "source": [
    "８つの折れ線グラフをまとめて表示します。\n",
    "\n",
    "どんなことが読み取れますか？"
   ]
  },
  {
   "cell_type": "code",
   "execution_count": null,
   "metadata": {
    "scrolled": false
   },
   "outputs": [],
   "source": [
    "nrows = math.ceil(len(random_countries) / 2) # pythonのroundは「偶数丸め」\n",
    "ncols = 2\n",
    "\n",
    "fig, axes = plt.subplots(nrows, ncols, figsize=(20, 7*nrows), sharex=True)\n",
    "\n",
    "for i in range(nrows):\n",
    "    for j in range(ncols):\n",
    "    \n",
    "        target_ax = axes[i, j] if nrows > 1 else axes[j]\n",
    "        \n",
    "        # 最後の行のグラフにあるX軸ラベルを縦にする\n",
    "        if i == nrows-1:\n",
    "            target_ax.tick_params(labelrotation=90)\n",
    "    \n",
    "        country_index = i*ncols + j\n",
    "        if country_index == len(random_countries):\n",
    "            break\n",
    "\n",
    "        target_country = random_countries[country_index]\n",
    "        sns.lineplot(data=location_vaccine_month_df.query('location == @target_country').sort_values('month'),\n",
    "                     x='month',\n",
    "                     y='total_vaccinations',\n",
    "                     hue='vaccine',\n",
    "                     ax=target_ax)\n",
    "        \n",
    "        target_ax.set_title(target_country)\n",
    "        \n",
    "        target_ax.set_xlabel(\"月\");\n",
    "        \n",
    "        target_ax.set_ylabel(\"ワクチン総接種回数（万）\");\n",
    "        target_ax.yaxis.set_major_formatter(\n",
    "            ticker.FuncFormatter(lambda y, pos: '{:,.0f}'.format(y/10_000))); # 万単位\n",
    "    \n",
    "        target_ax.legend(loc=\"upper left\")"
   ]
  },
  {
   "cell_type": "markdown",
   "metadata": {},
   "source": [
    "最後に、先ほどの任意の8ヵ国での`Pfizer/BioNTech`製ワクチンの接種回数の推移を１つの折れ線グラフで表示してみましょう。\n",
    "\n",
    "まずグラフ用のデータフレームを用意します。\n",
    "\n",
    "条件による絞り込みは`query()`を使うと簡単かもしれません。"
   ]
  },
  {
   "cell_type": "code",
   "execution_count": null,
   "metadata": {},
   "outputs": [],
   "source": [
    "### チャレンジしてみましょう！！ ###"
   ]
  },
  {
   "cell_type": "markdown",
   "metadata": {},
   "source": [
    "グラフを表示します。\n",
    "\n",
    "どんなことが読み取れますか？"
   ]
  },
  {
   "cell_type": "code",
   "execution_count": null,
   "metadata": {},
   "outputs": [],
   "source": [
    "### チャレンジしてみましょう！！ ###"
   ]
  },
  {
   "cell_type": "code",
   "execution_count": null,
   "metadata": {},
   "outputs": [],
   "source": []
  }
 ],
 "metadata": {
  "interpreter": {
   "hash": "d109c1022d0269bfeb1214b0bec2187ee8bc4e794779a7e71ed964fc39a480b6"
  },
  "kernelspec": {
   "display_name": "Python 3 (ipykernel)",
   "language": "python",
   "name": "python3"
  },
  "language_info": {
   "codemirror_mode": {
    "name": "ipython",
    "version": 3
   },
   "file_extension": ".py",
   "mimetype": "text/x-python",
   "name": "python",
   "nbconvert_exporter": "python",
   "pygments_lexer": "ipython3",
   "version": "3.9.9"
  }
 },
 "nbformat": 4,
 "nbformat_minor": 2
}
