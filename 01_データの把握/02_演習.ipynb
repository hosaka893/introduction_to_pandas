{
 "cells": [
  {
   "cell_type": "markdown",
   "metadata": {},
   "source": [
    "以下のデータを取得して、`data`ディレクトリに配置。\n",
    "\n",
    "---\n",
    "\n",
    "__120 years of Olympic history: athletes and results__  \n",
    "  URL:  \n",
    "    ・https://www.kaggle.com/heesoo37/120-years-of-olympic-history-athletes-and-results  \n",
    "  DATA:  \n",
    "    ・athlete_events.csv\n",
    "\n",
    "---\n",
    "\n",
    "__World cities database__  \n",
    "  URL:  \n",
    "    ・https://www.kaggle.com/juanmah/world-cities  \n",
    "  DATA:  \n",
    "    ・worldcities.csv"
   ]
  },
  {
   "cell_type": "code",
   "execution_count": null,
   "metadata": {},
   "outputs": [],
   "source": [
    "%matplotlib inline\n",
    "\n",
    "import folium\n",
    "import matplotlib.pyplot as plt\n",
    "import pandas as pd\n",
    "import seaborn as sns"
   ]
  },
  {
   "cell_type": "code",
   "execution_count": null,
   "metadata": {},
   "outputs": [],
   "source": []
  },
  {
   "cell_type": "markdown",
   "metadata": {},
   "source": [
    "### 1. データの概要を掴む\n",
    "とにかく大雑把にデータの特徴を把握しよう。"
   ]
  },
  {
   "cell_type": "markdown",
   "metadata": {},
   "source": [
    "オリンピック選手のデータをロード。"
   ]
  },
  {
   "cell_type": "code",
   "execution_count": null,
   "metadata": {},
   "outputs": [],
   "source": [
    "athlete_events_df = pd.read_csv('data/athlete_events.csv')\n",
    "\n",
    "len(athlete_events_df)"
   ]
  },
  {
   "cell_type": "markdown",
   "metadata": {},
   "source": [
    "データの中身を確認。"
   ]
  },
  {
   "cell_type": "code",
   "execution_count": null,
   "metadata": {},
   "outputs": [],
   "source": [
    "athlete_events_df.head()"
   ]
  },
  {
   "cell_type": "markdown",
   "metadata": {},
   "source": [
    "数値属性の集計情報を確認。  \n",
    "何か特徴が読み取れるか？"
   ]
  },
  {
   "cell_type": "code",
   "execution_count": null,
   "metadata": {},
   "outputs": [],
   "source": [
    "athlete_events_df.describe()"
   ]
  },
  {
   "cell_type": "markdown",
   "metadata": {},
   "source": [
    "ヒストグラムで表示。  \n",
    "何か特徴が読み取れるか？\n",
    "\n",
    "データを加工するたびにグラフにして全体象を把握する。"
   ]
  },
  {
   "cell_type": "code",
   "execution_count": null,
   "metadata": {},
   "outputs": [],
   "source": [
    "athlete_events_df.hist(bins=50, figsize=(20, 12))"
   ]
  },
  {
   "cell_type": "code",
   "execution_count": null,
   "metadata": {},
   "outputs": [],
   "source": []
  },
  {
   "cell_type": "markdown",
   "metadata": {},
   "source": [
    "### 2. 地図を使ってデータを把握する\n",
    "地理情報がある場合は、地図上にデータを表示させてみる。"
   ]
  },
  {
   "cell_type": "markdown",
   "metadata": {},
   "source": [
    "開催都市を地図上に表示。\n",
    "- 夏は赤系、冬は青系の円を配置。\n",
    "- 参加選手数に合わせて円を大きくする。\n",
    "- 複数回開催している場合は色分けする。"
   ]
  },
  {
   "cell_type": "code",
   "execution_count": null,
   "metadata": {},
   "outputs": [],
   "source": [
    "# 都市、ゲームでグループ分け。\n",
    "city_games_df = athlete_events_df.groupby(['City', 'Year', 'Games']).agg(number_of_athletes=('ID', 'count'))\n",
    "city_games_df.reset_index(inplace=True)\n",
    "\n",
    "# 色分け用にseason列（夏季か冬季か？）を追加。\n",
    "city_games_df['season'] = city_games_df['Games'].str.split().str[1]\n",
    "\n",
    "city_games_df.head(10)"
   ]
  },
  {
   "cell_type": "markdown",
   "metadata": {},
   "source": [
    "複数回開催している都市があるので、何回目の開催であるかを示す列を追加。"
   ]
  },
  {
   "cell_type": "code",
   "execution_count": null,
   "metadata": {},
   "outputs": [],
   "source": [
    "city_games_df['number_of_times'] = city_games_df.groupby(['City', 'season']).cumcount() + 1\n",
    "\n",
    "city_games_df.head(10)"
   ]
  },
  {
   "cell_type": "markdown",
   "metadata": {},
   "source": [
    "世界の都市の位置情報データをロード。"
   ]
  },
  {
   "cell_type": "code",
   "execution_count": null,
   "metadata": {},
   "outputs": [],
   "source": [
    "worldcities_df = pd.read_csv('data/worldcities.csv')\n",
    "\n",
    "len(worldcities_df)"
   ]
  },
  {
   "cell_type": "markdown",
   "metadata": {},
   "source": [
    "データを確認。"
   ]
  },
  {
   "cell_type": "code",
   "execution_count": null,
   "metadata": {},
   "outputs": [],
   "source": [
    "worldcities_df.head(10)"
   ]
  },
  {
   "cell_type": "markdown",
   "metadata": {},
   "source": [
    "`city_ascii`が英語名のようなので、`city_ascii`を都市名として利用。  \n",
    "同名の都市がないかチェック。"
   ]
  },
  {
   "cell_type": "code",
   "execution_count": null,
   "metadata": {},
   "outputs": [],
   "source": [
    "worldcities_df.duplicated(subset='city_ascii').sum()"
   ]
  },
  {
   "cell_type": "markdown",
   "metadata": {},
   "source": [
    "都市名の重複が相当ある模様。  \n",
    "どんな重複があるのか確認。"
   ]
  },
  {
   "cell_type": "code",
   "execution_count": null,
   "metadata": {},
   "outputs": [],
   "source": [
    "worldcities_df[worldcities_df.duplicated(subset='city_ascii')].sort_values('city_ascii')"
   ]
  },
  {
   "cell_type": "markdown",
   "metadata": {},
   "source": [
    "とりあえず機械的に、都市名が重複している場合は人口数の多いものだけ残すようにする。"
   ]
  },
  {
   "cell_type": "code",
   "execution_count": null,
   "metadata": {},
   "outputs": [],
   "source": [
    "# 都市名、人口の昇順にする。\n",
    "worldcities_df.sort_values(['city_ascii', 'population'], inplace=True)\n",
    "\n",
    "# 重複都市名の最後の行、つまり一番人口が多いものを残す。\n",
    "worldcities_df.drop_duplicates(subset='city_ascii', keep='last', inplace=True)"
   ]
  },
  {
   "cell_type": "markdown",
   "metadata": {},
   "source": [
    "もう一度重複数を確認。"
   ]
  },
  {
   "cell_type": "code",
   "execution_count": null,
   "metadata": {},
   "outputs": [],
   "source": [
    "worldcities_df.duplicated(subset='city_ascii').sum()"
   ]
  },
  {
   "cell_type": "markdown",
   "metadata": {},
   "source": [
    "必要な列のみ残す。"
   ]
  },
  {
   "cell_type": "code",
   "execution_count": null,
   "metadata": {},
   "outputs": [],
   "source": [
    "worldcities_df = worldcities_df[['city_ascii', 'lat', 'lng']]"
   ]
  },
  {
   "cell_type": "markdown",
   "metadata": {},
   "source": [
    "都市名をキーとしてデータフレームを結合。"
   ]
  },
  {
   "cell_type": "code",
   "execution_count": null,
   "metadata": {},
   "outputs": [],
   "source": [
    "city_game_coords_df = pd.merge(city_games_df, worldcities_df, left_on=['City'], right_on=['city_ascii'], how='left')\n",
    "\n",
    "city_game_coords_df.head(10)"
   ]
  },
  {
   "cell_type": "markdown",
   "metadata": {},
   "source": [
    "緯度経度が入っていないものをチェック。"
   ]
  },
  {
   "cell_type": "code",
   "execution_count": null,
   "metadata": {},
   "outputs": [],
   "source": [
    "city_game_coords_df[city_game_coords_df['lat'].isna()]"
   ]
  },
  {
   "cell_type": "markdown",
   "metadata": {},
   "source": [
    "数が少ないので、個別対応する。\n",
    "- Antwerpen → Antwerp\n",
    "- Athina → Athens \n",
    "- Chamonix → Chamonix-Mont-Blanc\n",
    "- Garmisch-Partenkirchen → Garmisch-Partenkirchen (47.492, 11.0931)\n",
    "- Moskva → Moscow\n",
    "- Sankt Moritz → St. Moritz (46.578, 9.8353)\n",
    "- Squaw Valley → Palisades Tahoe (39.208, -120.2132)\n",
    "- Torino → Turin"
   ]
  },
  {
   "cell_type": "code",
   "execution_count": null,
   "metadata": {},
   "outputs": [],
   "source": [
    "city_game_coords_df.loc[(city_game_coords_df['lat'].isna()) & (city_game_coords_df['City'] == \"Antwerpen\"), ['city_ascii', 'lat', 'lng']] = \\\n",
    "    worldcities_df.query('city_ascii == \"Antwerp\"').values\n",
    "\n",
    "city_game_coords_df.loc[(city_game_coords_df['lat'].isna()) & (city_game_coords_df['City'] == \"Athina\"), ['city_ascii', 'lat', 'lng']] = \\\n",
    "    worldcities_df.query('city_ascii == \"Athens\"').values\n",
    "\n",
    "city_game_coords_df.loc[(city_game_coords_df['lat'].isna()) & (city_game_coords_df['City'] == \"Chamonix\"), ['city_ascii', 'lat', 'lng']] = \\\n",
    "    worldcities_df.query('city_ascii == \"Chamonix-Mont-Blanc\"').values\n",
    "\n",
    "city_game_coords_df.loc[(city_game_coords_df['lat'].isna()) & (city_game_coords_df['City'] == \"Garmisch-Partenkirchen\"),\\\n",
    "    ['city_ascii', 'lat', 'lng']] = ['Garmisch-Partenkirchen', 47.492, 11.0931]\n",
    "\n",
    "city_game_coords_df.loc[(city_game_coords_df['lat'].isna()) & (city_game_coords_df['City'] == \"Moskva\"), ['city_ascii', 'lat', 'lng']] = \\\n",
    "    worldcities_df.query('city_ascii == \"Moscow\"').values\n",
    "\n",
    "city_game_coords_df.loc[(city_game_coords_df['lat'].isna()) & (city_game_coords_df['City'] == \"Sankt Moritz\"), ['city_ascii', 'lat', 'lng']] = \\\n",
    "    ['St. Moritz', 46.578, 9.8353]\n",
    "\n",
    "city_game_coords_df.loc[(city_game_coords_df['lat'].isna()) & (city_game_coords_df['City'] == \"Squaw Valley\"), ['city_ascii', 'lat', 'lng']] = \\\n",
    "    ['Palisades Tahoe', 39.208, -120.2132]\n",
    "\n",
    "city_game_coords_df.loc[(city_game_coords_df['lat'].isna()) & (city_game_coords_df['City'] == \"Torino\"), ['city_ascii', 'lat', 'lng']] = \\\n",
    "    worldcities_df.query('city_ascii == \"Turin\"').values"
   ]
  },
  {
   "cell_type": "markdown",
   "metadata": {},
   "source": [
    "もう一度、緯度経度が入っていないものをチェック。"
   ]
  },
  {
   "cell_type": "code",
   "execution_count": null,
   "metadata": {},
   "outputs": [],
   "source": [
    "city_game_coords_df[city_game_coords_df['lat'].isna()]"
   ]
  },
  {
   "cell_type": "markdown",
   "metadata": {},
   "source": [
    "都市別開催数の最大値を確認。"
   ]
  },
  {
   "cell_type": "code",
   "execution_count": null,
   "metadata": {},
   "outputs": [],
   "source": [
    "city_game_coords_df['number_of_times'].max()"
   ]
  },
  {
   "cell_type": "markdown",
   "metadata": {},
   "source": [
    "円の色のバリエーションを用意。"
   ]
  },
  {
   "cell_type": "code",
   "execution_count": null,
   "metadata": {},
   "outputs": [],
   "source": [
    "number_of_times_max = city_game_coords_df['number_of_times'].max()\n",
    "\n",
    "# 夏季用\n",
    "color_reds = sns.color_palette(\"Reds_r\", number_of_times_max).as_hex()\n",
    "# 冬季用\n",
    "color_blues = sns.color_palette(\"Blues_r\", number_of_times_max).as_hex()\n",
    "\n",
    "# 色の確認\n",
    "sns.palplot(color_reds)\n",
    "sns.palplot(color_blues)"
   ]
  },
  {
   "cell_type": "markdown",
   "metadata": {},
   "source": [
    "地図を表示。  \n",
    "地図上のデータからどんなことが読み取れるか？"
   ]
  },
  {
   "cell_type": "code",
   "execution_count": null,
   "metadata": {},
   "outputs": [],
   "source": [
    "map = folium.Map(location=[0,0], zoom_start=2.4)\n",
    "\n",
    "# 古い円をクリックできるよう、新しいものから順に重ねて描画\n",
    "for index, row in city_game_coords_df.sort_values('Year', ascending=False).iterrows():\n",
    "    location = (row['lat'], row['lng'])\n",
    "    radius = row['number_of_athletes'] * 10\n",
    "    color = color_reds[row['number_of_times'] - 1] if row['season'] == 'Summer' else color_blues[row['number_of_times'] - 1]\n",
    "\n",
    "    folium.Circle(location=location,\n",
    "                  radius=radius,\n",
    "                  color=color,\n",
    "                  fill_color=color,\n",
    "                  weight=1.5,\n",
    "                  popup=f\"{row['City']}\\n{row['Year']}\\n{row['season']}\").add_to(map)\n",
    "map"
   ]
  },
  {
   "cell_type": "code",
   "execution_count": null,
   "metadata": {},
   "outputs": [],
   "source": []
  },
  {
   "cell_type": "markdown",
   "metadata": {},
   "source": [
    "### 3. 少しだけ掘り下げた分析をしてみる\n",
    "細かいところは気にせず、大まかな流れを理解すればOK。"
   ]
  },
  {
   "cell_type": "markdown",
   "metadata": {},
   "source": [
    "日本の年代別・種類別メダル数がどのように推移しているかを分析。"
   ]
  },
  {
   "cell_type": "code",
   "execution_count": null,
   "metadata": {},
   "outputs": [],
   "source": [
    "# 日本選手に限定\n",
    "athlete_jpn_df = athlete_events_df.query('NOC == \"JPN\"')\n",
    "\n",
    "# 年、メダルでグループ分け\n",
    "medal_jpn_df = athlete_jpn_df.groupby(['Year', 'Medal']).agg({'ID':'count'}).reset_index()\n",
    "\n",
    "medal_jpn_df.head()"
   ]
  },
  {
   "cell_type": "markdown",
   "metadata": {},
   "source": [
    "折れ線グラフで表示。"
   ]
  },
  {
   "cell_type": "code",
   "execution_count": null,
   "metadata": {},
   "outputs": [],
   "source": [
    "# 銅の色はbrownで代用。\n",
    "sns.lineplot(data=medal_jpn_df, x='Year', y='ID', hue='Medal', hue_order=[\"Gold\", \"Silver\", \"Bronze\"],\n",
    "                palette=[\"gold\", \"silver\", \"brown\"])"
   ]
  },
  {
   "cell_type": "markdown",
   "metadata": {},
   "source": [
    "独自の分析目標を定義して、実際に分析してみよう！"
   ]
  },
  {
   "cell_type": "markdown",
   "metadata": {},
   "source": [
    "〇〇〇〇〇〇〇〇〇〇を分析。"
   ]
  },
  {
   "cell_type": "code",
   "execution_count": null,
   "metadata": {},
   "outputs": [],
   "source": []
  }
 ],
 "metadata": {
  "interpreter": {
   "hash": "d109c1022d0269bfeb1214b0bec2187ee8bc4e794779a7e71ed964fc39a480b6"
  },
  "kernelspec": {
   "display_name": "introduction_to_pandas",
   "language": "python",
   "name": "python3"
  },
  "language_info": {
   "codemirror_mode": {
    "name": "ipython",
    "version": 3
   },
   "file_extension": ".py",
   "mimetype": "text/x-python",
   "name": "python",
   "nbconvert_exporter": "python",
   "pygments_lexer": "ipython3",
   "version": "3.9.7"
  }
 },
 "nbformat": 4,
 "nbformat_minor": 2
}
