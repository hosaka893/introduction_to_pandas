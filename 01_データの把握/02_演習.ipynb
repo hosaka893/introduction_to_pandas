{
 "cells": [
  {
   "cell_type": "markdown",
   "metadata": {},
   "source": [
    "以下のデータを取得して、`data`ディレクトリに配置。\n",
    "\n",
    "__COVID-19 World Vaccination Progress__  \n",
    "URL:  \n",
    "・https://www.kaggle.com/gpreda/covid-world-vaccination-progress    \n",
    "DATA:  \n",
    "・country_vaccinations.csv  \n",
    "・country_vaccinations_by_manufacturer.csv\n",
    "\n",
    "---\n",
    "\n",
    "__Annotated geo-json geometry files for the world__  \n",
    "URL:  \n",
    "・https://github.com/johan/world.geo.json  \n",
    "DATA:  \n",
    "・countries.geo.json"
   ]
  },
  {
   "cell_type": "code",
   "execution_count": null,
   "metadata": {},
   "outputs": [],
   "source": [
    "%matplotlib inline\n",
    "\n",
    "import folium\n",
    "import matplotlib.pyplot as plt\n",
    "import pandas as pd\n",
    "import seaborn as sns"
   ]
  },
  {
   "cell_type": "code",
   "execution_count": null,
   "metadata": {},
   "outputs": [],
   "source": []
  },
  {
   "cell_type": "markdown",
   "metadata": {},
   "source": [
    "### 1. データの概要を掴む\n",
    "とにかく大雑把にデータの特徴を把握しよう。"
   ]
  },
  {
   "cell_type": "markdown",
   "metadata": {},
   "source": [
    "国別ワクチン接種状況のデータをロード。"
   ]
  },
  {
   "cell_type": "code",
   "execution_count": null,
   "metadata": {},
   "outputs": [],
   "source": [
    "country_vaccinations_df = pd.read_csv('data/country_vaccinations.csv')\n",
    "\n",
    "len(country_vaccinations_df)"
   ]
  },
  {
   "cell_type": "markdown",
   "metadata": {},
   "source": [
    "データの中身を確認。  \n",
    "不明な属性があれば、データ取得元で確認する。"
   ]
  },
  {
   "cell_type": "code",
   "execution_count": null,
   "metadata": {},
   "outputs": [],
   "source": []
  },
  {
   "cell_type": "markdown",
   "metadata": {},
   "source": [
    "１行目のみを表示してみる。  \n",
    "以下はどんな属性であるか？  \n",
    "- people_fully_vaccinated\n",
    "- daily_vaccinations_raw\n",
    "- daily_vaccinations\n",
    "- people_vaccinated_per_hundred"
   ]
  },
  {
   "cell_type": "code",
   "execution_count": null,
   "metadata": {},
   "outputs": [],
   "source": []
  },
  {
   "cell_type": "markdown",
   "metadata": {},
   "source": [
    "`source_name`、`source_website`列は今回必要ないので削除。"
   ]
  },
  {
   "cell_type": "code",
   "execution_count": null,
   "metadata": {},
   "outputs": [],
   "source": []
  },
  {
   "cell_type": "markdown",
   "metadata": {},
   "source": [
    "数値属性の集計情報を確認。  \n",
    "何か特徴が読み取れるか？"
   ]
  },
  {
   "cell_type": "code",
   "execution_count": null,
   "metadata": {},
   "outputs": [],
   "source": []
  },
  {
   "cell_type": "markdown",
   "metadata": {},
   "source": [
    "ヒストグラムで表示。  \n",
    "何か特徴が読み取れるか？  \n",
    "※「1e9」は10の9乗の意味。"
   ]
  },
  {
   "cell_type": "code",
   "execution_count": null,
   "metadata": {},
   "outputs": [],
   "source": []
  },
  {
   "cell_type": "markdown",
   "metadata": {},
   "source": [
    "`daily_vaccinations_raw`と`daily_vaccinations`のグラフの違いが気になる。  \n",
    "おそらく欠損値がかなりあるのではないか？\n",
    "\n",
    "そこで列ごとの欠損値の比率を確認してみる。  \n",
    "比率は`pandas.DataFrame.isna()`で出力されたブール値を列ごとに合計し、データ総数で割って計算。"
   ]
  },
  {
   "cell_type": "code",
   "execution_count": null,
   "metadata": {},
   "outputs": [],
   "source": []
  },
  {
   "cell_type": "code",
   "execution_count": null,
   "metadata": {},
   "outputs": [],
   "source": []
  },
  {
   "cell_type": "markdown",
   "metadata": {},
   "source": [
    "### 2. 地図を使ってデータを把握する\n",
    "各国をワクチン２回接種の割合で色分けしてみる。"
   ]
  },
  {
   "cell_type": "markdown",
   "metadata": {},
   "source": [
    "各国ごとの最新のワクチン２回接種割合のデータフレームを作成。"
   ]
  },
  {
   "cell_type": "code",
   "execution_count": null,
   "metadata": {},
   "outputs": [],
   "source": []
  },
  {
   "cell_type": "markdown",
   "metadata": {},
   "source": [
    "棒グラフで分布を確認。  \n",
    "`seaborn.barplot()`でグラフを描画。"
   ]
  },
  {
   "cell_type": "code",
   "execution_count": null,
   "metadata": {},
   "outputs": [],
   "source": []
  },
  {
   "cell_type": "markdown",
   "metadata": {},
   "source": [
    "地図を表示。  \n",
    "地図上のデータからどんなことが読み取れるか？\n",
    "\n",
    "`folium.Choropleth()`でコロプレスマップを描画。   \n",
    "国ごとの区画情報は`countries.geo.json`を利用します。\n",
    "\n",
    "参考： [foliumを使って東京23区ラーメンスコアを可視化する](https://qiita.com/xkent/items/d068fc504c8cef217ca8)"
   ]
  },
  {
   "cell_type": "code",
   "execution_count": null,
   "metadata": {},
   "outputs": [],
   "source": []
  },
  {
   "cell_type": "code",
   "execution_count": null,
   "metadata": {},
   "outputs": [],
   "source": []
  },
  {
   "cell_type": "markdown",
   "metadata": {},
   "source": [
    "### 3. 少しだけ掘り下げた分析をしてみる\n",
    "各製造メーカー製ワクチンの接種状況がどのように推移しているかを分析。"
   ]
  },
  {
   "cell_type": "markdown",
   "metadata": {},
   "source": [
    "製造メーカー別のワクチン接種データをロード。"
   ]
  },
  {
   "cell_type": "code",
   "execution_count": null,
   "metadata": {},
   "outputs": [],
   "source": [
    "country_vaccinations_by_manufacturer_df = pd.read_csv('data/country_vaccinations_by_manufacturer.csv')\n",
    "\n",
    "len(country_vaccinations_by_manufacturer_df)"
   ]
  },
  {
   "cell_type": "markdown",
   "metadata": {},
   "source": [
    "データの中身を確認。"
   ]
  },
  {
   "cell_type": "code",
   "execution_count": null,
   "metadata": {},
   "outputs": [],
   "source": []
  },
  {
   "cell_type": "markdown",
   "metadata": {},
   "source": [
    "欠損値があるか確認。"
   ]
  },
  {
   "cell_type": "code",
   "execution_count": null,
   "metadata": {},
   "outputs": [],
   "source": []
  },
  {
   "cell_type": "markdown",
   "metadata": {},
   "source": [
    "グラフのX軸目盛用に`month`列を追加。"
   ]
  },
  {
   "cell_type": "code",
   "execution_count": null,
   "metadata": {},
   "outputs": [],
   "source": []
  },
  {
   "cell_type": "markdown",
   "metadata": {},
   "source": [
    "ワクチン、月別に接種回数を合計したデータフレームを生成。"
   ]
  },
  {
   "cell_type": "code",
   "execution_count": null,
   "metadata": {},
   "outputs": [],
   "source": []
  },
  {
   "cell_type": "markdown",
   "metadata": {},
   "source": [
    "折れ線グラフを表示。  \n",
    "グラフからどんなことが言えるか？\n",
    "\n",
    "`seaborn.lineplot()`でグラフを描画。"
   ]
  },
  {
   "cell_type": "code",
   "execution_count": null,
   "metadata": {},
   "outputs": [],
   "source": []
  },
  {
   "cell_type": "code",
   "execution_count": null,
   "metadata": {},
   "outputs": [],
   "source": []
  },
  {
   "cell_type": "markdown",
   "metadata": {},
   "source": [
    "### 4. 独自の分析目標を定義して分析してみよう"
   ]
  },
  {
   "cell_type": "markdown",
   "metadata": {},
   "source": [
    "〇〇〇〇〇〇〇〇〇〇を分析。"
   ]
  },
  {
   "cell_type": "code",
   "execution_count": null,
   "metadata": {},
   "outputs": [],
   "source": []
  }
 ],
 "metadata": {
  "interpreter": {
   "hash": "d109c1022d0269bfeb1214b0bec2187ee8bc4e794779a7e71ed964fc39a480b6"
  },
  "kernelspec": {
   "display_name": "introduction_to_pandas",
   "language": "python",
   "name": "python3"
  },
  "language_info": {
   "codemirror_mode": {
    "name": "ipython",
    "version": 3
   },
   "file_extension": ".py",
   "mimetype": "text/x-python",
   "name": "python",
   "nbconvert_exporter": "python",
   "pygments_lexer": "ipython3",
   "version": "3.9.7"
  }
 },
 "nbformat": 4,
 "nbformat_minor": 2
}
