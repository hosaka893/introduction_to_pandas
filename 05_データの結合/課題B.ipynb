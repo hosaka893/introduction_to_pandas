{
 "cells": [
  {
   "cell_type": "markdown",
   "metadata": {},
   "source": [
    "### 0. 事前準備\n",
    "\n",
    "以下のデータを取得して、このノートブックと同じディレクトリにある`data`ディレクトリに配置します。\n",
    "\n",
    "__FAO Fisheries and Aquaculture__  \n",
    "__Global Aquaculture Production__  \n",
    "  URL:  \n",
    "    ・https://www.fao.org/fishery/en/collection/aquaculture  \n",
    "  DATA:  \n",
    "    　取得したZIPファイルを解凍後、`Aquaculture_2021.1.2`フォルダをそのまま`data`ディレクトリに配置します。  \n",
    "    ・Aquaculture_2021.1.2/AQUACULTURE_QUANTITY.csv  \n",
    "    ・Aquaculture_2021.1.2/CL_FI_COUNTRY_GROUPS.csv  \n",
    "    ・Aquaculture_2021.1.2/CL_FI_SPECIES_GROUPS.csv  \n",
    "  データの取得方法:  \n",
    "    「Aquaculture Production (CSV raw data)」のリンクをクリックします。"
   ]
  },
  {
   "cell_type": "code",
   "execution_count": null,
   "metadata": {},
   "outputs": [],
   "source": [
    "%matplotlib inline\n",
    "\n",
    "import matplotlib.pyplot as plt\n",
    "import matplotlib.ticker as ticker\n",
    "import numpy as np\n",
    "import pandas as pd\n",
    "import seaborn as sns"
   ]
  },
  {
   "cell_type": "code",
   "execution_count": null,
   "metadata": {},
   "outputs": [],
   "source": []
  },
  {
   "cell_type": "markdown",
   "metadata": {},
   "source": [
    "### 1. データの概要を掴む\n",
    "\n",
    "3つのデータをファイルからロードします。\n",
    "\n",
    "養殖業生産量データから始めます。"
   ]
  },
  {
   "cell_type": "code",
   "execution_count": null,
   "metadata": {},
   "outputs": [],
   "source": [
    "aquaculture_quantity_df = pd.read_csv('data/Aquaculture_2021.1.2/AQUACULTURE_QUANTITY.csv')\n",
    "\n",
    "print(f\"{len(aquaculture_quantity_df):,}件\")"
   ]
  },
  {
   "cell_type": "markdown",
   "metadata": {},
   "source": [
    "中身を確認。"
   ]
  },
  {
   "cell_type": "code",
   "execution_count": null,
   "metadata": {
    "scrolled": true
   },
   "outputs": [],
   "source": [
    "aquaculture_quantity_df.head()"
   ]
  },
  {
   "cell_type": "markdown",
   "metadata": {},
   "source": [
    "`info()`で各列の状況を確認。\n",
    "\n",
    "不明な列はありますか？\n",
    "\n",
    "今回のデータの定義はダウンロードしたファイル「DSD_FI_AQUACULTURE.xlsx」にすべて記載されています。  \n",
    "※「DSD」とは「data set definition」の意味です。"
   ]
  },
  {
   "cell_type": "code",
   "execution_count": null,
   "metadata": {
    "scrolled": true
   },
   "outputs": [],
   "source": [
    "aquaculture_quantity_df.info()"
   ]
  },
  {
   "cell_type": "markdown",
   "metadata": {},
   "source": [
    "国・グループのデータをロードします。"
   ]
  },
  {
   "cell_type": "code",
   "execution_count": null,
   "metadata": {},
   "outputs": [],
   "source": [
    "country_group_df = pd.read_csv('data/Aquaculture_2021.1.2/CL_FI_COUNTRY_GROUPS.csv')\n",
    "\n",
    "print(f\"{len(country_group_df):,}件\")"
   ]
  },
  {
   "cell_type": "markdown",
   "metadata": {},
   "source": [
    "中身を確認。"
   ]
  },
  {
   "cell_type": "code",
   "execution_count": null,
   "metadata": {},
   "outputs": [],
   "source": [
    "country_group_df.head()"
   ]
  },
  {
   "cell_type": "markdown",
   "metadata": {},
   "source": [
    "`info()`で各列の状況を確認。\n",
    "\n",
    "不明な列はありますか？"
   ]
  },
  {
   "cell_type": "code",
   "execution_count": null,
   "metadata": {},
   "outputs": [],
   "source": [
    "country_group_df.info()"
   ]
  },
  {
   "cell_type": "markdown",
   "metadata": {},
   "source": [
    "英語以外の言語の列は使用しないので削除します。"
   ]
  },
  {
   "cell_type": "code",
   "execution_count": null,
   "metadata": {},
   "outputs": [],
   "source": [
    "country_group_df = country_group_df.filter(regex=\"^(?!.*_(Fr|Es|Ar|Cn|Ru)$)\", axis=1)\n",
    "\n",
    "country_group_df.info()"
   ]
  },
  {
   "cell_type": "markdown",
   "metadata": {},
   "source": [
    "中身を確認。"
   ]
  },
  {
   "cell_type": "code",
   "execution_count": null,
   "metadata": {},
   "outputs": [],
   "source": [
    "country_group_df.head()"
   ]
  },
  {
   "cell_type": "markdown",
   "metadata": {},
   "source": [
    "魚の種類のデータをロードします。"
   ]
  },
  {
   "cell_type": "code",
   "execution_count": null,
   "metadata": {},
   "outputs": [],
   "source": [
    "species_group_df = pd.read_csv('data/Aquaculture_2021.1.2/CL_FI_SPECIES_GROUPS.csv')\n",
    "\n",
    "print(f\"{len(species_group_df):,}件\")"
   ]
  },
  {
   "cell_type": "markdown",
   "metadata": {},
   "source": [
    "中身を確認。\n",
    "\n",
    "先頭行の「Lampreys」(lampreeの複数形)、「nei」とは一体何でしょうか？\n",
    "\n",
    "参考）  \n",
    "__What does NEI stand for?__  \n",
    "https://www.abbreviations.com/NEI"
   ]
  },
  {
   "cell_type": "code",
   "execution_count": null,
   "metadata": {},
   "outputs": [],
   "source": [
    "species_group_df.head()"
   ]
  },
  {
   "cell_type": "markdown",
   "metadata": {},
   "source": [
    "`info()`で各列の状況を確認。\n",
    "\n",
    "不明な列はありますか？"
   ]
  },
  {
   "cell_type": "code",
   "execution_count": null,
   "metadata": {},
   "outputs": [],
   "source": [
    "species_group_df.info()"
   ]
  },
  {
   "cell_type": "markdown",
   "metadata": {},
   "source": [
    "英語以外の言語の列は使用しないので削除します。"
   ]
  },
  {
   "cell_type": "code",
   "execution_count": null,
   "metadata": {},
   "outputs": [],
   "source": [
    "species_group_df = species_group_df.filter(regex=\"^(?!.*_(Fr|Es|Ar|Cn|Ru)$)\", axis=1)\n",
    "\n",
    "species_group_df.info()"
   ]
  },
  {
   "cell_type": "code",
   "execution_count": null,
   "metadata": {},
   "outputs": [],
   "source": []
  },
  {
   "cell_type": "markdown",
   "metadata": {},
   "source": [
    "### 2. キーを使ったデータの結合\n",
    "\n",
    "２つのデータフレームをキーを指定して結合していきます。"
   ]
  },
  {
   "cell_type": "markdown",
   "metadata": {},
   "source": [
    "生産量と国・グループのデータフレームを以下の方法で結合します。\n",
    "\n",
    "- 両データフレームのキーをそれぞれ指定する。\n",
    "- 生産量の全データを維持したいので左結合とする。  \n",
    "- 結合後は国・グループ側のキーを削除する。"
   ]
  },
  {
   "cell_type": "code",
   "execution_count": null,
   "metadata": {
    "scrolled": true
   },
   "outputs": [],
   "source": [
    "quantity_country_df = pd.merge(aquaculture_quantity_df,\n",
    "                               country_group_df,\n",
    "                               left_on='COUNTRY.UN_CODE',\n",
    "                               right_on='UN_Code',\n",
    "                               how=\"left\")\n",
    "\n",
    "quantity_country_df = quantity_country_df.drop(columns='UN_Code')\n",
    "\n",
    "quantity_country_df.head()"
   ]
  },
  {
   "cell_type": "markdown",
   "metadata": {},
   "source": [
    "`info()`で各列の状況を確認。"
   ]
  },
  {
   "cell_type": "code",
   "execution_count": null,
   "metadata": {},
   "outputs": [],
   "source": [
    "quantity_country_df.info()"
   ]
  },
  {
   "cell_type": "markdown",
   "metadata": {},
   "source": [
    "`Identifier`と2つの`Name`が何の識別子と名前か分からなくなってしまっているので、各列名を先頭に`COUNTRY.`を付け加えて変更します。"
   ]
  },
  {
   "cell_type": "code",
   "execution_count": null,
   "metadata": {},
   "outputs": [],
   "source": [
    "quantity_country_df = quantity_country_df.rename(columns={\n",
    "                        'Identifier':'COUNTRY.Identifier',\n",
    "                        'Name_En':'COUNTRY.Name_En',\n",
    "                        'Official_Name_En':'COUNTRY.Official_Name_En'})\n",
    "\n",
    "quantity_country_df.info()"
   ]
  },
  {
   "cell_type": "markdown",
   "metadata": {},
   "source": [
    "次に魚の種類のデータフレームを以下の方法で結合します。\n",
    "\n",
    "- 両データフレームのキーをそれぞれ指定する。\n",
    "- 生産量の全データを維持したいので左結合とする。  \n",
    "- 結合後は魚の種類側のキーを削除する。"
   ]
  },
  {
   "cell_type": "code",
   "execution_count": null,
   "metadata": {},
   "outputs": [],
   "source": [
    "quantity_country_species_df = pd.merge(quantity_country_df, species_group_df,\n",
    "                                       left_on='SPECIES.ALPHA_3_CODE', right_on='3A_Code', how=\"left\")\n",
    "\n",
    "quantity_country_species_df = quantity_country_species_df.drop(columns='3A_Code')\n",
    "\n",
    "quantity_country_species_df.head()"
   ]
  },
  {
   "cell_type": "markdown",
   "metadata": {},
   "source": [
    "`info()`で各列の状況を確認。"
   ]
  },
  {
   "cell_type": "code",
   "execution_count": null,
   "metadata": {},
   "outputs": [],
   "source": [
    "quantity_country_species_df.info()"
   ]
  },
  {
   "cell_type": "markdown",
   "metadata": {},
   "source": [
    "先ほどと同じように、追加された`Identifier`と2つの`Name`の先頭に`SPECIES.`を付け加えて変更します。"
   ]
  },
  {
   "cell_type": "code",
   "execution_count": null,
   "metadata": {},
   "outputs": [],
   "source": [
    "quantity_country_species_df = quantity_country_species_df.rename(columns={\n",
    "                                'Identifier':'SPECIES.Identifier',\n",
    "                                'Name_En':'SPECIES.Name_En',\n",
    "                                'Scientific_Name':'SPECIES.Scientific_Name'})\n",
    "\n",
    "quantity_country_species_df.info()"
   ]
  },
  {
   "cell_type": "markdown",
   "metadata": {},
   "source": [
    "これでやっと分析できる状態となりました。  \n",
    "手始めに世界の養殖業の生産量の推移を棒グラフで表示してみましょう。\n",
    "\n",
    "まずは年ごとにグループ化し、生産量の合計を計算したデータフレームを作成します。"
   ]
  },
  {
   "cell_type": "code",
   "execution_count": null,
   "metadata": {},
   "outputs": [],
   "source": [
    "world_quantity_groupby_year = quantity_country_species_df.groupby('PERIOD')['VALUE'].sum()\n",
    "\n",
    "world_quantity_groupby_year = world_quantity_groupby_year.reset_index()\n",
    "\n",
    "world_quantity_groupby_year"
   ]
  },
  {
   "cell_type": "markdown",
   "metadata": {},
   "source": [
    "グラフを表示します。\n",
    "\n",
    "どんなことが読み取れますか？"
   ]
  },
  {
   "cell_type": "code",
   "execution_count": null,
   "metadata": {
    "scrolled": false
   },
   "outputs": [],
   "source": [
    "sns.set(style='white', font=['MS Gothic', 'Hiragino Sans', 'TakaoPGothic']) # 日本語フォントは設定が必要\n",
    "\n",
    "plt.figure(figsize=(20,10))\n",
    "ax = sns.barplot(x='PERIOD', y='VALUE', data=world_quantity_groupby_year)\n",
    "\n",
    "ax.set_xlabel(\"年\")\n",
    "ax.xaxis.set_major_locator(ticker.MultipleLocator(5)) # 5年刻み\n",
    "\n",
    "ax.set_ylabel(\"生産量（万トン）\");\n",
    "ax.yaxis.set_major_formatter(ticker.FuncFormatter(lambda y, pos: '{:,.0f}'.format(y/10_000))) # 万単位"
   ]
  },
  {
   "cell_type": "code",
   "execution_count": null,
   "metadata": {},
   "outputs": [],
   "source": []
  },
  {
   "cell_type": "markdown",
   "metadata": {},
   "source": [
    "### 3. データフレームを縦に連結する"
   ]
  },
  {
   "cell_type": "markdown",
   "metadata": {},
   "source": [
    "今度は国別の養殖業の生産量の推移を積み上げ折れ線グラフで表示してみましょう。  \n",
    "最近年での上位の国とそれ以外の国を1つにまとめたものを対象とします。\n",
    "\n",
    "まず最新年を取得します。"
   ]
  },
  {
   "cell_type": "code",
   "execution_count": null,
   "metadata": {},
   "outputs": [],
   "source": [
    "year_max = quantity_country_species_df['PERIOD'].max()\n",
    "\n",
    "year_max"
   ]
  },
  {
   "cell_type": "markdown",
   "metadata": {},
   "source": [
    "まず上位20位の国を取得してみます。"
   ]
  },
  {
   "cell_type": "code",
   "execution_count": null,
   "metadata": {},
   "outputs": [],
   "source": [
    "top20_countries_in_2019_df = quantity_country_species_df[quantity_country_species_df['PERIOD'] == year_max] \\\n",
    "                            .groupby('COUNTRY.Name_En')['VALUE'].sum() \\\n",
    "                            .reset_index() \\\n",
    "                            .sort_values('VALUE', ascending=False)[:20]\n",
    "\n",
    "top20_countries_in_2019_df"
   ]
  },
  {
   "cell_type": "markdown",
   "metadata": {},
   "source": [
    "日本が13位にいるのと、14位から数字が大きく下がるので、今回は上位13位までを対象にします。\n",
    "\n",
    "上位13位の国名のリストを取得します。"
   ]
  },
  {
   "cell_type": "code",
   "execution_count": null,
   "metadata": {},
   "outputs": [],
   "source": [
    "top13_countries = top20_countries_in_2019_df[:13]['COUNTRY.Name_En'].tolist()\n",
    "\n",
    "top13_countries"
   ]
  },
  {
   "cell_type": "markdown",
   "metadata": {},
   "source": [
    "生産量を13ヶ国に絞り、国と年でグループ化して各年の生産量を計算した`Series`オブジェクトを作成します。"
   ]
  },
  {
   "cell_type": "code",
   "execution_count": null,
   "metadata": {},
   "outputs": [],
   "source": [
    "top13_quantity_groupby_country_year_s = quantity_country_species_df[ \\\n",
    "                              quantity_country_species_df['COUNTRY.Name_En'].isin(top13_countries)] \\\n",
    "                              .groupby(['COUNTRY.Name_En', 'PERIOD'])['VALUE'] \\\n",
    "                              .sum()\n",
    "\n",
    "top13_quantity_groupby_country_year_s"
   ]
  },
  {
   "cell_type": "markdown",
   "metadata": {},
   "source": [
    "次に`その他`の年ごとの生産量を計算した`Series`オブジェクトを作成します。\n",
    "\n",
    "世界生産量から13ヶ国合計の生産量を引いて計算できますので、先に年ごとの世界生産量を格納した`Series`オブジェクトを作成します。"
   ]
  },
  {
   "cell_type": "code",
   "execution_count": null,
   "metadata": {},
   "outputs": [],
   "source": [
    "world_quantity_groupby_year_s = world_quantity_groupby_year.set_index('PERIOD')['VALUE']\n",
    "\n",
    "world_quantity_groupby_year_s"
   ]
  },
  {
   "cell_type": "markdown",
   "metadata": {},
   "source": [
    "次に、年ごとの13ヶ国合計の生産量を格納した`Series`オブジェクトを作成します。"
   ]
  },
  {
   "cell_type": "code",
   "execution_count": null,
   "metadata": {},
   "outputs": [],
   "source": [
    "top13_quantity_groupby_year_s = top13_quantity_groupby_country_year_s.groupby('PERIOD').sum()\n",
    "\n",
    "top13_quantity_groupby_year_s"
   ]
  },
  {
   "cell_type": "markdown",
   "metadata": {},
   "source": [
    "作成した年ごとの世界生産量を格納した`Series`から、13ヶ国の年ごとの生産量を格納した`Series`を引きます。"
   ]
  },
  {
   "cell_type": "code",
   "execution_count": null,
   "metadata": {},
   "outputs": [],
   "source": [
    "the_others_quantity_groupby_year_s = world_quantity_groupby_year_s - top13_quantity_groupby_year_s\n",
    "\n",
    "the_others_quantity_groupby_year_s"
   ]
  },
  {
   "cell_type": "markdown",
   "metadata": {},
   "source": [
    "作成した`Series`オブジェクトを13ヶ国の`Series`オブジェクトを結合しますので、同じ階層型インデックス(multiindex)を持つように変形します。\n",
    "\n",
    "インデックスを一旦リセットしてから国名の列を追加し、改めて２つの列をインデックスにしましょう。\n",
    "\n",
    "国名は`その他`にします。"
   ]
  },
  {
   "cell_type": "code",
   "execution_count": null,
   "metadata": {
    "scrolled": false
   },
   "outputs": [],
   "source": [
    "the_others_quantity_groupby_year_s = the_others_quantity_groupby_year_s.reset_index()\n",
    "\n",
    "the_others_quantity_groupby_year_s['COUNTRY.Name_En'] = 'その他'\n",
    "\n",
    "the_others_quantity_groupby_year_s = the_others_quantity_groupby_year_s \\\n",
    "                                    .set_index(['COUNTRY.Name_En',  'PERIOD'])['VALUE']\n",
    "\n",
    "the_others_quantity_groupby_year_s"
   ]
  },
  {
   "cell_type": "markdown",
   "metadata": {},
   "source": [
    "13ヶ国のSeriesオブジェクトと`その他`のSeriesオブジェクトを`concat()`で縦に連結します。"
   ]
  },
  {
   "cell_type": "code",
   "execution_count": null,
   "metadata": {},
   "outputs": [],
   "source": [
    "top13_the_others_quantity_s = pd.concat(\n",
    "                                [top13_quantity_groupby_country_year_s, the_others_quantity_groupby_year_s])\n",
    "\n",
    "top13_the_others_quantity_s"
   ]
  },
  {
   "cell_type": "markdown",
   "metadata": {},
   "source": [
    "最後に、年に抜けがないか確認しましょう。  \n",
    "データに不備があったり、1950年以降に誕生した国がある場合はデータ数が異なってしまいます。\n",
    "\n",
    "生成した`Series`オブジェクトを国ごとにグループ化し、各国の年の件数、最大値、最小値を表示してみます。"
   ]
  },
  {
   "cell_type": "code",
   "execution_count": null,
   "metadata": {
    "scrolled": false
   },
   "outputs": [],
   "source": [
    "top13_the_others_quantity_s.reset_index('PERIOD') \\\n",
    "                           .groupby('COUNTRY.Name_En')['PERIOD'] \\\n",
    "                           .agg(['size', 'min', 'max'])"
   ]
  },
  {
   "cell_type": "markdown",
   "metadata": {},
   "source": [
    "問題なさそうなので、Seriesオブジェクトのインデックスを外してデータフレームにします。\n",
    "\n",
    "これで積み上げ折れ線グラフに必要なデータが揃いました。"
   ]
  },
  {
   "cell_type": "code",
   "execution_count": null,
   "metadata": {},
   "outputs": [],
   "source": [
    "top13_the_others_quantity_df = top13_the_others_quantity_s.reset_index()\n",
    "\n",
    "top13_the_others_quantity_df"
   ]
  },
  {
   "cell_type": "markdown",
   "metadata": {},
   "source": [
    "`seaborn`には積み上げ折れ線グラフはありませんので、`matplotlib`の`stackplot()`を利用します。\n",
    "\n",
    "データフレームを変形して、stackplotの引数として必要な以下の３つのリストを用意する必要があります。\n",
    "\n",
    "1. 年のリスト\n",
    "2. （国の数）X（年の数）の二次元の生産量のリスト\n",
    "3. ラベル用の国名のリスト\n",
    "\n",
    "参考）  \n",
    "__matplotlib.pyplot.stackplot__  \n",
    "https://matplotlib.org/stable/api/_as_gen/matplotlib.pyplot.stackplot.html"
   ]
  },
  {
   "cell_type": "markdown",
   "metadata": {},
   "source": [
    "まずは年のリストを取得します。"
   ]
  },
  {
   "cell_type": "code",
   "execution_count": null,
   "metadata": {},
   "outputs": [],
   "source": [
    "years = top13_the_others_quantity_df['PERIOD'].unique()\n",
    "\n",
    "print(f\"年の件数: {len(years)}件\")\n",
    "\n",
    "years"
   ]
  },
  {
   "cell_type": "markdown",
   "metadata": {},
   "source": [
    "次は二次元の生産量のリストを取得したいところなのですが、データフレームを見ると生産量の多い順であった国の順番が狂ってしまっています。  \n",
    "先にラベル用の国名のリストを生成し、それに合わせて順序を整えるようにします。\n",
    "\n",
    "先ほど作成した上位13ヶ国の国名のリストに`その他`を加え、ラベル用の国名リストを生成します。"
   ]
  },
  {
   "cell_type": "code",
   "execution_count": null,
   "metadata": {},
   "outputs": [],
   "source": [
    "top13_countries_and_the_others = top13_countries + [\"その他\"]\n",
    "\n",
    "top13_countries_and_the_others"
   ]
  },
  {
   "cell_type": "markdown",
   "metadata": {},
   "source": [
    "データフレームを国名でソートできるよう`COUNTRY.Name_En`のデータ型を`category`とし、カテゴリとして先ほどの国名リストを設定します。"
   ]
  },
  {
   "cell_type": "code",
   "execution_count": null,
   "metadata": {},
   "outputs": [],
   "source": [
    "top13_the_others_quantity_df['COUNTRY.Name_En']= \\\n",
    "    top13_the_others_quantity_df['COUNTRY.Name_En'].astype('category')\n",
    "\n",
    "top13_the_others_quantity_df['COUNTRY.Name_En'] = \\\n",
    "    top13_the_others_quantity_df['COUNTRY.Name_En'].cat.reorder_categories(top13_countries_and_the_others)\n",
    "\n",
    "top13_the_others_quantity_df['COUNTRY.Name_En']"
   ]
  },
  {
   "cell_type": "markdown",
   "metadata": {},
   "source": [
    "ソートする準備が調ったので、データフレームを国名、年でソートします。"
   ]
  },
  {
   "cell_type": "code",
   "execution_count": null,
   "metadata": {},
   "outputs": [],
   "source": [
    "top13_the_others_quantity_df = top13_the_others_quantity_df.sort_values(['COUNTRY.Name_En', 'PERIOD'])\n",
    "\n",
    "top13_the_others_quantity_df"
   ]
  },
  {
   "cell_type": "markdown",
   "metadata": {},
   "source": [
    "それでは二次元の生産量のリストを取得します。\n",
    "\n",
    "国でグループ化してからグループごとに`apply()`で生産量をリスト化し、最後にそれらを１つのリストにします。"
   ]
  },
  {
   "cell_type": "code",
   "execution_count": null,
   "metadata": {
    "scrolled": false
   },
   "outputs": [],
   "source": [
    "values = top13_the_others_quantity_df.groupby('COUNTRY.Name_En')['VALUE'].apply(list).tolist()\n",
    "\n",
    "print(f\"各次元の要素数: {np.shape(values)}\")\n",
    "\n",
    "# 先頭2行だけ表示\n",
    "values[:2]"
   ]
  },
  {
   "cell_type": "markdown",
   "metadata": {},
   "source": [
    "ではグラフを表示しましょう。\n",
    "\n",
    "どんなことが読み取れますか？"
   ]
  },
  {
   "cell_type": "code",
   "execution_count": null,
   "metadata": {},
   "outputs": [],
   "source": [
    "sns.set_palette('pastel')\n",
    "\n",
    "fig, ax = plt.subplots(figsize=(20,10))\n",
    "plt.stackplot(years, values, labels=top13_countries_and_the_others)\n",
    "\n",
    "ax.set_xlabel(\"年\")\n",
    "\n",
    "ax.set_ylabel(\"生産量（万トン）\");\n",
    "ax.yaxis.set_major_formatter(ticker.FuncFormatter(lambda y, pos: '{:,.0f}'.format(y/10_000))) # 万単位\n",
    "\n",
    "handles, labels = ax.get_legend_handles_labels()\n",
    "ax.legend(handles[::-1], labels[::-1], loc=\"upper left\", bbox_to_anchor=(1.012, 1.014)) # ラベルの順序を逆さにする"
   ]
  },
  {
   "cell_type": "code",
   "execution_count": null,
   "metadata": {},
   "outputs": [],
   "source": []
  },
  {
   "cell_type": "markdown",
   "metadata": {},
   "source": [
    "### 4. 過去・未来のデータとの結合\n",
    "\n",
    "ここでは増加率と移動平均を取得する目的で、過去および未来のデータとの結合をおこないます。"
   ]
  },
  {
   "cell_type": "markdown",
   "metadata": {},
   "source": [
    "#### 4-1. 過去の1件前のデータを取得"
   ]
  },
  {
   "cell_type": "markdown",
   "metadata": {},
   "source": [
    "先ほどの国別の養殖業の生産量のグラフでは中国以外の増減がやや読みにくいので、各国の増加率の折れ線グラフを表示します。\n",
    "\n",
    "グラフ用のデータフレームの作成手順は以下のようになります。\n",
    "1. 先ほどのグラフ用のデータフレームに各国の各年ごとに前年の生産量の値を新たな列`VALUE_previous_year`に格納する。\n",
    "2. 前年・当年の生産量から増加率を計算し、新たな列`increase_rate`に格納する。"
   ]
  },
  {
   "cell_type": "markdown",
   "metadata": {},
   "source": [
    "まずデータを年度の昇順にソートします。\n",
    "\n",
    "普通にソートしても良いのですが、必要最低限のソートになるよう、グループ単位でソートします。"
   ]
  },
  {
   "cell_type": "code",
   "execution_count": null,
   "metadata": {
    "scrolled": false
   },
   "outputs": [],
   "source": [
    "top13_the_others_quantity_df_sorted = top13_the_others_quantity_df \\\n",
    "                                       .groupby('COUNTRY.Name_En') \\\n",
    "                                       .apply(lambda g: g.sort_values('PERIOD'))\n",
    "\n",
    "top13_the_others_quantity_df_sorted"
   ]
  },
  {
   "cell_type": "markdown",
   "metadata": {},
   "source": [
    "次に`groupby()`で魚種でグループ化した`DataFrameGroupBy`オブジェクトを作成後、`shift()`を実行します。  \n",
    "\n",
    "前年の生産量を求めたいので、`shift()`の引数に`periods=1`を指定します。"
   ]
  },
  {
   "cell_type": "code",
   "execution_count": null,
   "metadata": {},
   "outputs": [],
   "source": [
    "top13_the_others_previous_year_s = top13_the_others_quantity_df_sorted \\\n",
    "                          .groupby('COUNTRY.Name_En')['VALUE'] \\\n",
    "                          .shift(periods=1)\n",
    "\n",
    "top13_the_others_previous_year_s"
   ]
  },
  {
   "cell_type": "markdown",
   "metadata": {},
   "source": [
    "作成した`Series`を元のデータフレームに`VALUE_previous_year`列として加えます。"
   ]
  },
  {
   "cell_type": "code",
   "execution_count": null,
   "metadata": {},
   "outputs": [],
   "source": [
    "top13_the_others_quantity_df['VALUE_previous_year'] = top13_the_others_previous_year_s\n",
    "\n",
    "top13_the_others_quantity_df"
   ]
  },
  {
   "cell_type": "markdown",
   "metadata": {},
   "source": [
    "さらに、前年・当年の生産量から増加率を計算し、新たな列`increase_rate`に格納します。\n",
    "\n",
    "増加率は小数点第一で丸めます。"
   ]
  },
  {
   "cell_type": "code",
   "execution_count": null,
   "metadata": {},
   "outputs": [],
   "source": [
    "top13_the_others_quantity_df['increase_rate'] = round( \\\n",
    " (top13_the_others_quantity_df['VALUE'] / top13_the_others_quantity_df['VALUE_previous_year'] - 1) * 100)\n",
    "\n",
    "top13_the_others_quantity_df"
   ]
  },
  {
   "cell_type": "markdown",
   "metadata": {},
   "source": [
    "念のため、ミャンマーのデータで移動平均が正しく計算されているか確認します。"
   ]
  },
  {
   "cell_type": "code",
   "execution_count": null,
   "metadata": {
    "scrolled": false
   },
   "outputs": [],
   "source": [
    "top13_the_others_quantity_df.query('`COUNTRY.Name_En` == \"Myanmar\"') # 「.」が含まれているのでバッククォートで囲む"
   ]
  },
  {
   "cell_type": "markdown",
   "metadata": {},
   "source": [
    "計算は合っていそうですが、`inf`があります。  \n",
    "何が原因でしょうか？\n",
    "\n",
    "`inf`がいくつあるのか確認します。"
   ]
  },
  {
   "cell_type": "code",
   "execution_count": null,
   "metadata": {},
   "outputs": [],
   "source": [
    "np.isinf(top13_the_others_quantity_df['increase_rate']).sum()"
   ]
  },
  {
   "cell_type": "markdown",
   "metadata": {},
   "source": [
    "`inf`を`NaN`に置き換えてしまってもいいのですが、そもそもの計算の仕方が悪かったので、もう一度やり直します。"
   ]
  },
  {
   "cell_type": "code",
   "execution_count": null,
   "metadata": {},
   "outputs": [],
   "source": [
    "top13_the_others_quantity_df['increase_rate'] = top13_the_others_quantity_df.apply( \\\n",
    "    lambda x: round((x['VALUE'] / x['VALUE_previous_year'] - 1) * 100, 1) \\\n",
    "                if x['VALUE_previous_year'] > 0 else np.NaN, axis=1)\n",
    "\n",
    "top13_the_others_quantity_df"
   ]
  },
  {
   "cell_type": "markdown",
   "metadata": {},
   "source": [
    "もう一度`inf`がいくつあるのか確認します。"
   ]
  },
  {
   "cell_type": "code",
   "execution_count": null,
   "metadata": {},
   "outputs": [],
   "source": [
    "np.isinf(top13_the_others_quantity_df['increase_rate']).sum()"
   ]
  },
  {
   "cell_type": "markdown",
   "metadata": {},
   "source": [
    "それでは増加率の折れ線グラフを表示します。\n",
    "\n",
    "どんなことが読み取れますか？"
   ]
  },
  {
   "cell_type": "code",
   "execution_count": null,
   "metadata": {},
   "outputs": [],
   "source": [
    "top13_the_others_quantity_df[top13_the_others_quantity_df['COUNTRY.Name_En'] == 'China'].head(50)"
   ]
  },
  {
   "cell_type": "code",
   "execution_count": null,
   "metadata": {
    "scrolled": false
   },
   "outputs": [],
   "source": [
    "### チャレンジしてみましょう！！ ###"
   ]
  },
  {
   "cell_type": "markdown",
   "metadata": {},
   "source": [
    "かなり突出した数値が幾つかあります。  \n",
    "データを確認してみます。"
   ]
  },
  {
   "cell_type": "code",
   "execution_count": null,
   "metadata": {},
   "outputs": [],
   "source": [
    "top13_the_others_quantity_df[top13_the_others_quantity_df['increase_rate'] > 100]"
   ]
  },
  {
   "cell_type": "markdown",
   "metadata": {},
   "source": [
    "突出した数値となった原因について、簡単に調査してみましょう。"
   ]
  },
  {
   "cell_type": "code",
   "execution_count": null,
   "metadata": {},
   "outputs": [],
   "source": [
    "### チャレンジしてみましょう！！ ###"
   ]
  },
  {
   "cell_type": "markdown",
   "metadata": {},
   "source": [
    "ここからは魚種別の生産量の推移を分析していきます。\n",
    "\n",
    "魚種の分類方法がいくつかあるようですが、今回はISSCAAP（水棲動植物国際標準統計分類）で分類します。\n",
    "\n",
    "まずは上位20位の魚種を取得します。"
   ]
  },
  {
   "cell_type": "code",
   "execution_count": null,
   "metadata": {},
   "outputs": [],
   "source": [
    "top20_species_s = quantity_country_species_df[quantity_country_species_df['PERIOD'] == year_max] \\\n",
    "                  .groupby('ISSCAAP_Group_En')['VALUE'].sum().sort_values(ascending=False)[:20]\n",
    "\n",
    "top20_species_s"
   ]
  },
  {
   "cell_type": "markdown",
   "metadata": {},
   "source": [
    "11位以降は数字が大きく下がることもあり、今回は上位10位までを対象とします。  \n",
    "ただし「Miscellaneous freshwater fishes」「Freshwater crustaceans」は特定の種ではないので、この２つを除いた8種を対象とします。\n",
    "\n",
    "上位8位の国名のリストを取得します。"
   ]
  },
  {
   "cell_type": "code",
   "execution_count": null,
   "metadata": {},
   "outputs": [],
   "source": [
    "top10_species_s = top20_species_s[:10]\n",
    "\n",
    "top8_species_s = top10_species_s.loc[\n",
    "    ~top10_species_s.index.isin(['Miscellaneous freshwater fishes', 'Freshwater crustaceans'])]\n",
    "\n",
    "top8_species = top8_species_s.index.tolist()\n",
    "\n",
    "top8_species"
   ]
  },
  {
   "cell_type": "markdown",
   "metadata": {},
   "source": [
    "生産量を8種に絞り、種類と年でグループ化して各年の生産量を計算した`Series`オブジェクトを作成します。"
   ]
  },
  {
   "cell_type": "code",
   "execution_count": null,
   "metadata": {},
   "outputs": [],
   "source": [
    "top8_quantity_groupby_year_s = quantity_country_species_df[ \\\n",
    "                                quantity_country_species_df['ISSCAAP_Group_En'].isin(top8_species)] \\\n",
    "                                .groupby(['ISSCAAP_Group_En', 'PERIOD'])['VALUE'] \\\n",
    "                                .sum()\n",
    "\n",
    "top8_quantity_groupby_year_s"
   ]
  },
  {
   "cell_type": "markdown",
   "metadata": {},
   "source": [
    "年に抜けがないか確認しましょう。\n",
    "\n",
    "生成した`Series`オブジェクトを国ごとにグループ化し、各国の年の件数、最大値、最小値を表示してみます。"
   ]
  },
  {
   "cell_type": "code",
   "execution_count": null,
   "metadata": {
    "scrolled": true
   },
   "outputs": [],
   "source": [
    "top8_quantity_groupby_year_s.reset_index('PERIOD') \\\n",
    "                            .groupby('ISSCAAP_Group_En')['PERIOD'] \\\n",
    "                            .agg(['size', 'min', 'max'])"
   ]
  },
  {
   "cell_type": "markdown",
   "metadata": {},
   "source": [
    "グラフ表示の関数の引数に合わせるため、インデックスをすべてリセットします。"
   ]
  },
  {
   "cell_type": "code",
   "execution_count": null,
   "metadata": {},
   "outputs": [],
   "source": [
    "top8_quantity_df = top8_quantity_groupby_year_s.reset_index()\n",
    "\n",
    "top8_quantity_df"
   ]
  },
  {
   "cell_type": "markdown",
   "metadata": {},
   "source": [
    "英語の魚名はあまり馴染みなく分かりにくいので、対応する日本語と中国語の訳を用意しました。   \n",
    "英語・中国語・日本語のデータフレームを作成し、それを8種の生産量データフレームに結合します。\n",
    "\n",
    "|SPECIES.Name_En|SPECIES.Name_Cn|SPECIES.Name_Jp|\n",
    "|:---|:---|:---|\n",
    "|Carps, barbels and other cyprinids|鲤鱼・鲫鱼|コイ・フナ類|\n",
    "|Red seaweeds|红藻|紅藻類（ノリ等）|\n",
    "|Brown seaweeds|褐藻|褐藻類（コンブ等）|\n",
    "|Shrimps, prawns|虾|エビ類|\n",
    "|Tilapias and other cichlids|罗非鱼|ティラピア類|\n",
    "|Oysters|牡蛎|カキ類|\n",
    "|Clams, cockles, arkshells|蛤仔・蛤蜊|アサリ・ハマグリ類|\n",
    "|Salmons, trouts, smelts|鲑鱼・鳟鱼|サケ・マス類|\n",
    "\n",
    "まず英語・中国語・日本語のデータフレームを作成します。"
   ]
  },
  {
   "cell_type": "code",
   "execution_count": null,
   "metadata": {},
   "outputs": [],
   "source": [
    "isscaap_group_df = pd.DataFrame([\n",
    "        ['Carps, barbels and other cyprinids', '鲤鱼・鲫鱼', 'コイ・フナ類'],\n",
    "        ['Red seaweeds', '红藻', '紅藻類（ノリ等）'],\n",
    "        ['Brown seaweeds', '褐藻', '褐藻類（コンブ等）'],\n",
    "        ['Shrimps, prawns', '虾', 'エビ類'],\n",
    "        ['Tilapias and other cichlids', '罗非鱼', 'ティラピア類'],\n",
    "        ['Oysters', '牡蛎', 'カキ類'],\n",
    "        ['Clams, cockles, arkshells', '蛤仔・蛤蜊', 'アサリ・ハマグリ類'],\n",
    "        ['Salmons, trouts, smelts', '鲑鱼・鳟鱼', 'サケ・マス類']],\n",
    "    columns=['ISSCAAP_Group_En', 'ISSCAAP_Group_Cn', 'ISSCAAP_Group_Jp'])\n",
    "\n",
    "isscaap_group_df"
   ]
  },
  {
   "cell_type": "markdown",
   "metadata": {},
   "source": [
    "作成したデータフレームを8種の生産量データフレームに結合します。"
   ]
  },
  {
   "cell_type": "code",
   "execution_count": null,
   "metadata": {},
   "outputs": [],
   "source": [
    "top8_quantity_df = pd.merge(top8_quantity_df, isscaap_group_df, on='ISSCAAP_Group_En', how='left')\n",
    "\n",
    "top8_quantity_df"
   ]
  },
  {
   "cell_type": "markdown",
   "metadata": {},
   "source": [
    "最後に魚種でソートできるよう、`ISSCAAP_Group_En`のデータ型を`category`とし、カテゴリとして先ほどの魚種のリストを設定します。"
   ]
  },
  {
   "cell_type": "code",
   "execution_count": null,
   "metadata": {},
   "outputs": [],
   "source": [
    "top8_quantity_df['ISSCAAP_Group_En'] = top8_quantity_df['ISSCAAP_Group_En'].astype('category')\n",
    "\n",
    "top8_quantity_df['ISSCAAP_Group_En'] = top8_quantity_df['ISSCAAP_Group_En'].cat.reorder_categories(top8_species)\n",
    "\n",
    "top8_quantity_df['ISSCAAP_Group_En']"
   ]
  },
  {
   "cell_type": "markdown",
   "metadata": {},
   "source": [
    "ソートする準備が調ったので、データフレームを魚種、年でソートします。"
   ]
  },
  {
   "cell_type": "code",
   "execution_count": null,
   "metadata": {},
   "outputs": [],
   "source": [
    "top8_quantity_df = top8_quantity_df.sort_values(['ISSCAAP_Group_En', 'PERIOD'])\n",
    "\n",
    "top8_quantity_df"
   ]
  },
  {
   "cell_type": "markdown",
   "metadata": {},
   "source": [
    "グラフを表示します。\n",
    "\n",
    "どんなことが読み取れますか？"
   ]
  },
  {
   "cell_type": "code",
   "execution_count": null,
   "metadata": {
    "scrolled": false
   },
   "outputs": [],
   "source": [
    "fig, ax = plt.subplots(figsize=(12,10))\n",
    "\n",
    "sns.lineplot(x='PERIOD', y='VALUE', hue='ISSCAAP_Group_En', data=top8_quantity_df)\n",
    "\n",
    "ax.set_xlabel(\"年\")\n",
    "\n",
    "ax.set_ylabel(\"生産量（万トン）\");\n",
    "ax.yaxis.set_major_formatter(ticker.FuncFormatter(lambda y, pos: '{:,.0f}'.format(y/10_000))) # 万単位\n",
    "\n",
    "# 言語混合ラベル\n",
    "# 中国語を表示するにはOSにフォントのインストールが必要\n",
    "labels = top8_quantity_df['ISSCAAP_Group_En'].cat.categories + ' / ' \\\n",
    "          + top8_quantity_df['ISSCAAP_Group_Jp'].unique()\n",
    "ax.legend(labels, loc=\"upper left\", bbox_to_anchor=(1.01, 1.01))"
   ]
  },
  {
   "cell_type": "markdown",
   "metadata": {},
   "source": [
    "#### 4-2. 移動平均の取得"
   ]
  },
  {
   "cell_type": "markdown",
   "metadata": {},
   "source": [
    "8魚種のうち上位以外の魚種は線の上下が激しく交差も多いので、見やすいように5年間の単純移動平均を求めてグラフに表示してみます。\n",
    "\n",
    "グラフ表示に必要なデータフレームの作成手順は以下のようになります。\n",
    "1. 魚種単位で年度の昇順にソートする。\n",
    "2. `rolling()`を使って各行ごとに自身と前後の行の平均、つまり5年間の単純移動平均を計算したデータフレームを作成。\n",
    "3. 元のデータフレームに単純移動平均のデータフレームを結合。"
   ]
  },
  {
   "cell_type": "markdown",
   "metadata": {},
   "source": [
    "まずデータを年度の昇順にソートします。\n",
    "\n",
    "先ほどと同じように、必要最低限のソートになるよう、グループ単位でソートします。"
   ]
  },
  {
   "cell_type": "code",
   "execution_count": null,
   "metadata": {
    "scrolled": false
   },
   "outputs": [],
   "source": [
    "top8_quantity_df_sorted = top8_quantity_df.groupby('ISSCAAP_Group_En').apply(lambda g: g.sort_values('PERIOD'))\n",
    "\n",
    "top8_quantity_df_sorted"
   ]
  },
  {
   "cell_type": "markdown",
   "metadata": {},
   "source": [
    "次に`groupby()`で魚種でグループ化した`DataFrameGroupBy`オブジェクトを作成後、`rolling()`を実行します。  \n",
    "\n",
    "自身の行を真ん中として前後2行ずつの3行の平均を求めたいので、`rolling()`の引数に`window=5`、`center=True`を指定し、`mean()`を実行します。"
   ]
  },
  {
   "cell_type": "code",
   "execution_count": null,
   "metadata": {},
   "outputs": [],
   "source": [
    "top8_moving_average_s = top8_quantity_df_sorted \\\n",
    "                          .groupby('ISSCAAP_Group_En')['VALUE'] \\\n",
    "                          .rolling(window=5, center=True) \\\n",
    "                          .mean()\n",
    "\n",
    "top8_moving_average_s"
   ]
  },
  {
   "cell_type": "markdown",
   "metadata": {},
   "source": [
    "作成した5年移動平均のデータフレームを元のデータフレームと結合したいので、２つのインデックスのうち`ISSCAAP_Group_En`の方を削除します。"
   ]
  },
  {
   "cell_type": "code",
   "execution_count": null,
   "metadata": {},
   "outputs": [],
   "source": [
    "top8_moving_average_s.reset_index(level='ISSCAAP_Group_En', drop=True, inplace=True)\n",
    "\n",
    "top8_moving_average_s"
   ]
  },
  {
   "cell_type": "markdown",
   "metadata": {},
   "source": [
    "作成した`Series`を元のデータフレームに`VALUE_移動平均_5年`列として加えます。"
   ]
  },
  {
   "cell_type": "code",
   "execution_count": null,
   "metadata": {},
   "outputs": [],
   "source": [
    "top8_quantity_df_sorted['VALUE_移動平均_5年'] = top8_moving_average_s\n",
    "\n",
    "top8_quantity_df_sorted"
   ]
  },
  {
   "cell_type": "markdown",
   "metadata": {},
   "source": [
    "念のため、`サケ・マス類`のデータを年でソートし、移動平均が正しく計算されているか確認します。"
   ]
  },
  {
   "cell_type": "code",
   "execution_count": null,
   "metadata": {},
   "outputs": [],
   "source": [
    "top8_quantity_df_sorted.query('ISSCAAP_Group_En == \"Salmons, trouts, smelts\"').sort_values('PERIOD')"
   ]
  },
  {
   "cell_type": "markdown",
   "metadata": {},
   "source": [
    "それでは8魚種の生産量の推移とその5年移動平均の2つの折れ線グラフを表示します。\n",
    "\n",
    "どんなことが読み取れますか？"
   ]
  },
  {
   "cell_type": "code",
   "execution_count": null,
   "metadata": {
    "scrolled": false
   },
   "outputs": [],
   "source": [
    "sns.set_palette('Set1') # 区別しやすいように色のセットを変更\n",
    "\n",
    "fig, axes = plt.subplots(1, 2, figsize=(20,12), sharey=True)\n",
    "fig.tight_layout()\n",
    "\n",
    "# 通常のグラフ\n",
    "sns.lineplot(x='PERIOD', y='VALUE', hue='ISSCAAP_Group_En', data=top8_quantity_df, ax=axes[0])\n",
    "\n",
    "axes[0].set_xlabel(\"年\")\n",
    "\n",
    "axes[0].set_ylabel(\"生産量（万トン）\");\n",
    "axes[0].yaxis.set_major_formatter(ticker.FuncFormatter(lambda y, pos: '{:,.0f}'.format(y/10_000))) # 万単位\n",
    "\n",
    "axes[0].legend([],[], frameon=False) # 凡例を非表示\n",
    "\n",
    "# 移動平均グラフ\n",
    "sns.lineplot(x='PERIOD', y='VALUE_移動平均_5年', hue='ISSCAAP_Group_En', data=top8_quantity_df_sorted,\n",
    "             ax=axes[1])\n",
    "axes[1].set_xlabel(\"年\")\n",
    "\n",
    "# 多言語混合ラベル\n",
    "# 中国語を表示するにはOSにフォントのインストールが必要\n",
    "labels = top8_quantity_df['ISSCAAP_Group_En'].cat.categories + ' / ' \\\n",
    "          + top8_quantity_df['ISSCAAP_Group_Jp'].unique()\n",
    "axes[1].legend(labels, loc=\"upper left\", bbox_to_anchor=(0.52, 1.2))"
   ]
  },
  {
   "cell_type": "code",
   "execution_count": null,
   "metadata": {},
   "outputs": [],
   "source": []
  },
  {
   "cell_type": "markdown",
   "metadata": {},
   "source": [
    "### 5. 水産庁の分析結果と比較\n",
    "\n",
    "今回の分析は以下の水産庁の分析手順をなぞったものです。  \n",
    "見解の違いがありますか？\n",
    "\n",
    "水産庁 （1）世界の漁業・養殖業生産  \n",
    "https://www.jfa.maff.go.jp/j/kikaku/wpaper/r02_h/trend/1/t1_4_1.html"
   ]
  },
  {
   "cell_type": "code",
   "execution_count": null,
   "metadata": {},
   "outputs": [],
   "source": []
  }
 ],
 "metadata": {
  "interpreter": {
   "hash": "d109c1022d0269bfeb1214b0bec2187ee8bc4e794779a7e71ed964fc39a480b6"
  },
  "kernelspec": {
   "display_name": "Python 3 (ipykernel)",
   "language": "python",
   "name": "python3"
  },
  "language_info": {
   "codemirror_mode": {
    "name": "ipython",
    "version": 3
   },
   "file_extension": ".py",
   "mimetype": "text/x-python",
   "name": "python",
   "nbconvert_exporter": "python",
   "pygments_lexer": "ipython3",
   "version": "3.9.9"
  }
 },
 "nbformat": 4,
 "nbformat_minor": 2
}
