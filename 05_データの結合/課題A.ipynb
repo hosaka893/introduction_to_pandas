{
 "cells": [
  {
   "cell_type": "markdown",
   "metadata": {},
   "source": [
    "### 0. 事前準備\n",
    "\n",
    "以下のデータを取得して、このノートブックと同じディレクトリにある`data`ディレクトリに配置します。\n",
    "\n",
    "__農林水産省 作況調査（果樹）__  \n",
    "  URL:  \n",
    "    ・https://www.maff.go.jp/j/tokei/kouhyou/sakumotu/sakkyou_kazyu/index.html  \n",
    "  DATA:  \n",
    "    ・f006-01-025.xls  \n",
    "    ・f006-02-025.xls  \n",
    "    ・f006-15-057.xls  \n",
    "    ・f006-16-058.xls  \n",
    "    ・f006-17-058.xls  \n",
    "    ・f006-18-055.xls  \n",
    "    ・f006-19-024.xls  \n",
    "    ・f006-20-024.xls  \n",
    "    ・f006-21-024.xls  \n",
    "    ・f006-22-025.xls  \n",
    "    ・f006-23-026.xls  \n",
    "    ・f006-24-026.xls  \n",
    "    ・f006-25-025.xls  \n",
    "    ・f006-26-025.xls  \n",
    "    ・f006-27-025.xls  \n",
    "    ・f006-28-025.xls  \n",
    "    ・f006-29-025.xls  \n",
    "    ・f006-30-025.xls  \n",
    "  データの取得方法:  \n",
    "    「確報（統計表一覧）」の「調査結果データ〔Excel：e-Stat〕」にある、「令和2年産」〜「平成15年産」の各リンク先ページに移行します。  \n",
    "    表番号３「〇〇〇年産都道府県別の結果樹面積・10a当たり収量・収穫量・出荷量」「ぶどう」（あれば「計」）行の「EXCEL」ボタンを押します。\n",
    "    \n",
    "---\n",
    "\n",
    "__e-Stat 家計調査（二人以上の世帯）　品目別都道府県庁所在市及び政令指定都市（※）ランキング__  \n",
    "__（2018年（平成30年）～2020年（令和２年）平均）__  \n",
    "  URL:  \n",
    "    ・https://www.stat.go.jp/data/kakei/5.html  \n",
    "  DATA:  \n",
    "    ・rank07.xlsx  \n",
    "  データの取得方法:  \n",
    "    「果物（エクセル：33KB）」のリンクをクリックします。\n",
    "    \n",
    "---\n",
    "\n",
    "__総務省 全国地方公共団体コード__  \n",
    "  URL:  \n",
    "    ・https://www.soumu.go.jp/denshijiti/code.html   \n",
    "  DATA:  \n",
    "    ・000730858.xlsx  \n",
    "  データの取得方法:  \n",
    "    「コード一覧表」の「都道府県コード及び市区町村コード」にある「Excelファイル」のリンクをクリックします。"
   ]
  },
  {
   "cell_type": "code",
   "execution_count": null,
   "metadata": {},
   "outputs": [],
   "source": [
    "%matplotlib inline\n",
    "\n",
    "import glob\n",
    "import matplotlib.pyplot as plt\n",
    "import numpy as np\n",
    "import os\n",
    "import pandas as pd\n",
    "import re\n",
    "import seaborn as sns\n",
    "import xlrd"
   ]
  },
  {
   "cell_type": "code",
   "execution_count": null,
   "metadata": {},
   "outputs": [],
   "source": []
  },
  {
   "cell_type": "markdown",
   "metadata": {},
   "source": [
    "### 1. データの概要を掴む\n",
    "\n",
    "今回は沢山のデータファイルがありますが、データの内容を把握するため、まずは令和２年産のぶどうのデータをロードします。"
   ]
  },
  {
   "cell_type": "code",
   "execution_count": null,
   "metadata": {},
   "outputs": [],
   "source": [
    "grape_02_df = pd.read_excel('data/f006-02-025.xls')\n",
    "\n",
    "grape_02_df.head(15)"
   ]
  },
  {
   "cell_type": "markdown",
   "metadata": {},
   "source": [
    "表の位置がずれているようなので、Excelファイルを確認しながら`index_col`と`header`を指定して再読み込み。"
   ]
  },
  {
   "cell_type": "code",
   "execution_count": null,
   "metadata": {},
   "outputs": [],
   "source": [
    "grape_02_df = pd.read_excel('data/f006-02-025.xls', index_col=1, header=7)\n",
    "\n",
    "grape_02_df.head(15)"
   ]
  },
  {
   "cell_type": "markdown",
   "metadata": {},
   "source": [
    "次に列、行の修正・整理をします。\n",
    "\n",
    "列：  \n",
    "・インデックス名を「都道府県」に修正。  \n",
    "・コラム名を正しく指定できるよう「10ａ当たり\\n収 量」のようなコラム名に含まれるホワイトスペースをすべて削除。  \n",
    "・最初の２つの空の列を削除。  \n",
    "・最後の「対前年産比」の４列も今回必要ないので削除。\n",
    "\n",
    "行：  \n",
    "・今回は都道府県単位のデータのみ残します。"
   ]
  },
  {
   "cell_type": "code",
   "execution_count": null,
   "metadata": {
    "scrolled": false
   },
   "outputs": [],
   "source": [
    "# インデックス名を修正\n",
    "grape_02_df.index.name = '都道府県'\n",
    "\n",
    "# コラム名にあるホワイトスペースをすべて削除\n",
    "grape_02_df.columns = list(map(lambda x: \"\".join(x.split()), grape_02_df.columns.values))\n",
    "\n",
    "# 不要な列を削除\n",
    "grape_02_df = grape_02_df.loc[:, '結果樹面積':'出荷量']\n",
    "\n",
    "# 不要な行を削除\n",
    "# 最後の北海道〜最後の宮崎、鹿児島、沖縄のいずれかでスライス\n",
    "last_hokkaido_index = np.where(grape_02_df.index == '北海道')[0][-1]\n",
    "last_pref_index = np.where(np.isin(grape_02_df.index, ('大分', '宮崎', '鹿児島', '沖縄')))[0][-1]\n",
    "grape_02_df = grape_02_df.iloc[last_hokkaido_index:last_pref_index+1]\n",
    "\n",
    "grape_02_df"
   ]
  },
  {
   "cell_type": "markdown",
   "metadata": {},
   "source": [
    "統計量を確認。"
   ]
  },
  {
   "cell_type": "code",
   "execution_count": null,
   "metadata": {},
   "outputs": [],
   "source": [
    "grape_02_df.describe()"
   ]
  },
  {
   "cell_type": "markdown",
   "metadata": {},
   "source": [
    "統計量が計算されません。\n",
    "\n",
    "おそらくデータが数値として認識されていないようなので、データ型を確認。"
   ]
  },
  {
   "cell_type": "code",
   "execution_count": null,
   "metadata": {},
   "outputs": [],
   "source": [
    "grape_02_df.info()"
   ]
  },
  {
   "cell_type": "markdown",
   "metadata": {},
   "source": [
    "すべて`int64`型に変換してもう一度`info()`で確認します。"
   ]
  },
  {
   "cell_type": "code",
   "execution_count": null,
   "metadata": {},
   "outputs": [],
   "source": [
    "grape_02_df = grape_02_df.astype(np.int64)\n",
    "\n",
    "grape_02_df.info()"
   ]
  },
  {
   "cell_type": "markdown",
   "metadata": {},
   "source": [
    "`int64`型に変換されたので、もう一度統計量を確認します。"
   ]
  },
  {
   "cell_type": "code",
   "execution_count": null,
   "metadata": {},
   "outputs": [],
   "source": [
    "grape_02_df.describe()"
   ]
  },
  {
   "cell_type": "markdown",
   "metadata": {},
   "source": [
    "４つの属性を、４つの棒グラフ表示してみましょう。\n",
    "\n",
    "作業しやすいように`都道府県`をインデックスから外します。"
   ]
  },
  {
   "cell_type": "code",
   "execution_count": null,
   "metadata": {},
   "outputs": [],
   "source": [
    "grape_02_df.reset_index(inplace=True)\n",
    "\n",
    "grape_02_df.head()"
   ]
  },
  {
   "cell_type": "markdown",
   "metadata": {},
   "source": [
    "グラフを描画します。\n",
    "\n",
    "どんなことが読み取れますか？"
   ]
  },
  {
   "cell_type": "code",
   "execution_count": null,
   "metadata": {},
   "outputs": [],
   "source": [
    "sns.set(font=['MS Gothic', 'Hiragino Sans', 'TakaoPGothic']) # 日本語フォントは設定が必要\n",
    "\n",
    "fig, axes = plt.subplots(2, 2, sharex=True, figsize=(20,10))\n",
    "sns.barplot(x='都道府県', y='結果樹面積', data=grape_02_df, ax=axes[0,0])\n",
    "\n",
    "sns.barplot(x='都道府県', y='10ａ当たり収量', data=grape_02_df, ax=axes[0,1])\n",
    "\n",
    "sns.barplot(x='都道府県', y='収穫量', data=grape_02_df, ax=axes[1,0])\n",
    "axes[1,0].tick_params('x', labelrotation=90)\n",
    "\n",
    "sns.barplot(x='都道府県', y='出荷量', data=grape_02_df, ax=axes[1,1])\n",
    "axes[1,1].tick_params('x', labelrotation=90)"
   ]
  },
  {
   "cell_type": "code",
   "execution_count": null,
   "metadata": {},
   "outputs": [],
   "source": []
  },
  {
   "cell_type": "markdown",
   "metadata": {},
   "source": [
    "### 2. データフレームを縦に連結する\n",
    "\n",
    "複数のデータフレーム同士を縦に連結します。"
   ]
  },
  {
   "cell_type": "markdown",
   "metadata": {},
   "source": [
    "まずは先ほどと同じように、令和元年産のぶどうのデータをロードします。"
   ]
  },
  {
   "cell_type": "code",
   "execution_count": null,
   "metadata": {},
   "outputs": [],
   "source": [
    "grape_01_df = pd.read_excel('data/f006-01-025.xls', index_col=1, header=7)\n",
    "\n",
    "grape_01_df.head(15)"
   ]
  },
  {
   "cell_type": "markdown",
   "metadata": {},
   "source": [
    "データがまたずれてしまっています。  \n",
    "元のExcelファイルを確認してみると、先ほどと少し表の位置がずれているようです。\n",
    "\n",
    "どのファイルからも正しい位置が分かるよう`xlrd`を使ってヘッダ行、インデックス列を検出してみます。  \n",
    "（`openpyxl`は`.xls`をサポートしていません。）\n",
    "\n",
    "検出条件  \n",
    "・ヘッダ行： 「結果樹面積」を含む行。ただし「結果樹」の後にホワイトスペースが入っているケース有。  \n",
    "・インデックス列： 「北海道」を含む列。"
   ]
  },
  {
   "cell_type": "code",
   "execution_count": null,
   "metadata": {
    "scrolled": false
   },
   "outputs": [],
   "source": [
    "header_row_index = None\n",
    "index_col_index = None\n",
    "\n",
    "with xlrd.open_workbook('data/f006-01-025.xls') as workbook:\n",
    "    sheet = workbook.sheets()[0]\n",
    "\n",
    "    max_row_index = 20\n",
    "    max_col_index = 5\n",
    "    for row_index in range(0, max_row_index + 1):\n",
    "        for col_index in range(0, max_col_index + 1):\n",
    "            cell_val = sheet.cell(row_index, col_index).value\n",
    "            if not header_row_index and re.match('^結果樹', cell_val): \n",
    "                header_row_index = row_index\n",
    "            elif not index_col_index and cell_val == '北海道':\n",
    "                index_col_index = col_index\n",
    "            \n",
    "            if header_row_index is not None and index_col_index is not None:            \n",
    "                break\n",
    "        else:\n",
    "            # ややトリッキーだが、breakでない場合はここを通る\n",
    "            # 外側のforループを継続\n",
    "            continue\n",
    "        \n",
    "        break # 外側のforループを出る\n",
    "        \n",
    "    print(f\"ヘッダ行インデックス: {header_row_index}\")\n",
    "    print(f\"インデックス列インデックス: {index_col_index}\")"
   ]
  },
  {
   "cell_type": "markdown",
   "metadata": {},
   "source": [
    "ヘッダ行のインデックスとインデックス列インデックスが分かったので、もう一度ロードし直します。"
   ]
  },
  {
   "cell_type": "code",
   "execution_count": null,
   "metadata": {},
   "outputs": [],
   "source": [
    "grape_01_df = pd.read_excel('data/f006-01-025.xls', index_col=2, header=7)\n",
    "\n",
    "grape_01_df"
   ]
  },
  {
   "cell_type": "markdown",
   "metadata": {},
   "source": [
    "次に先ほどと同じ行・列の修正・整理から`都道府県`をインデックスから外すまでのセットアップ処理をおこなう関数を作成します。  \n",
    "Excelファイルごとに若干違いがあるので、ファイルをいくつか確認しながら違いを吸収するようにします。\n",
    "\n",
    "なお、関数では以下の処理を追加します。  \n",
    "・`年度`列を追加し、データの年度を西暦で登録。  \n",
    "・`ソース`列を追加し、データに問題があった時に確認できるようにデータ取得元のファイルのパスを登録する。  \n",
    "・途中に空行が含まれるケースがあるため、空行を削除する処理を含める。"
   ]
  },
  {
   "cell_type": "code",
   "execution_count": null,
   "metadata": {},
   "outputs": [],
   "source": [
    "def setup_grape_df(grape_df, year, path):\n",
    "    \"\"\"ぶどうの作況調査をロードしたデータフレームのセットアップ。\n",
    "\n",
    "    Args:\n",
    "        grape_df: ぶどうの作況調査をロードしたデータフレーム。\n",
    "        year: データの年度（西暦）。\n",
    "        \n",
    "    Returns:\n",
    "        DataFrame: セットアップ後のデータフレーム。\n",
    "    \"\"\"\n",
    "    \n",
    "    # インデックス名を修正\n",
    "    grape_df.index.name = '都道府県'\n",
    "\n",
    "    # コラム名にあるホワイトスペースをすべて削除\n",
    "    grape_df.columns = list(map(lambda x: \"\".join(x.split()), grape_df.columns.values))\n",
    "\n",
    "    # 不要な列を削除\n",
    "    grape_df = grape_df.loc[:, '結果樹面積':'出荷量']\n",
    "\n",
    "    # 不要な行を削除\n",
    "    # 最後の北海道〜最後の宮崎、鹿児島、沖縄のいずれかでスライス\n",
    "    last_hokkaido_index = np.where(grape_df.index == '北海道')[0][-1]\n",
    "    last_pref_index = np.where(np.isin(grape_df.index, ('大分', '宮崎', '鹿児島', '沖縄')))[0][-1]\n",
    "    grape_df = grape_df.iloc[last_hokkaido_index:last_pref_index+1]\n",
    "\n",
    "    # 空行を削除\n",
    "    grape_df.dropna(how='all', inplace=True)\n",
    "        \n",
    "    # データ型を変換\n",
    "    grape_df = grape_df.astype(np.int64)\n",
    "    \n",
    "    # 作業しやすいようにをインデックから外す\n",
    "    grape_df.reset_index(inplace=True)\n",
    "    \n",
    "    # 年度列を追加し、年度を登録\n",
    "    grape_df['年度'] = pd.Timestamp(year=year, month=1, day=1)\n",
    "\n",
    "    # ソース列を追加し、ファイル名を登録\n",
    "    grape_df['ソース'] = path\n",
    "    \n",
    "    return grape_df"
   ]
  },
  {
   "cell_type": "markdown",
   "metadata": {},
   "source": [
    "関数を実行してデータフレームをセットアップします。"
   ]
  },
  {
   "cell_type": "code",
   "execution_count": null,
   "metadata": {
    "scrolled": false
   },
   "outputs": [],
   "source": [
    "grape_01_df = setup_grape_df(grape_01_df, 2019, 'data/f006-01-025.xls') # 令和元年は2019年\n",
    "\n",
    "grape_01_df"
   ]
  },
  {
   "cell_type": "markdown",
   "metadata": {},
   "source": [
    "では令和2年のデータと令和元年のデータを`concat()`で連結してみましょう。\n",
    "\n",
    "令和2年のデータには`年度`列がないため、`年度`列を追加してから令和元年のデータを連結します。"
   ]
  },
  {
   "cell_type": "code",
   "execution_count": null,
   "metadata": {},
   "outputs": [],
   "source": [
    "grape_02_df['年度'] = pd.Timestamp(year=2020, month=1, day=1) # 令和2年は2020年\n",
    "grape_reiwa_df = pd.concat([grape_01_df, grape_02_df])\n",
    "\n",
    "print(f\"令和元年のデータ件数: {len(grape_01_df)}\")\n",
    "print(f\"令和2年のデータ件数: {len(grape_02_df)}\")\n",
    "print(f\"連結後のデータ件数: {len(grape_reiwa_df)}\")"
   ]
  },
  {
   "cell_type": "markdown",
   "metadata": {},
   "source": [
    "連結後のデータを確認。"
   ]
  },
  {
   "cell_type": "code",
   "execution_count": null,
   "metadata": {},
   "outputs": [],
   "source": [
    "grape_reiwa_df"
   ]
  },
  {
   "cell_type": "markdown",
   "metadata": {},
   "source": [
    "インデックスが連結前のままになっているので`reset_index(drop=True)`を実行してインデックスを振り直します。\n",
    "\n",
    "または事前に`concat()`の引数に`ignore_index=True`と指定することでもインデックスを振り直すことができます。"
   ]
  },
  {
   "cell_type": "code",
   "execution_count": null,
   "metadata": {},
   "outputs": [],
   "source": [
    "grape_reiwa_df = grape_reiwa_df.reset_index(drop=True)\n",
    "\n",
    "grape_reiwa_df"
   ]
  },
  {
   "cell_type": "markdown",
   "metadata": {},
   "source": [
    "問題なく連結できることが確認できましたので、繰り返し処理で平成15年から令和2年までの全データを連結します。"
   ]
  },
  {
   "cell_type": "code",
   "execution_count": null,
   "metadata": {
    "scrolled": false
   },
   "outputs": [],
   "source": [
    "grape_df_list = []\n",
    "excel_files = glob.glob(os.path.join('data', \"f006-*.xls\"))\n",
    "for file in excel_files:\n",
    "            \n",
    "    year_in_era = int(re.search('f006-(\\d{2})-\\d{3}.xls$', file).group(1))\n",
    "    year = year_in_era + (1988 if year_in_era >= 15 else 2018) # 平成15〜30年は2003〜2018年、令和元年は2019年\n",
    "    \n",
    "    header_row_index = None\n",
    "    index_col_index = None\n",
    "\n",
    "    with xlrd.open_workbook(file) as workbook:\n",
    "        sheet = workbook.sheets()[0]\n",
    "\n",
    "        max_row_index = 20\n",
    "        max_col_index = 5\n",
    "        for row_index in range(0, max_row_index + 1):\n",
    "            for col_index in range(0, max_col_index + 1):\n",
    "                cell_val = sheet.cell(row_index, col_index).value\n",
    "                \n",
    "                if not header_row_index and re.match('^結果樹', cell_val): \n",
    "                    header_row_index = row_index\n",
    "                elif not index_col_index and cell_val == '北海道':\n",
    "                    index_col_index = col_index\n",
    "                \n",
    "                if header_row_index is not None and index_col_index is not None:\n",
    "                    break\n",
    "            else:\n",
    "                # ややトリッキーだが、breakでない場合はここを通る\n",
    "                # 外側のforループを継続\n",
    "                continue\n",
    "        \n",
    "            break # 外側のforループを出る\n",
    "\n",
    "    if header_row_index is None or index_col_index is None:\n",
    "        print(header_row_index, index_col_index)\n",
    "        raise ValueError(f\"ファイル'{file}'の表が検出できません。\")\n",
    "\n",
    "        \n",
    "    grape_df = pd.read_excel(file, index_col=index_col_index, header=header_row_index)\n",
    "\n",
    "    grape_df = setup_grape_df(grape_df, year, file)\n",
    "\n",
    "    grape_df_list.append(grape_df)\n",
    "    \n",
    "grape_df = pd.concat(grape_df_list, ignore_index=True)\n",
    "\n",
    "print(f\"データ件数: {len(grape_df)}\")"
   ]
  },
  {
   "cell_type": "markdown",
   "metadata": {},
   "source": [
    "中身を確認。"
   ]
  },
  {
   "cell_type": "code",
   "execution_count": null,
   "metadata": {},
   "outputs": [],
   "source": [
    "grape_df.head()"
   ]
  },
  {
   "cell_type": "markdown",
   "metadata": {},
   "source": [
    "`10ａ当たり収量`と`10a当たり収量`の表記のずれがあって、連結に失敗しています。  \n",
    "本来は関数で処理すべきですが、このデータフレームを直接修正してしまいます。\n",
    "\n",
    "まず`10ａ当たり収量`列の値が欠損している場合、`10a当たり収量`列の値を登録します。"
   ]
  },
  {
   "cell_type": "code",
   "execution_count": null,
   "metadata": {},
   "outputs": [],
   "source": [
    "grape_df['10ａ当たり収量'] = grape_df.apply(\n",
    "    lambda x: x['10ａ当たり収量'] if not np.isnan(x['10ａ当たり収量']) else x['10a当たり収量'], axis=1)"
   ]
  },
  {
   "cell_type": "markdown",
   "metadata": {},
   "source": [
    "次に`10ａ当たり収量`列で欠損がないかを確認します。"
   ]
  },
  {
   "cell_type": "code",
   "execution_count": null,
   "metadata": {},
   "outputs": [],
   "source": [
    "grape_df['10ａ当たり収量'].isna().sum()"
   ]
  },
  {
   "cell_type": "markdown",
   "metadata": {},
   "source": [
    "問題なければ`10a当たり収量`列を削除します。"
   ]
  },
  {
   "cell_type": "code",
   "execution_count": null,
   "metadata": {},
   "outputs": [],
   "source": [
    "grape_df.drop(columns=['10a当たり収量'], inplace=True)\n",
    "\n",
    "grape_df.head()"
   ]
  },
  {
   "cell_type": "markdown",
   "metadata": {},
   "source": [
    "今度は行に問題がないか、`都道府県`列の値を確認。"
   ]
  },
  {
   "cell_type": "code",
   "execution_count": null,
   "metadata": {
    "scrolled": false
   },
   "outputs": [],
   "source": [
    "grape_df['都道府県'].value_counts()"
   ]
  },
  {
   "cell_type": "markdown",
   "metadata": {},
   "source": [
    "都道府県でないものが１つずつ混じってしまっています。\n",
    "\n",
    "データを確認します。"
   ]
  },
  {
   "cell_type": "code",
   "execution_count": null,
   "metadata": {},
   "outputs": [],
   "source": [
    "unwanted_prefs = grape_df['都道府県'].value_counts()[grape_df['都道府県'].value_counts() == 1].index.values\n",
    "\n",
    "grape_df[grape_df['都道府県'].isin(unwanted_prefs)]"
   ]
  },
  {
   "cell_type": "markdown",
   "metadata": {},
   "source": [
    "どれも同じファイルからのデータのようで、そのファイルの中身を確認すると順番に問題があることが分かります。\n",
    "\n",
    "削除して問題なさそうなので削除してしまいます。"
   ]
  },
  {
   "cell_type": "code",
   "execution_count": null,
   "metadata": {},
   "outputs": [],
   "source": [
    "grape_df = grape_df[~grape_df['都道府県'].isin(unwanted_prefs)]\n",
    "\n",
    "grape_df.head()"
   ]
  },
  {
   "cell_type": "markdown",
   "metadata": {},
   "source": [
    "もう一度`都道府県`列の値を確認。"
   ]
  },
  {
   "cell_type": "code",
   "execution_count": null,
   "metadata": {},
   "outputs": [],
   "source": [
    "grape_df['都道府県'].value_counts()"
   ]
  },
  {
   "cell_type": "markdown",
   "metadata": {},
   "source": [
    "統計量を確認。"
   ]
  },
  {
   "cell_type": "code",
   "execution_count": null,
   "metadata": {
    "scrolled": true
   },
   "outputs": [],
   "source": [
    "grape_df.describe()"
   ]
  },
  {
   "cell_type": "markdown",
   "metadata": {},
   "source": [
    "先ほどと同じように棒グラフで表示してみます。  \n",
    "ただし複数年のデータがあるので、都道府県ごとの平均値を使います。\n",
    "\n",
    "都道府県ごとの平均のデータフレームを用意します。"
   ]
  },
  {
   "cell_type": "code",
   "execution_count": null,
   "metadata": {},
   "outputs": [],
   "source": [
    "grape_groupby_pref = grape_df.groupby('都道府県').mean().reset_index()\n",
    "\n",
    "grape_groupby_pref"
   ]
  },
  {
   "cell_type": "markdown",
   "metadata": {},
   "source": [
    "都道府県の順序が狂ってしまいました。\n",
    "\n",
    "以下の手順で順序を並べ替えます。  \n",
    "1.`都道府県`列のデータをカテゴリ型に変換。  \n",
    "2.`都道府県`列のカテゴリのリストを令和2年産の`都道府県`列の順序に変更。"
   ]
  },
  {
   "cell_type": "code",
   "execution_count": null,
   "metadata": {},
   "outputs": [],
   "source": [
    "grape_groupby_pref['都道府県'] = grape_groupby_pref['都道府県'].astype('category')\n",
    "\n",
    "grape_groupby_pref['都道府県'] = grape_groupby_pref['都道府県'].cat.set_categories(grape_02_df['都道府県'])\n",
    "\n",
    "grape_groupby_pref['都道府県'].cat.categories"
   ]
  },
  {
   "cell_type": "markdown",
   "metadata": {},
   "source": [
    "グラフを描画します。\n",
    "\n",
    "どんなことが読み取れますか？"
   ]
  },
  {
   "cell_type": "code",
   "execution_count": null,
   "metadata": {},
   "outputs": [],
   "source": [
    "### チャレンジしてみましょう！！ ###"
   ]
  },
  {
   "cell_type": "markdown",
   "metadata": {},
   "source": [
    "今度は結果樹面積の平均が500を超えている都道府県について、各数値の推移を折れ線グラフで表示してみます。\n",
    "\n",
    "まず、結果樹面積の平均が500を超えている都道府県のデータを抽出したデータフレームを作成します。"
   ]
  },
  {
   "cell_type": "code",
   "execution_count": null,
   "metadata": {},
   "outputs": [],
   "source": [
    "top_pref = grape_groupby_pref[grape_groupby_pref['結果樹面積'] > 500]['都道府県']\n",
    "\n",
    "grape_top_pref_df = grape_df[grape_df['都道府県'].isin(top_pref)]\n",
    "\n",
    "grape_top_pref_df"
   ]
  },
  {
   "cell_type": "markdown",
   "metadata": {},
   "source": [
    "グラフを表示します。\n",
    "\n",
    "どんなことが読み取れますか？"
   ]
  },
  {
   "cell_type": "code",
   "execution_count": null,
   "metadata": {},
   "outputs": [],
   "source": [
    "fig, axes = plt.subplots(2, 2, figsize=(20,16))\n",
    "\n",
    "sns.lineplot(x='年度', y='結果樹面積', hue='都道府県', data=grape_top_pref_df, ax=axes[0,0])\n",
    "axes[0, 0].get_legend().remove()\n",
    "\n",
    "sns.lineplot(x='年度', y='10ａ当たり収量', hue='都道府県', data=grape_top_pref_df, ax=axes[0,1])\n",
    "axes[0, 1].legend(loc=\"upper left\", bbox_to_anchor=(1,1))\n",
    "\n",
    "sns.lineplot(x='年度', y='収穫量', hue='都道府県', data=grape_top_pref_df, ax=axes[1,0])\n",
    "axes[1, 0].get_legend().remove()\n",
    "\n",
    "sns.lineplot(x='年度', y='出荷量', hue='都道府県', data=grape_top_pref_df, ax=axes[1,1])\n",
    "axes[1, 1].legend(loc=\"upper left\", bbox_to_anchor=(1,1))"
   ]
  },
  {
   "cell_type": "code",
   "execution_count": null,
   "metadata": {},
   "outputs": [],
   "source": []
  },
  {
   "cell_type": "markdown",
   "metadata": {},
   "source": [
    "### 3. 過去・未来のデータとの結合\n",
    "\n",
    "ここでは移動平均を取得する目的で、過去および未来のデータとの結合をおこないます。"
   ]
  },
  {
   "cell_type": "markdown",
   "metadata": {},
   "source": [
    "先ほどの`10a当たり収量`の折れ線グラフでは線の上下が激しすぎて、トレンドが把握しにくい状態でした。  \n",
    "そこで`10a当たり収量`と`収穫量`の3年間の単純移動平均を求めてグラフに表示してみましょう。\n",
    "\n",
    "グラフ表示に必要なデータフレームの作成手順は以下のようになります。\n",
    "1. データフレームを年度の昇順にソートする。\n",
    "2. `rolling()`を使って各行ごとに自身と前後の行の平均、つまり3年間の単純移動平均を計算したデータフレームを作成。\n",
    "3. 元のデータフレームに単純移動平均のデータフレームを結合。"
   ]
  },
  {
   "cell_type": "markdown",
   "metadata": {},
   "source": [
    "まずデータを年度の昇順にソートします。\n",
    "\n",
    "普通にソートしても良いのですが、練習も兼ねて今回必要なグループ単位ごとでソートするようにします。  \n",
    "少々複雑になりますがデータのサイズが大きい場合、そうすることである程度の処理速度の向上が見込めます。"
   ]
  },
  {
   "cell_type": "code",
   "execution_count": null,
   "metadata": {
    "scrolled": false
   },
   "outputs": [],
   "source": [
    "grape_top_pref_grouped_and_sorted = grape_top_pref_df.groupby('都道府県') \\\n",
    "                                    .apply(lambda g: g.sort_values('年度', ascending=True))\n",
    "\n",
    "grape_top_pref_grouped_and_sorted"
   ]
  },
  {
   "cell_type": "markdown",
   "metadata": {},
   "source": [
    "出来上がったデータフレームにはインデックスとコラムの両方に`都道府県`が含まれていますので、インデックスの方の`都道府県`を削除します。  \n",
    "ただし、インデックスは`都道府県`と数値のインデックスの２つありますので、`都道府県`のみ削除します。\n",
    "\n",
    "また、今回必要な３つの列`都道府県`、 `10ａ当たり収量`、 `収穫量`以外の列を削除します。"
   ]
  },
  {
   "cell_type": "code",
   "execution_count": null,
   "metadata": {},
   "outputs": [],
   "source": [
    "grape_top_pref_grouped_and_sorted = grape_top_pref_grouped_and_sorted.reset_index(level='都道府県', drop=True)\n",
    "\n",
    "grape_top_pref_grouped_and_sorted = grape_top_pref_grouped_and_sorted[['都道府県', '10ａ当たり収量', '収穫量']]\n",
    "\n",
    "grape_top_pref_grouped_and_sorted"
   ]
  },
  {
   "cell_type": "markdown",
   "metadata": {},
   "source": [
    "次に`groupby()`で都道府県でグループ化した`DataFrameGroupBy`オブジェクトを作成後、`rolling()`を実行します。  \n",
    "\n",
    "自身の行を真ん中として前後１行ずつの3行の平均を求めたいので、`rolling()`の引数に`window=3`、`center=True`を指定し、`mean()`を実行します。"
   ]
  },
  {
   "cell_type": "code",
   "execution_count": null,
   "metadata": {},
   "outputs": [],
   "source": [
    "grape_top_pref_moving_average_df = grape_top_pref_grouped_and_sorted \\\n",
    "                                                    .groupby('都道府県') \\\n",
    "                                                    .rolling(window=3, center=True) \\\n",
    "                                                    .mean()\n",
    "\n",
    "grape_top_pref_moving_average_df"
   ]
  },
  {
   "cell_type": "markdown",
   "metadata": {},
   "source": [
    "出来上がった`10ａ当たり収量`と`収穫量`の3年移動平均のデータフレームを元のデータフレームと結合したいので、２つのインデックスのうち`都道府県`の方を削除します。"
   ]
  },
  {
   "cell_type": "code",
   "execution_count": null,
   "metadata": {},
   "outputs": [],
   "source": [
    "grape_top_pref_moving_average_df.reset_index(level='都道府県', drop=True, inplace=True)\n",
    "\n",
    "grape_top_pref_moving_average_df"
   ]
  },
  {
   "cell_type": "markdown",
   "metadata": {},
   "source": [
    "`join()`で２つデータフレームをインデックスの値をキーにして結合します。\n",
    "\n",
    "両方に同じコラム名が存在するため、`join()`の引数に`rsuffix='_移動平均_3年'`として名前の衝突を避けるようにします。"
   ]
  },
  {
   "cell_type": "code",
   "execution_count": null,
   "metadata": {},
   "outputs": [],
   "source": [
    "grape_top_pref_with_moving_average_df = grape_top_pref_df \\\n",
    "                                        .join(grape_top_pref_moving_average_df, rsuffix='_移動平均_3年')\n",
    "\n",
    "grape_top_pref_with_moving_average_df"
   ]
  },
  {
   "cell_type": "markdown",
   "metadata": {},
   "source": [
    "念のため、北海道のデータを`年度`でソートし、移動平均が正しく計算されているか確認します。"
   ]
  },
  {
   "cell_type": "code",
   "execution_count": null,
   "metadata": {},
   "outputs": [],
   "source": [
    "grape_top_pref_with_moving_average_df.query('都道府県 == \"北海道\"').sort_values('年度')"
   ]
  },
  {
   "cell_type": "markdown",
   "metadata": {},
   "source": [
    "それでは、`10ａ当たり収量`、`収穫量`それぞれの年ごとの値と移動平均の４つの折れ線グラフを表示します。\n",
    "\n",
    "どんなことが読み取れますか？"
   ]
  },
  {
   "cell_type": "code",
   "execution_count": null,
   "metadata": {
    "scrolled": false
   },
   "outputs": [],
   "source": [
    "fig, axes = plt.subplots(2, 2, figsize=(20,16))\n",
    "\n",
    "sns.lineplot(x='年度', y='10ａ当たり収量', hue='都道府県', data=grape_top_pref_with_moving_average_df, ax=axes[0,0])\n",
    "axes[0,0].get_legend().remove()\n",
    "\n",
    "sns.lineplot(x='年度', y='10ａ当たり収量_移動平均_3年', hue='都道府県', data=grape_top_pref_with_moving_average_df,\n",
    "             ax=axes[0,1])\n",
    "axes[0,1].legend(loc=\"upper left\", bbox_to_anchor=(1,1))\n",
    "\n",
    "\n",
    "sns.lineplot(x='年度', y='収穫量', hue='都道府県', data=grape_top_pref_with_moving_average_df, ax=axes[1,0])\n",
    "axes[1,0].get_legend().remove()\n",
    "\n",
    "sns.lineplot(x='年度', y='収穫量_移動平均_3年', hue='都道府県', data=grape_top_pref_with_moving_average_df, ax=axes[1,1])\n",
    "axes[1,1].legend(loc=\"upper left\", bbox_to_anchor=(1,1))"
   ]
  },
  {
   "cell_type": "code",
   "execution_count": null,
   "metadata": {},
   "outputs": [],
   "source": []
  },
  {
   "cell_type": "markdown",
   "metadata": {},
   "source": [
    "### 4. キーを使ったデータの結合\n",
    "\n",
    "２つのデータフレームをキーを指定して結合します。"
   ]
  },
  {
   "cell_type": "markdown",
   "metadata": {},
   "source": [
    "ここからは各都道府県の収穫量と消費量の関係の分析をおこないます。\n",
    "\n",
    "家計調査のぶどう購入数量データをロードします。  \n",
    "Excelファイルを確認しながら、`header`と`index_col`を指定します。"
   ]
  },
  {
   "cell_type": "code",
   "execution_count": null,
   "metadata": {
    "scrolled": false
   },
   "outputs": [],
   "source": [
    "grape_consumption_df = pd.read_excel('data/rank07.xlsx', header=2, index_col=0)\n",
    "\n",
    "grape_consumption_df.head()"
   ]
  },
  {
   "cell_type": "markdown",
   "metadata": {},
   "source": [
    "ぶどうの列を確認。\n",
    "\n",
    "金額列は`ぶどう`のまま、数量列は`ぶどう.1`という列名に変更されています。"
   ]
  },
  {
   "cell_type": "code",
   "execution_count": null,
   "metadata": {},
   "outputs": [],
   "source": [
    "grape_consumption_df.filter(regex='^ぶどう', axis=1).head()"
   ]
  },
  {
   "cell_type": "markdown",
   "metadata": {},
   "source": [
    "今回欲しいのは数量なので、`ぶどう.1`列と右隣の列だけを残して削除します。"
   ]
  },
  {
   "cell_type": "code",
   "execution_count": null,
   "metadata": {},
   "outputs": [],
   "source": [
    "second_grape_column_index = np.where(grape_consumption_df.columns == 'ぶどう.1')[0][0]\n",
    "\n",
    "grape_consumption_df = grape_consumption_df.iloc[:,second_grape_column_index:second_grape_column_index+2]\n",
    "\n",
    "grape_consumption_df.head()"
   ]
  },
  {
   "cell_type": "markdown",
   "metadata": {},
   "source": [
    "列名をそれぞれ`都市名`, `数量`に変更し、不必要な最初の２行も削除します。"
   ]
  },
  {
   "cell_type": "code",
   "execution_count": null,
   "metadata": {},
   "outputs": [],
   "source": [
    "grape_consumption_df.columns = ['都市名', '購入数量']\n",
    "\n",
    "grape_consumption_df = grape_consumption_df.iloc[2:]\n",
    "\n",
    "grape_consumption_df.head()"
   ]
  },
  {
   "cell_type": "markdown",
   "metadata": {},
   "source": [
    "データ数を確認します。\n",
    "\n",
    "都道府県数以上のデータ数がありますが、家計調査が都道府県庁所在市と政令指定都市５つ（川崎市，相模原市，浜松市，堺市及び北九州市）を対象にしているためです。"
   ]
  },
  {
   "cell_type": "code",
   "execution_count": null,
   "metadata": {},
   "outputs": [],
   "source": [
    "len(grape_consumption_df)"
   ]
  },
  {
   "cell_type": "markdown",
   "metadata": {},
   "source": [
    "どんな都市名があるか確認。"
   ]
  },
  {
   "cell_type": "code",
   "execution_count": null,
   "metadata": {},
   "outputs": [],
   "source": [
    "grape_consumption_df['都市名'].unique()"
   ]
  },
  {
   "cell_type": "markdown",
   "metadata": {},
   "source": [
    "各都道府県の収穫量と各都市での購入数量を結びつけられるよう、どの都市がどの都道府県にあるのかを識別する列が必要です。  \n",
    "そのため、今回は全国地方公共団体コードのデータを利用します。\n",
    "\n",
    "まずデータをロードします。"
   ]
  },
  {
   "cell_type": "code",
   "execution_count": null,
   "metadata": {},
   "outputs": [],
   "source": [
    "pref_df = pd.read_excel('data/000730858.xlsx')\n",
    "\n",
    "pref_df.head()"
   ]
  },
  {
   "cell_type": "markdown",
   "metadata": {},
   "source": [
    "データを加工します。\n",
    "\n",
    "1.コラム名にホワイトスペースが混じっていて指定しにくいので、すべてのホワイトスペースを除去。  \n",
    "2.`都道府県名（漢字）`、 `市区町村名（漢字）`以外の列は必要ないので削除。  \n",
    "3.`都道府県名（漢字）`、 `市区町村名（漢字）`をそれぞれ`都道府県名`、 `市区町村名`に変更。"
   ]
  },
  {
   "cell_type": "code",
   "execution_count": null,
   "metadata": {},
   "outputs": [],
   "source": [
    "pref_df.columns = list(map(lambda x: \"\".join(x.split()), pref_df.columns.values))\n",
    "\n",
    "pref_df = pref_df[['都道府県名（漢字）', '市区町村名（漢字）']]\n",
    "\n",
    "pref_df.columns = ['都道府県名', '市区町村名']\n",
    "\n",
    "pref_df.head()"
   ]
  },
  {
   "cell_type": "markdown",
   "metadata": {},
   "source": [
    "それではぶどう購入数量、都道府県名・市区町村名マッピングの２つのデータフレームを各データフレームのキーを指定しつつ結合します。\n",
    "\n",
    "ぶどう購入数量のデータが全て残るよう、左結合にします。"
   ]
  },
  {
   "cell_type": "code",
   "execution_count": null,
   "metadata": {},
   "outputs": [],
   "source": [
    "grape_consumption_with_pref_df = pd.merge(grape_consumption_df, pref_df, how='left',\n",
    "                                          left_on=\"都市名\", right_on=\"市区町村名\")\n",
    "\n",
    "grape_consumption_with_pref_df.head()"
   ]
  },
  {
   "cell_type": "markdown",
   "metadata": {},
   "source": [
    "新たに生成したデータフレームの`都道府県名`の列に欠損がないか確認。"
   ]
  },
  {
   "cell_type": "code",
   "execution_count": null,
   "metadata": {},
   "outputs": [],
   "source": [
    "grape_consumption_with_pref_df['都道府県名'].isna().sum()"
   ]
  },
  {
   "cell_type": "markdown",
   "metadata": {},
   "source": [
    "どのデータで欠損があるのか確認します。"
   ]
  },
  {
   "cell_type": "code",
   "execution_count": null,
   "metadata": {},
   "outputs": [],
   "source": [
    "grape_consumption_with_pref_df[grape_consumption_with_pref_df['都道府県名'].isna()]"
   ]
  },
  {
   "cell_type": "markdown",
   "metadata": {},
   "source": [
    "これは仕方ないので、欠損値を直接修正します。"
   ]
  },
  {
   "cell_type": "code",
   "execution_count": null,
   "metadata": {},
   "outputs": [],
   "source": [
    "grape_consumption_with_pref_df.loc[grape_consumption_with_pref_df['都市名'] == '東京都区部', '都道府県名'] \\\n",
    "    = '東京都'\n",
    "grape_consumption_with_pref_df.loc[grape_consumption_with_pref_df['都市名'] == '東京都区部', '市区町村名'] \\\n",
    "    = '東京都区部'\n",
    "\n",
    "grape_consumption_with_pref_df[grape_consumption_with_pref_df['都市名'] == '東京都区部']"
   ]
  },
  {
   "cell_type": "markdown",
   "metadata": {},
   "source": [
    "今度は`都道府県名`の重複を`value_counts()`で確認。\n",
    "\n",
    "すべての都道府県が揃っているかも確認します。"
   ]
  },
  {
   "cell_type": "code",
   "execution_count": null,
   "metadata": {},
   "outputs": [],
   "source": [
    "grape_consumption_with_pref_df['都道府県名'].value_counts()"
   ]
  },
  {
   "cell_type": "markdown",
   "metadata": {},
   "source": [
    "`都道府県名`の重複を解消するため、都道府県名でグループ化します。\n",
    "\n",
    "重複した都道府県は数値を平均し、`都道府県名`をインデックスから外しましょう。"
   ]
  },
  {
   "cell_type": "code",
   "execution_count": null,
   "metadata": {},
   "outputs": [],
   "source": [
    "grape_consumption_groupby_pref = grape_consumption_with_pref_df.groupby('都道府県名').mean().reset_index()\n",
    "\n",
    "grape_consumption_groupby_pref.head()"
   ]
  },
  {
   "cell_type": "markdown",
   "metadata": {},
   "source": [
    "加工したデータを棒グラフで表示してみましょう。\n",
    "\n",
    "`都道府県名`列の順序が狂ってしまっているので、先ほどと同じにカテゴリ型に変換して順序を整えます。"
   ]
  },
  {
   "cell_type": "code",
   "execution_count": null,
   "metadata": {},
   "outputs": [],
   "source": [
    "# 都道府県名の順序を全国地方公共団体コードのデータから抽出\n",
    "pref_order = pref_df[pref_df['市区町村名'].isna()]['都道府県名'].tolist()\n",
    "\n",
    "grape_consumption_groupby_pref['都道府県名'] = grape_consumption_groupby_pref['都道府県名'].astype('category')\n",
    "\n",
    "grape_consumption_groupby_pref['都道府県名'] = grape_consumption_groupby_pref['都道府県名'] \\\n",
    "                                                .cat.set_categories(pref_order)\n",
    "\n",
    "grape_consumption_groupby_pref['都道府県名'].cat.categories"
   ]
  },
  {
   "cell_type": "markdown",
   "metadata": {},
   "source": [
    "グラフを表示してみましょう。\n",
    "\n",
    "どんなことが読み取れますか？"
   ]
  },
  {
   "cell_type": "code",
   "execution_count": null,
   "metadata": {},
   "outputs": [],
   "source": [
    "fig, ax = plt.subplots(figsize=(10, 6))\n",
    "\n",
    "sns.barplot(x='都道府県名', y='購入数量', data=grape_consumption_groupby_pref)\n",
    "ax.tick_params('x', labelrotation=90)"
   ]
  },
  {
   "cell_type": "markdown",
   "metadata": {},
   "source": [
    "グループ分けしたぶどう購入数量と結合するための、ブドウ収穫量のデータフレームを作成します。\n",
    "\n",
    "ぶどう購入数量データは2018〜2020年の平均ですから、ブドウ収穫量もそれに合わせます。"
   ]
  },
  {
   "cell_type": "code",
   "execution_count": null,
   "metadata": {},
   "outputs": [],
   "source": [
    "grape_yield_df = grape_df.query('2018 <= 年度 <= 2020').groupby('都道府県').agg({'収穫量': 'mean'})\n",
    "\n",
    "grape_yield_df.head()"
   ]
  },
  {
   "cell_type": "markdown",
   "metadata": {},
   "source": [
    "都道府県でグループ分けしたぶどう購入数量のデータフレームは「〇〇都」「〇〇府」「〇〇県」となっていますので、末尾の文字を取り除きます。"
   ]
  },
  {
   "cell_type": "code",
   "execution_count": null,
   "metadata": {},
   "outputs": [],
   "source": [
    "grape_consumption_groupby_pref['都道府県名'] = grape_consumption_groupby_pref['都道府県名'] \\\n",
    "                                              .str.extract('(.+)[都府県]$') \\\n",
    "                                              .fillna('北海道')"
   ]
  },
  {
   "cell_type": "markdown",
   "metadata": {},
   "source": [
    "ぶどう収穫量、都道府県でグループ分けしたぶどう購入数量の２つのデータフレームを各データフレームのキーを指定しつつ結合します。\n",
    "\n",
    "各データフレームにすべての都道府県のデータが１件ずつありますので内部結合を指定します。"
   ]
  },
  {
   "cell_type": "code",
   "execution_count": null,
   "metadata": {},
   "outputs": [],
   "source": [
    "grape_yield_consumption_df = pd.merge(grape_yield_df, grape_consumption_groupby_pref, how='inner',\n",
    "                                          left_on=\"都道府県\", right_on=\"都道府県名\")\n",
    "\n",
    "grape_yield_consumption_df.head(10)"
   ]
  },
  {
   "cell_type": "markdown",
   "metadata": {},
   "source": [
    "データを回帰直線付きの散布図で表示します。\n",
    "\n",
    "どんなことが読み取れますか？"
   ]
  },
  {
   "cell_type": "code",
   "execution_count": null,
   "metadata": {},
   "outputs": [],
   "source": [
    "fig, ax = plt.subplots(figsize=(18, 10))\n",
    "\n",
    "sns.regplot(x='収穫量', y='購入数量', data=grape_yield_consumption_df, ci=0)\n",
    "\n",
    "# 各点にラベルを追加\n",
    "for row_num in range(0, grape_yield_consumption_df.shape[0]):\n",
    "    ax.text(grape_yield_consumption_df['収穫量'][row_num],\n",
    "            grape_yield_consumption_df['購入数量'][row_num], \n",
    "            grape_yield_consumption_df['都道府県名'][row_num],\n",
    "            horizontalalignment='left', \n",
    "            size='small',\n",
    "            color='gray',\n",
    "            weight='normal')"
   ]
  },
  {
   "cell_type": "code",
   "execution_count": null,
   "metadata": {},
   "outputs": [],
   "source": []
  }
 ],
 "metadata": {
  "interpreter": {
   "hash": "d109c1022d0269bfeb1214b0bec2187ee8bc4e794779a7e71ed964fc39a480b6"
  },
  "kernelspec": {
   "display_name": "Python 3 (ipykernel)",
   "language": "python",
   "name": "python3"
  },
  "language_info": {
   "codemirror_mode": {
    "name": "ipython",
    "version": 3
   },
   "file_extension": ".py",
   "mimetype": "text/x-python",
   "name": "python",
   "nbconvert_exporter": "python",
   "pygments_lexer": "ipython3",
   "version": "3.9.9"
  }
 },
 "nbformat": 4,
 "nbformat_minor": 2
}
