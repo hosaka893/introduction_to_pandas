{
 "cells": [
  {
   "cell_type": "markdown",
   "metadata": {},
   "source": [
    "### 0. Advance Preparation\n",
    "\n",
    "Please download the datasets from the site below and put them in the `data` directory in the directory in which this notebooks is.\n",
    "\n",
    "__New York City Airbnb Open Data__  \n",
    "  URL:  \n",
    "  ・https://www.kaggle.com/dgomonov/new-york-city-airbnb-open-data/  \n",
    "  DATA:  \n",
    "  ・AB_NYC_2019.csv"
   ]
  },
  {
   "cell_type": "code",
   "execution_count": null,
   "metadata": {},
   "outputs": [],
   "source": [
    "%matplotlib inline\n",
    "\n",
    "import branca.colormap as cm\n",
    "import folium\n",
    "from folium.plugins import HeatMap\n",
    "import pandas as pd\n",
    "import seaborn as sns"
   ]
  },
  {
   "cell_type": "code",
   "execution_count": null,
   "metadata": {},
   "outputs": [],
   "source": []
  },
  {
   "cell_type": "markdown",
   "metadata": {},
   "source": [
    "### 1. Selecting rows and columns by  integer locations"
   ]
  },
  {
   "cell_type": "markdown",
   "metadata": {},
   "source": [
    "Read the Airbnb listings data file into DataFrame."
   ]
  },
  {
   "cell_type": "code",
   "execution_count": null,
   "metadata": {},
   "outputs": [],
   "source": [
    "ab_listings_df = pd.read_csv('data/AB_NYC_2019.csv')\n",
    "\n",
    "len(ab_listings_df)"
   ]
  },
  {
   "cell_type": "markdown",
   "metadata": {},
   "source": [
    "Check the contents."
   ]
  },
  {
   "cell_type": "code",
   "execution_count": null,
   "metadata": {},
   "outputs": [],
   "source": [
    "ab_listings_df.head()"
   ]
  },
  {
   "cell_type": "markdown",
   "metadata": {},
   "source": [
    "Check the data types and find any missing values."
   ]
  },
  {
   "cell_type": "code",
   "execution_count": null,
   "metadata": {},
   "outputs": [],
   "source": [
    "ab_listings_df.info()"
   ]
  },
  {
   "cell_type": "markdown",
   "metadata": {},
   "source": [
    "#### 1-1. Selecting rows and columns by integer locations\n",
    "Use `pandas.DataFrame.iloc` for selecting specific rows or columns by integer locations.  \n",
    "Since `pandas.DataFrame.iloc` returns an indexer, use square brackets to specify integer locations."
   ]
  },
  {
   "cell_type": "markdown",
   "metadata": {},
   "source": [
    "Get the third row."
   ]
  },
  {
   "cell_type": "code",
   "execution_count": null,
   "metadata": {},
   "outputs": [],
   "source": [
    "ab_listings_df.iloc[2] # 番号は0から始まる"
   ]
  },
  {
   "cell_type": "markdown",
   "metadata": {},
   "source": [
    "Get the second, third, fourth rows.  \n",
    "You need specify the locations like \\[start:end+1\\]."
   ]
  },
  {
   "cell_type": "code",
   "execution_count": null,
   "metadata": {},
   "outputs": [],
   "source": [
    "ab_listings_df.iloc[1:4] # 番号は0から始まる"
   ]
  },
  {
   "cell_type": "markdown",
   "metadata": {},
   "source": [
    "Get only the sixth column.  \n",
    "When you don't need to specify any rows, just put \":\" without numbers."
   ]
  },
  {
   "cell_type": "code",
   "execution_count": null,
   "metadata": {},
   "outputs": [],
   "source": [
    "ab_listings_df.iloc[:,5] # 番号は0から始まる"
   ]
  },
  {
   "cell_type": "markdown",
   "metadata": {},
   "source": [
    "#### 1-2. Selecting rows and columns by labels\n",
    "Use `pandas.DataFrame.loc` for selecting specific rows or columns by labels.  \n",
    "Since `pandas.DataFrame.loc` returns an indexer, use square brackets to specify labels."
   ]
  },
  {
   "cell_type": "markdown",
   "metadata": {},
   "source": [
    "To have the DataFrame get row labels, call `groupby()` with `neighbourhood` as an argument."
   ]
  },
  {
   "cell_type": "code",
   "execution_count": null,
   "metadata": {},
   "outputs": [],
   "source": [
    "ab_listings_group_by_neighbourhood_df = ab_listings_df.groupby('neighbourhood').mean().round(2) # とりあえず平均。\n",
    "\n",
    "ab_listings_group_by_neighbourhood_df.head()"
   ]
  },
  {
   "cell_type": "markdown",
   "metadata": {},
   "source": [
    "Get rows by specifying a row label."
   ]
  },
  {
   "cell_type": "code",
   "execution_count": null,
   "metadata": {},
   "outputs": [],
   "source": [
    "ab_listings_group_by_neighbourhood_df.loc['Arden Heights']"
   ]
  },
  {
   "cell_type": "markdown",
   "metadata": {},
   "source": [
    "Select columns by specifying a column label.  \n",
    "When you don't need to specify any rows, just put \":\" without numbers."
   ]
  },
  {
   "cell_type": "code",
   "execution_count": null,
   "metadata": {},
   "outputs": [],
   "source": [
    "ab_listings_df.loc[:,'neighbourhood']"
   ]
  },
  {
   "cell_type": "markdown",
   "metadata": {},
   "source": [
    "When you select columns by specifying labels, you can omit `loc`."
   ]
  },
  {
   "cell_type": "code",
   "execution_count": null,
   "metadata": {},
   "outputs": [],
   "source": [
    "ab_listings_df['neighbourhood']"
   ]
  },
  {
   "cell_type": "markdown",
   "metadata": {},
   "source": [
    "### 2. Selecting rows and columns by conditions"
   ]
  },
  {
   "cell_type": "markdown",
   "metadata": {},
   "source": [
    "When you compare a column values to an integer, for instance, use the less than operator against `price` column, you'll get a `Series` object which has rows of the same number as the DataFrame does."
   ]
  },
  {
   "cell_type": "code",
   "execution_count": null,
   "metadata": {},
   "outputs": [],
   "source": [
    "price_under_100_bools = ab_listings_df['price'] < 100\n",
    "\n",
    "price_under_100_bools"
   ]
  },
  {
   "cell_type": "markdown",
   "metadata": {},
   "source": [
    "Put the variable you've got into the brackets after the DataFrame, you'll get only rows whose corresponding rows in the variable have `True`."
   ]
  },
  {
   "cell_type": "code",
   "execution_count": null,
   "metadata": {},
   "outputs": [],
   "source": [
    "price_under_100_df = ab_listings_df[price_under_100_bools]\n",
    "\n",
    "price_under_100_df"
   ]
  },
  {
   "cell_type": "markdown",
   "metadata": {},
   "source": [
    "Make sure that the max price of the newly created DataFrame's `price` column values is less than 100."
   ]
  },
  {
   "cell_type": "code",
   "execution_count": null,
   "metadata": {},
   "outputs": [],
   "source": [
    "price_under_100_df['price'].max()"
   ]
  },
  {
   "cell_type": "markdown",
   "metadata": {},
   "source": [
    "You'll get the same result with `pandas.DataFrame.loc`."
   ]
  },
  {
   "cell_type": "code",
   "execution_count": null,
   "metadata": {},
   "outputs": [],
   "source": [
    "price_under_100_loc_df = ab_listings_df.loc[price_under_100_bools]\n",
    "\n",
    "price_under_100_loc_df"
   ]
  },
  {
   "cell_type": "markdown",
   "metadata": {},
   "source": [
    "with `pandas.DataFrame.query()`, you can use a SQL-like syntax."
   ]
  },
  {
   "cell_type": "code",
   "execution_count": null,
   "metadata": {},
   "outputs": [],
   "source": [
    "ab_listings_df.query('host_name == \"LisaRoxanne\"')"
   ]
  },
  {
   "cell_type": "markdown",
   "metadata": {},
   "source": [
    "It's easy to specify a range with `query()`."
   ]
  },
  {
   "cell_type": "code",
   "execution_count": null,
   "metadata": {},
   "outputs": [],
   "source": [
    "ab_listings_df.query('365 < minimum_nights < 500')"
   ]
  },
  {
   "cell_type": "markdown",
   "metadata": {},
   "source": [
    "Let's try specifying a range without `query()` and find out what a hassle that can be."
   ]
  },
  {
   "cell_type": "code",
   "execution_count": null,
   "metadata": {},
   "outputs": [],
   "source": [
    "### Let’s try!! ###"
   ]
  },
  {
   "cell_type": "code",
   "execution_count": null,
   "metadata": {},
   "outputs": [],
   "source": []
  },
  {
   "cell_type": "markdown",
   "metadata": {},
   "source": [
    "### 3. Selecting randomly"
   ]
  },
  {
   "cell_type": "markdown",
   "metadata": {},
   "source": [
    "You can easily select random sample with `pandas.DataFrame.sample()`.\n",
    "\n",
    "Here, we pass 42 for the random_state argument so that we get the same results everytime we call it.\n",
    "\n",
    "__Phrases from The Hitchhiker's Guide to the Galaxy__  \n",
    "https://en.wikipedia.org/wiki/Phrases_from_The_Hitchhiker%27s_Guide_to_the_Galaxy"
   ]
  },
  {
   "cell_type": "code",
   "execution_count": null,
   "metadata": {},
   "outputs": [],
   "source": [
    "ab_listings_sample_df = ab_listings_df.sample(frac=0.2, random_state=42) # 全体の20%を抽出\n",
    "\n",
    "len(ab_listings_sample_df) / len(ab_listings_df)"
   ]
  },
  {
   "cell_type": "markdown",
   "metadata": {},
   "source": [
    "In some cases, `pandas.DataFrame.sample()` might have you get data sets improperly.\n",
    "\n",
    "For example, a host whose `host_id` is 2787 has multiple listings, and it might get only part of those.  \n",
    "In that case, it would be difficult to do an analyze like how many listings each host has."
   ]
  },
  {
   "cell_type": "code",
   "execution_count": null,
   "metadata": {},
   "outputs": [],
   "source": [
    "print(\"ホスト（host_id=2787）の物件数\")\n",
    "\n",
    "print(\"・抽出前: \", len(ab_listings_df.query('host_id == 2787')), \"件\")\n",
    "\n",
    "print(\"・抽出後: \", len(ab_listings_sample_df.query('host_id == 2787')), \"件\")"
   ]
  },
  {
   "cell_type": "markdown",
   "metadata": {},
   "source": [
    "A solution for that might be to call it by the host.\n",
    "\n",
    "The downside of this solution is that you wouldn't get data sets of the exact size you wanted."
   ]
  },
  {
   "cell_type": "code",
   "execution_count": null,
   "metadata": {},
   "outputs": [],
   "source": [
    "host_id_sample = pd.Series(ab_listings_df['host_id'].unique()).sample(frac=0.2, random_state=42)\n",
    "\n",
    "ab_listings_sample_revised_df = ab_listings_df.query('host_id in @host_id_sample') # @マークで変数にアクセス可\n",
    "\n",
    "ab_listings_sample_revised_df.head()"
   ]
  },
  {
   "cell_type": "markdown",
   "metadata": {},
   "source": [
    "Make sure that the data you've got has become approximately 20% of its original size."
   ]
  },
  {
   "cell_type": "code",
   "execution_count": null,
   "metadata": {},
   "outputs": [],
   "source": [
    "len(ab_listings_sample_revised_df) / len(ab_listings_df)"
   ]
  },
  {
   "cell_type": "markdown",
   "metadata": {},
   "source": [
    "Check how many listings in the data the host whose `host_id` is 2787 has.\n",
    "\n",
    "It should be equal to the original number or zero.\n",
    "\n",
    "Whatever the `random_state` argument is, it should be either of them."
   ]
  },
  {
   "cell_type": "code",
   "execution_count": null,
   "metadata": {
    "scrolled": true
   },
   "outputs": [],
   "source": [
    "print(\"ホスト（host_id=2787）の物件数\")\n",
    "\n",
    "print(\"・抽出前: \", len(ab_listings_df.query('host_id == 2787')), \"件\")\n",
    "\n",
    "print(\"・抽出後: \", len(ab_listings_sample_revised_df.query('host_id == 2787')), \"件\")"
   ]
  },
  {
   "cell_type": "code",
   "execution_count": null,
   "metadata": {},
   "outputs": [],
   "source": []
  },
  {
   "cell_type": "markdown",
   "metadata": {},
   "source": [
    "### 4.  visualizing data on a map\n",
    "\n",
    "Since the data sets have coodinates, we put them on a map."
   ]
  },
  {
   "cell_type": "markdown",
   "metadata": {},
   "source": [
    "First, use `folium.plugins.HeatMap` and see how spread they are, because the size is too large to put them all.\n",
    "\n",
    "Do you find anything interesting?"
   ]
  },
  {
   "cell_type": "code",
   "execution_count": null,
   "metadata": {},
   "outputs": [],
   "source": [
    "# ニューヨークの座標\n",
    "new_york_city_coordinates = [40.7128, -74.0060]\n",
    "\n",
    "# 全データの座標を抽出し、リストに変換\n",
    "ab_listings_coords = ab_listings_df[['latitude', 'longitude']].values.tolist()\n",
    "\n",
    "# 地図を描画\n",
    "map = folium.Map(location=new_york_city_coordinates, zoom_start=9.5)\n",
    "\n",
    "HeatMap(ab_listings_coords, radius=5, blur=5).add_to(map)\n",
    "\n",
    "map"
   ]
  },
  {
   "cell_type": "markdown",
   "metadata": {},
   "source": [
    "Next, randomly select 500 rows from them, and put each of them as a circle which has a color according to its price.\n",
    "\n",
    "To see their distributions, create a histogram."
   ]
  },
  {
   "cell_type": "code",
   "execution_count": null,
   "metadata": {},
   "outputs": [],
   "source": [
    "sns.histplot(ab_listings_df['price'], kde=False)"
   ]
  },
  {
   "cell_type": "markdown",
   "metadata": {},
   "source": [
    "They seems to have some extreme outliers, so eliminate the data whose `price` values are equal to or more than 1,500 dollars and try again. "
   ]
  },
  {
   "cell_type": "code",
   "execution_count": null,
   "metadata": {},
   "outputs": [],
   "source": [
    "ab_listings_no_too_expensive_df = ab_listings_df[ab_listings_df['price'] < 1500]\n",
    "\n",
    "sns.histplot(ab_listings_no_too_expensive_df['price'], kde=False)"
   ]
  },
  {
   "cell_type": "markdown",
   "metadata": {},
   "source": [
    "This time, We are going to extract 500 rows randomly and create another histogram, calling `sample()` with `n=500` as an argument.\n",
    "\n",
    "Make sure that it has a similar shape."
   ]
  },
  {
   "cell_type": "code",
   "execution_count": null,
   "metadata": {},
   "outputs": [],
   "source": [
    "ab_listings_no_too_expensive_sample_df = ab_listings_no_too_expensive_df.sample(n=500)\n",
    "\n",
    "sns.histplot(ab_listings_no_too_expensive_sample_df['price'], kde=False)"
   ]
  },
  {
   "cell_type": "markdown",
   "metadata": {},
   "source": [
    "Put circles on a map.\n",
    "\n",
    "Do you find anything interesting?"
   ]
  },
  {
   "cell_type": "code",
   "execution_count": null,
   "metadata": {},
   "outputs": [],
   "source": [
    "# ヒストグラムの最大・最小を見ながらカラーマップを設定\n",
    "colormap = cm.LinearColormap(colors=['blue','red'], vmin=0,vmax=1000)\n",
    "\n",
    "map = folium.Map(location=new_york_city_coordinates, zoom_start=9.5)\n",
    "\n",
    "for index, row in ab_listings_no_too_expensive_sample_df.iterrows():\n",
    "    location = (row['latitude'], row['longitude'])\n",
    "    color = colormap(row['price'])\n",
    "    popup_message_html = f\"<p>\\\"{row['name']}\\\"</p><p>host: {row['host_name']}<p>price: ${row['price']:,}</p></p>\"\n",
    "    popup = folium.Popup(folium.IFrame(popup_message_html), min_width=400, max_width=400)\n",
    "\n",
    "    folium.Circle(location=location,\n",
    "                  radius=10,\n",
    "                  color=color,\n",
    "                  fill=True,\n",
    "                  fill_opacity=1,\n",
    "                  popup=popup).add_to(map)\n",
    "\n",
    "map"
   ]
  },
  {
   "cell_type": "code",
   "execution_count": null,
   "metadata": {},
   "outputs": [],
   "source": []
  }
 ],
 "metadata": {
  "interpreter": {
   "hash": "d109c1022d0269bfeb1214b0bec2187ee8bc4e794779a7e71ed964fc39a480b6"
  },
  "kernelspec": {
   "display_name": "Python 3 (ipykernel)",
   "language": "python",
   "name": "python3"
  },
  "language_info": {
   "codemirror_mode": {
    "name": "ipython",
    "version": 3
   },
   "file_extension": ".py",
   "mimetype": "text/x-python",
   "name": "python",
   "nbconvert_exporter": "python",
   "pygments_lexer": "ipython3",
   "version": "3.9.9"
  }
 },
 "nbformat": 4,
 "nbformat_minor": 2
}
