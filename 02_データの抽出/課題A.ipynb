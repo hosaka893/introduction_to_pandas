{
 "cells": [
  {
   "cell_type": "markdown",
   "metadata": {},
   "source": [
    "### 0. 事前準備\n",
    "\n",
    "以下のデータを取得して、このノートブックと同じディレクトリにある`data`ディレクトリに配置します。\n",
    "\n",
    "__New York City Airbnb Open Data__  \n",
    "  URL:  \n",
    "  ・https://www.kaggle.com/dgomonov/new-york-city-airbnb-open-data/  \n",
    "  DATA:  \n",
    "  ・AB_NYC_2019.csv"
   ]
  },
  {
   "cell_type": "code",
   "execution_count": null,
   "metadata": {},
   "outputs": [],
   "source": [
    "%matplotlib inline\n",
    "\n",
    "import branca.colormap as cm\n",
    "import folium\n",
    "from folium.plugins import HeatMap\n",
    "import pandas as pd\n",
    "import seaborn as sns"
   ]
  },
  {
   "cell_type": "code",
   "execution_count": null,
   "metadata": {},
   "outputs": [],
   "source": []
  },
  {
   "cell_type": "markdown",
   "metadata": {},
   "source": [
    "### 1. 行、列の指定による抽出"
   ]
  },
  {
   "cell_type": "markdown",
   "metadata": {},
   "source": [
    "Airbnbの掲載データをロード。"
   ]
  },
  {
   "cell_type": "code",
   "execution_count": null,
   "metadata": {},
   "outputs": [],
   "source": [
    "ab_listings_df = pd.read_csv('data/AB_NYC_2019.csv')\n",
    "\n",
    "len(ab_listings_df)"
   ]
  },
  {
   "cell_type": "markdown",
   "metadata": {},
   "source": [
    "データの中身を確認。"
   ]
  },
  {
   "cell_type": "code",
   "execution_count": null,
   "metadata": {},
   "outputs": [],
   "source": [
    "ab_listings_df.head()"
   ]
  },
  {
   "cell_type": "markdown",
   "metadata": {},
   "source": [
    "データの型と欠損を確認。"
   ]
  },
  {
   "cell_type": "code",
   "execution_count": null,
   "metadata": {},
   "outputs": [],
   "source": [
    "ab_listings_df.info()"
   ]
  },
  {
   "cell_type": "markdown",
   "metadata": {},
   "source": [
    "#### 1-1. 行番号、列番号の指定\n",
    "行番号、列番号の指定には`pandas.DataFrame.iloc`属性を利用。  \n",
    "`pandas.DataFrame.iloc`はメソッドではないので、角括弧に番号を指定します。"
   ]
  },
  {
   "cell_type": "markdown",
   "metadata": {},
   "source": [
    "３行目を抽出。"
   ]
  },
  {
   "cell_type": "code",
   "execution_count": null,
   "metadata": {},
   "outputs": [],
   "source": [
    "ab_listings_df.iloc[2] # 番号は0から始まる"
   ]
  },
  {
   "cell_type": "markdown",
   "metadata": {},
   "source": [
    "2〜4行目を抽出。  \n",
    "「（始まりの番号）:（終わりの番号+1）」と指定。"
   ]
  },
  {
   "cell_type": "code",
   "execution_count": null,
   "metadata": {},
   "outputs": [],
   "source": [
    "ab_listings_df.iloc[1:4] # 番号は0から始まる"
   ]
  },
  {
   "cell_type": "markdown",
   "metadata": {},
   "source": [
    "6列目を抽出。  \n",
    "行を指定しない場合は「:」（コロン）とします。"
   ]
  },
  {
   "cell_type": "code",
   "execution_count": null,
   "metadata": {},
   "outputs": [],
   "source": [
    "ab_listings_df.iloc[:,5] # 番号は0から始まる"
   ]
  },
  {
   "cell_type": "markdown",
   "metadata": {},
   "source": [
    "#### 1-2. 行ラベル、列ラベルの指定\n",
    "行番号、列番号の指定には`pandas.DataFrame.loc`属性を利用。  \n",
    "`pandas.DataFrame.loc`もメソッドではないので、角括弧に番号を指定します。"
   ]
  },
  {
   "cell_type": "markdown",
   "metadata": {},
   "source": [
    "行ラベルを作るために`neighbourhood`でグループ分けします。"
   ]
  },
  {
   "cell_type": "code",
   "execution_count": null,
   "metadata": {},
   "outputs": [],
   "source": [
    "ab_listings_group_by_neighbourhood_df = ab_listings_df.groupby('neighbourhood').mean().round(2) # とりあえず平均。\n",
    "\n",
    "ab_listings_group_by_neighbourhood_df.head()"
   ]
  },
  {
   "cell_type": "markdown",
   "metadata": {},
   "source": [
    "任意の行ラベルで抽出。"
   ]
  },
  {
   "cell_type": "code",
   "execution_count": null,
   "metadata": {},
   "outputs": [],
   "source": [
    "ab_listings_group_by_neighbourhood_df.loc['Arden Heights']"
   ]
  },
  {
   "cell_type": "markdown",
   "metadata": {},
   "source": [
    "任意の列ラベルで抽出。  \n",
    "行を指定しない場合は「:」を置きます。"
   ]
  },
  {
   "cell_type": "code",
   "execution_count": null,
   "metadata": {},
   "outputs": [],
   "source": [
    "ab_listings_df.loc[:,'neighbourhood']"
   ]
  },
  {
   "cell_type": "markdown",
   "metadata": {},
   "source": [
    "列ラベルで抽出する場合は、`loc`を使わずにそのまま角括弧で指定できます。"
   ]
  },
  {
   "cell_type": "code",
   "execution_count": null,
   "metadata": {},
   "outputs": [],
   "source": [
    "ab_listings_df['neighbourhood']"
   ]
  },
  {
   "cell_type": "markdown",
   "metadata": {},
   "source": [
    "### 2. 条件指定による抽出"
   ]
  },
  {
   "cell_type": "markdown",
   "metadata": {},
   "source": [
    "たとえば、`price`列に対して「100未満」という比較をすると、データの行数分のブール値が返ってきます。"
   ]
  },
  {
   "cell_type": "code",
   "execution_count": null,
   "metadata": {},
   "outputs": [],
   "source": [
    "price_under_100_bools = ab_listings_df['price'] < 100\n",
    "\n",
    "price_under_100_bools"
   ]
  },
  {
   "cell_type": "markdown",
   "metadata": {},
   "source": [
    "これを元のデータフレームの角括弧に指定すると、Trueに該当する行のみが抽出されます。"
   ]
  },
  {
   "cell_type": "code",
   "execution_count": null,
   "metadata": {},
   "outputs": [],
   "source": [
    "price_under_100_df = ab_listings_df[price_under_100_bools]\n",
    "\n",
    "price_under_100_df"
   ]
  },
  {
   "cell_type": "markdown",
   "metadata": {},
   "source": [
    "価格の最大値が100ドル以下であることを確認。"
   ]
  },
  {
   "cell_type": "code",
   "execution_count": null,
   "metadata": {},
   "outputs": [],
   "source": [
    "price_under_100_df['price'].max()"
   ]
  },
  {
   "cell_type": "markdown",
   "metadata": {},
   "source": [
    "`pandas.DataFrame.loc`でも同じ結果が得られます。"
   ]
  },
  {
   "cell_type": "code",
   "execution_count": null,
   "metadata": {},
   "outputs": [],
   "source": [
    "price_under_100_loc_df = ab_listings_df.loc[price_under_100_bools]\n",
    "\n",
    "price_under_100_loc_df"
   ]
  },
  {
   "cell_type": "markdown",
   "metadata": {},
   "source": [
    "`pandas.DataFrame.query()`を利用することで、SQLのように書くこともできます。"
   ]
  },
  {
   "cell_type": "code",
   "execution_count": null,
   "metadata": {},
   "outputs": [],
   "source": [
    "ab_listings_df.query('host_name == \"LisaRoxanne\"')"
   ]
  },
  {
   "cell_type": "markdown",
   "metadata": {},
   "source": [
    "範囲の指定もできます。"
   ]
  },
  {
   "cell_type": "code",
   "execution_count": null,
   "metadata": {},
   "outputs": [],
   "source": [
    "ab_listings_df.query('365 < minimum_nights < 500')"
   ]
  },
  {
   "cell_type": "markdown",
   "metadata": {},
   "source": [
    "これを`query()`を使わないでやると、なかなか面倒です。"
   ]
  },
  {
   "cell_type": "code",
   "execution_count": null,
   "metadata": {},
   "outputs": [],
   "source": [
    "### チャレンジしてみよう！！ ###"
   ]
  },
  {
   "cell_type": "code",
   "execution_count": null,
   "metadata": {},
   "outputs": [],
   "source": []
  },
  {
   "cell_type": "markdown",
   "metadata": {},
   "source": [
    "### 3. ランダム抽出"
   ]
  },
  {
   "cell_type": "markdown",
   "metadata": {},
   "source": [
    "ランダム抽出は`pandas.DataFrame.sample()`を使えば簡単です。\n",
    "\n",
    "ここでは説明しやすいよう、毎回同じ結果となるように`random_state`を指定してあります。\n",
    "\n",
    "参考）  \n",
    "生命、宇宙、そして万物についての究極の疑問の答え  \n",
    "https://ja.wikipedia.org/wiki/生命、宇宙、そして万物についての究極の疑問の答え"
   ]
  },
  {
   "cell_type": "code",
   "execution_count": null,
   "metadata": {},
   "outputs": [],
   "source": [
    "ab_listings_sample_df = ab_listings_df.sample(frac=0.2, random_state=42) # 全体の20%を抽出\n",
    "\n",
    "len(ab_listings_sample_df) / len(ab_listings_df)"
   ]
  },
  {
   "cell_type": "markdown",
   "metadata": {},
   "source": [
    "ただし、単純に`pandas.DataFrame.sample()`で抽出してしまうと問題がある場合もあります。\n",
    "\n",
    "たとえばあるホスト（`host_id`=2787）は複数の物件を掲載していますが、その中の一部しか抽出されません。  \n",
    "この場合、ホストあたりの物件数に焦点を当てた分析が正しくおこなえません。"
   ]
  },
  {
   "cell_type": "code",
   "execution_count": null,
   "metadata": {},
   "outputs": [],
   "source": [
    "print(\"ホスト（host_id=2787）の物件数\")\n",
    "\n",
    "print(\"・抽出前: \", len(ab_listings_df.query('host_id == 2787')), \"件\")\n",
    "\n",
    "print(\"・抽出後: \", len(ab_listings_sample_df.query('host_id == 2787')), \"件\")"
   ]
  },
  {
   "cell_type": "markdown",
   "metadata": {},
   "source": [
    "この場合、ホスト単位でランダム抽出をおこないます。\n",
    " \n",
    "ただし、最終的に抽出される件数が若干ずれる可能性があります。"
   ]
  },
  {
   "cell_type": "code",
   "execution_count": null,
   "metadata": {},
   "outputs": [],
   "source": [
    "host_id_sample = pd.Series(ab_listings_df['host_id'].unique()).sample(frac=0.2, random_state=42)\n",
    "\n",
    "ab_listings_sample_revised_df = ab_listings_df.query('host_id in @host_id_sample') # @マークで変数にアクセス可\n",
    "\n",
    "ab_listings_sample_revised_df.head()"
   ]
  },
  {
   "cell_type": "markdown",
   "metadata": {},
   "source": [
    "データ数がおおよそ20%になっていることを確認。"
   ]
  },
  {
   "cell_type": "code",
   "execution_count": null,
   "metadata": {},
   "outputs": [],
   "source": [
    "len(ab_listings_sample_revised_df) / len(ab_listings_df)"
   ]
  },
  {
   "cell_type": "markdown",
   "metadata": {},
   "source": [
    "先ほどのホスト（`host_id`=2787）の物件数を確認します。  \n",
    "全件か、0件になっていれば成功です。\n",
    "\n",
    "`sample()`の引数`random_state`を数字を変えてもどちらかになるはずです。"
   ]
  },
  {
   "cell_type": "code",
   "execution_count": null,
   "metadata": {
    "scrolled": true
   },
   "outputs": [],
   "source": [
    "print(\"ホスト（host_id=2787）の物件数\")\n",
    "\n",
    "print(\"・抽出前: \", len(ab_listings_df.query('host_id == 2787')), \"件\")\n",
    "\n",
    "print(\"・抽出後: \", len(ab_listings_sample_revised_df.query('host_id == 2787')), \"件\")"
   ]
  },
  {
   "cell_type": "code",
   "execution_count": null,
   "metadata": {},
   "outputs": [],
   "source": []
  },
  {
   "cell_type": "markdown",
   "metadata": {},
   "source": [
    "### 4. 地図に表示\n",
    "せっかく緯度経度があるので地図上にデータを表示してみます。"
   ]
  },
  {
   "cell_type": "markdown",
   "metadata": {},
   "source": [
    "まず、件数が多いので、`folium.plugins.HeatMap`を使って分布を確認します。   \n",
    "どんなことが読み取れますか？"
   ]
  },
  {
   "cell_type": "code",
   "execution_count": null,
   "metadata": {},
   "outputs": [],
   "source": [
    "# ニューヨークの座標\n",
    "new_york_city_coordinates = [40.7128, -74.0060]\n",
    "\n",
    "# 全データの座標を抽出し、リストに変換\n",
    "ab_listings_coords = ab_listings_df[['latitude', 'longitude']].values.tolist()\n",
    "\n",
    "# 地図を描画\n",
    "m = folium.Map(location=new_york_city_coordinates, zoom_start=9.5)\n",
    "\n",
    "HeatMap(ab_listings_coords, radius=5, blur=5).add_to(m)\n",
    "\n",
    "m"
   ]
  },
  {
   "cell_type": "markdown",
   "metadata": {},
   "source": [
    "次は任意の500件を抽出し、それぞれの座標上に価格で色分けした円を描きます。\n",
    "\n",
    "まずヒストグラムで価格の分布を確認。"
   ]
  },
  {
   "cell_type": "code",
   "execution_count": null,
   "metadata": {},
   "outputs": [],
   "source": [
    "sns.histplot(ab_listings_df['price'], kde=False)"
   ]
  },
  {
   "cell_type": "markdown",
   "metadata": {},
   "source": [
    "極端な外れ値があるようなので、1,500ドル未満のみを抽出してもう一度確認。"
   ]
  },
  {
   "cell_type": "code",
   "execution_count": null,
   "metadata": {},
   "outputs": [],
   "source": [
    "ab_listings_no_too_expensive_df = ab_listings_df[ab_listings_df['price'] < 1500]\n",
    "\n",
    "sns.histplot(ab_listings_no_too_expensive_df['price'], kde=False)"
   ]
  },
  {
   "cell_type": "markdown",
   "metadata": {},
   "source": [
    "今度は500件をランダム抽出して分布を確認。  \n",
    "`sample()`に引数`n=500`を指定します。\n",
    "\n",
    "分布が大きく変わっていなければOKです。"
   ]
  },
  {
   "cell_type": "code",
   "execution_count": null,
   "metadata": {},
   "outputs": [],
   "source": [
    "ab_listings_no_too_expensive_sample_df = ab_listings_no_too_expensive_df.sample(n=500)\n",
    "\n",
    "sns.histplot(ab_listings_no_too_expensive_sample_df['price'], kde=False)"
   ]
  },
  {
   "cell_type": "markdown",
   "metadata": {},
   "source": [
    "地図上にデータを表示。  \n",
    "どんなことが読み取れますか？"
   ]
  },
  {
   "cell_type": "code",
   "execution_count": null,
   "metadata": {},
   "outputs": [],
   "source": [
    "# ヒストグラムの最大・最小を見ながらカラーマップを設定\n",
    "colormap = cm.LinearColormap(colors=['blue','red'], vmin=0,vmax=1000)\n",
    "\n",
    "m = folium.Map(location=new_york_city_coordinates, zoom_start=9.5)\n",
    "\n",
    "for index, row in ab_listings_no_too_expensive_sample_df.iterrows():\n",
    "    location = (row['latitude'], row['longitude'])\n",
    "    color = colormap(row['price'])\n",
    "    popup_message_html = f\"<p>\\\"{row['name']}\\\"</p><p>host: {row['host_name']}<p>price: ${row['price']:,}</p></p>\"\n",
    "    popup = folium.Popup(folium.IFrame(popup_message_html), min_width=400, max_width=400)\n",
    "\n",
    "    folium.Circle(location=location,\n",
    "                  radius=10,\n",
    "                  color=color,\n",
    "                  fill=True,\n",
    "                  fill_opacity=1,\n",
    "                  popup=popup).add_to(m)\n",
    "\n",
    "m"
   ]
  },
  {
   "cell_type": "code",
   "execution_count": null,
   "metadata": {},
   "outputs": [],
   "source": []
  }
 ],
 "metadata": {
  "interpreter": {
   "hash": "d109c1022d0269bfeb1214b0bec2187ee8bc4e794779a7e71ed964fc39a480b6"
  },
  "kernelspec": {
   "display_name": "Python 3 (ipykernel)",
   "language": "python",
   "name": "python3"
  },
  "language_info": {
   "codemirror_mode": {
    "name": "ipython",
    "version": 3
   },
   "file_extension": ".py",
   "mimetype": "text/x-python",
   "name": "python",
   "nbconvert_exporter": "python",
   "pygments_lexer": "ipython3",
   "version": "3.9.9"
  }
 },
 "nbformat": 4,
 "nbformat_minor": 2
}
