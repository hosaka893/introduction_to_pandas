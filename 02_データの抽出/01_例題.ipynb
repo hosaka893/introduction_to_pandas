{
 "cells": [
  {
   "cell_type": "markdown",
   "metadata": {},
   "source": [
    "以下のデータを取得して、`data`ディレクトリに配置。\n",
    "\n",
    "__New York City Airbnb Open Data__  \n",
    "  URL:  \n",
    "  ・https://www.kaggle.com/dgomonov/new-york-city-airbnb-open-data/  \n",
    "  DATA:  \n",
    "  ・AB_NYC_2019.csv"
   ]
  },
  {
   "cell_type": "code",
   "execution_count": null,
   "metadata": {},
   "outputs": [],
   "source": [
    "%matplotlib inline\n",
    "\n",
    "import folium\n",
    "import matplotlib.pyplot as plt\n",
    "import pandas as pd\n",
    "import seaborn as sns"
   ]
  },
  {
   "cell_type": "code",
   "execution_count": null,
   "metadata": {},
   "outputs": [],
   "source": []
  },
  {
   "cell_type": "markdown",
   "metadata": {},
   "source": [
    "### 1. 行、列の指定による抽出"
   ]
  },
  {
   "cell_type": "markdown",
   "metadata": {},
   "source": [
    "Airbnbの掲載データをロード。"
   ]
  },
  {
   "cell_type": "code",
   "execution_count": null,
   "metadata": {},
   "outputs": [],
   "source": [
    "ab_listings_df = pd.read_csv('data/AB_NYC_2019.csv')\n",
    "\n",
    "len(ab_listings_df)"
   ]
  },
  {
   "cell_type": "markdown",
   "metadata": {},
   "source": [
    "データの中身を確認。"
   ]
  },
  {
   "cell_type": "code",
   "execution_count": null,
   "metadata": {},
   "outputs": [],
   "source": [
    "ab_listings_df.head()"
   ]
  },
  {
   "cell_type": "markdown",
   "metadata": {},
   "source": [
    "#### 1-1. 行番号、列番号の指定\n",
    "行番号、列番号の指定には`iloc`属性を利用します。  \n",
    "`iloc`はメソッドではないので、角括弧に番号を指定します。"
   ]
  },
  {
   "cell_type": "markdown",
   "metadata": {},
   "source": [
    "３行目を抽出。"
   ]
  },
  {
   "cell_type": "code",
   "execution_count": null,
   "metadata": {},
   "outputs": [],
   "source": [
    "ab_listings_df.iloc[2] # 番号は0から始まる。"
   ]
  },
  {
   "cell_type": "markdown",
   "metadata": {},
   "source": [
    "6列目を抽出。  \n",
    "行を指定しない場合は「:」を置きます。"
   ]
  },
  {
   "cell_type": "code",
   "execution_count": null,
   "metadata": {},
   "outputs": [],
   "source": [
    "ab_listings_df.iloc[:,5] # 番号は0から始まる。"
   ]
  },
  {
   "cell_type": "markdown",
   "metadata": {},
   "source": [
    "2〜4行目を抽出。  \n",
    "「（始まりの番号）:（終わりの番号+1）」と指定。"
   ]
  },
  {
   "cell_type": "code",
   "execution_count": null,
   "metadata": {},
   "outputs": [],
   "source": [
    "ab_listings_df.iloc[1:4] # 番号は0から始まる。"
   ]
  },
  {
   "cell_type": "markdown",
   "metadata": {},
   "source": [
    "#### 1-2. 行ラベル、列ラベルの指定\n",
    "行番号、列番号の指定には`loc`属性を利用します。  \n",
    "`loc`もメソッドではないので、角括弧に番号を指定します。"
   ]
  },
  {
   "cell_type": "markdown",
   "metadata": {},
   "source": [
    "行ラベルを作るために`neighbourhood`でグループ分けします。"
   ]
  },
  {
   "cell_type": "code",
   "execution_count": null,
   "metadata": {},
   "outputs": [],
   "source": [
    "ab_listings_group_by_neighbourhood_df = ab_listings_df.groupby('neighbourhood').mean().round(2) # とりあえず平均。\n",
    "\n",
    "ab_listings_group_by_neighbourhood_df.head()"
   ]
  },
  {
   "cell_type": "markdown",
   "metadata": {},
   "source": [
    "行ラベルで抽出。"
   ]
  },
  {
   "cell_type": "code",
   "execution_count": null,
   "metadata": {},
   "outputs": [],
   "source": [
    "ab_listings_group_by_neighbourhood_df.loc['Arden Heights']"
   ]
  },
  {
   "cell_type": "markdown",
   "metadata": {},
   "source": [
    "列ラベルで抽出。  \n",
    "行を指定しない場合は「:」を置きます。"
   ]
  },
  {
   "cell_type": "code",
   "execution_count": null,
   "metadata": {},
   "outputs": [],
   "source": [
    "ab_listings_df.loc[:,'neighbourhood']"
   ]
  },
  {
   "cell_type": "markdown",
   "metadata": {},
   "source": [
    "列ラベルで抽出する場合は、`loc`を使わずにそのまま角括弧で指定してもOK。"
   ]
  },
  {
   "cell_type": "code",
   "execution_count": null,
   "metadata": {},
   "outputs": [],
   "source": [
    "ab_listings_df['neighbourhood']"
   ]
  },
  {
   "cell_type": "markdown",
   "metadata": {},
   "source": [
    "### 2. 条件指定による抽出"
   ]
  },
  {
   "cell_type": "markdown",
   "metadata": {},
   "source": [
    "たとえば「価格が100ドル未満」という判定を`price`にすると、データの行数分のブール値が返ってきます。"
   ]
  },
  {
   "cell_type": "code",
   "execution_count": null,
   "metadata": {},
   "outputs": [],
   "source": [
    "price_under_100_bool = ab_listings_df['price'] < 100\n",
    "\n",
    "price_under_100_bool.head(10)"
   ]
  },
  {
   "cell_type": "markdown",
   "metadata": {},
   "source": [
    "これを条件として角括弧に指定すると、Trueに該当する行のみが抽出されます。"
   ]
  },
  {
   "cell_type": "code",
   "execution_count": null,
   "metadata": {},
   "outputs": [],
   "source": [
    "price_under_100_df = ab_listings_df[price_under_100_bool]\n",
    "\n",
    "price_under_100_df.head()"
   ]
  },
  {
   "cell_type": "markdown",
   "metadata": {},
   "source": [
    "価格の最大値が100ドル以下であることを確認。"
   ]
  },
  {
   "cell_type": "code",
   "execution_count": null,
   "metadata": {},
   "outputs": [],
   "source": [
    "price_under_100_df['price'].max()"
   ]
  },
  {
   "cell_type": "markdown",
   "metadata": {},
   "source": [
    "`loc`でも同じ結果が得られます。"
   ]
  },
  {
   "cell_type": "code",
   "execution_count": null,
   "metadata": {},
   "outputs": [],
   "source": [
    "price_under_100_loc_df = ab_listings_df.loc[price_under_100_bool]\n",
    "\n",
    "price_under_100_loc_df.head()"
   ]
  },
  {
   "cell_type": "markdown",
   "metadata": {},
   "source": [
    "`query()`を利用することで、SQLのように書くこともできます。"
   ]
  },
  {
   "cell_type": "code",
   "execution_count": null,
   "metadata": {},
   "outputs": [],
   "source": [
    "ab_listings_df.query('host_name == \"LisaRoxanne\"')"
   ]
  },
  {
   "cell_type": "code",
   "execution_count": null,
   "metadata": {},
   "outputs": [],
   "source": [
    "ab_listings_df.query('365 < minimum_nights < 500')"
   ]
  },
  {
   "cell_type": "code",
   "execution_count": null,
   "metadata": {},
   "outputs": [],
   "source": []
  },
  {
   "cell_type": "markdown",
   "metadata": {},
   "source": [
    "### 3. ランダム抽出"
   ]
  },
  {
   "cell_type": "markdown",
   "metadata": {},
   "source": [
    "ランダム抽出は`sample()`を使えば簡単にできます。\n",
    "\n",
    "説明しやすいよう、毎回同じ結果となるように`random_state`を指定してあります。"
   ]
  },
  {
   "cell_type": "code",
   "execution_count": null,
   "metadata": {},
   "outputs": [],
   "source": [
    "ab_listings_sample_df = ab_listings_df.sample(frac=0.2, random_state=2) # 全体の20%を抽出\n",
    "\n",
    "len(ab_listings_sample_df) / len(ab_listings_df)"
   ]
  },
  {
   "cell_type": "markdown",
   "metadata": {},
   "source": [
    "ただし、単純に`sample()`で抽出してしまうと問題がある場合もあります。\n",
    "\n",
    "たとえばあるホスト（host_id=2787）は複数の物件を掲載していますが、その中の一部しか抽出されません。  \n",
    "この場合、ホストあたりの物件数に焦点を当てた分析が正しくおこなえません。"
   ]
  },
  {
   "cell_type": "code",
   "execution_count": null,
   "metadata": {},
   "outputs": [],
   "source": [
    "print(\"host_id=2787の物件数\")\n",
    "\n",
    "print(\"・抽出前: \", len(ab_listings_df.query('host_id == 2787')), \"件\")\n",
    "\n",
    "print(\"・抽出後: \", len(ab_listings_sample_df.query('host_id == 2787')), \"件\")"
   ]
  },
  {
   "cell_type": "markdown",
   "metadata": {},
   "source": [
    "この場合、ホスト単位で抽出をおこないます。  \n",
    "ただし、抽出件数が若干ずれる可能性があります。"
   ]
  },
  {
   "cell_type": "code",
   "execution_count": null,
   "metadata": {},
   "outputs": [],
   "source": [
    "host_id_sample = pd.Series(ab_listings_df['host_id'].unique()).sample(frac=0.2)\n",
    "\n",
    "ab_listings_sample_revised_df = ab_listings_df.query('host_id in @host_id_sample') # @マークで変数にアクセス可。\n",
    "\n",
    "ab_listings_sample_revised_df.head()"
   ]
  },
  {
   "cell_type": "markdown",
   "metadata": {},
   "source": [
    "データ数がおおよそ20%になっていることを確認。"
   ]
  },
  {
   "cell_type": "code",
   "execution_count": null,
   "metadata": {},
   "outputs": [],
   "source": [
    "len(ab_listings_sample_revised_df) / len(ab_listings_df)"
   ]
  },
  {
   "cell_type": "code",
   "execution_count": null,
   "metadata": {},
   "outputs": [],
   "source": []
  }
 ],
 "metadata": {
  "interpreter": {
   "hash": "d109c1022d0269bfeb1214b0bec2187ee8bc4e794779a7e71ed964fc39a480b6"
  },
  "kernelspec": {
   "display_name": "introduction_to_pandas",
   "language": "python",
   "name": "python3"
  },
  "language_info": {
   "codemirror_mode": {
    "name": "ipython",
    "version": 3
   },
   "file_extension": ".py",
   "mimetype": "text/x-python",
   "name": "python",
   "nbconvert_exporter": "python",
   "pygments_lexer": "ipython3",
   "version": "3.9.7"
  }
 },
 "nbformat": 4,
 "nbformat_minor": 2
}
